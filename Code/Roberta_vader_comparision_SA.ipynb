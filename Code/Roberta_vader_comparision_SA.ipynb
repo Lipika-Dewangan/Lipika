{
  "nbformat": 4,
  "nbformat_minor": 0,
  "metadata": {
    "colab": {
      "provenance": []
    },
    "kernelspec": {
      "name": "python3",
      "display_name": "Python 3"
    },
    "language_info": {
      "name": "python"
    },
    "widgets": {
      "application/vnd.jupyter.widget-state+json": {
        "85708c51bb51445aa375a2e0d7302a91": {
          "model_module": "@jupyter-widgets/controls",
          "model_name": "HBoxModel",
          "model_module_version": "1.5.0",
          "state": {
            "_dom_classes": [],
            "_model_module": "@jupyter-widgets/controls",
            "_model_module_version": "1.5.0",
            "_model_name": "HBoxModel",
            "_view_count": null,
            "_view_module": "@jupyter-widgets/controls",
            "_view_module_version": "1.5.0",
            "_view_name": "HBoxView",
            "box_style": "",
            "children": [
              "IPY_MODEL_a8d335ae161446b4970005e3c55b9d1f",
              "IPY_MODEL_6e608b5f64244aa0820a4098e9158f5d",
              "IPY_MODEL_6ed2c2ff173c48f6a3531b9bd2a28c6e"
            ],
            "layout": "IPY_MODEL_071b9a608869491ab35607ea39d1fe97"
          }
        },
        "a8d335ae161446b4970005e3c55b9d1f": {
          "model_module": "@jupyter-widgets/controls",
          "model_name": "HTMLModel",
          "model_module_version": "1.5.0",
          "state": {
            "_dom_classes": [],
            "_model_module": "@jupyter-widgets/controls",
            "_model_module_version": "1.5.0",
            "_model_name": "HTMLModel",
            "_view_count": null,
            "_view_module": "@jupyter-widgets/controls",
            "_view_module_version": "1.5.0",
            "_view_name": "HTMLView",
            "description": "",
            "description_tooltip": null,
            "layout": "IPY_MODEL_87a40edeb3a749ebb0e1c2f1e3e76591",
            "placeholder": "​",
            "style": "IPY_MODEL_3c3a5d7b626d47b8a8cf7ff04a4c22bc",
            "value": "100%"
          }
        },
        "6e608b5f64244aa0820a4098e9158f5d": {
          "model_module": "@jupyter-widgets/controls",
          "model_name": "FloatProgressModel",
          "model_module_version": "1.5.0",
          "state": {
            "_dom_classes": [],
            "_model_module": "@jupyter-widgets/controls",
            "_model_module_version": "1.5.0",
            "_model_name": "FloatProgressModel",
            "_view_count": null,
            "_view_module": "@jupyter-widgets/controls",
            "_view_module_version": "1.5.0",
            "_view_name": "ProgressView",
            "bar_style": "success",
            "description": "",
            "description_tooltip": null,
            "layout": "IPY_MODEL_12ebe71f75794744beb37fd4e4c39f73",
            "max": 500,
            "min": 0,
            "orientation": "horizontal",
            "style": "IPY_MODEL_0f5b13cf904a478a80ed345d5797905a",
            "value": 500
          }
        },
        "6ed2c2ff173c48f6a3531b9bd2a28c6e": {
          "model_module": "@jupyter-widgets/controls",
          "model_name": "HTMLModel",
          "model_module_version": "1.5.0",
          "state": {
            "_dom_classes": [],
            "_model_module": "@jupyter-widgets/controls",
            "_model_module_version": "1.5.0",
            "_model_name": "HTMLModel",
            "_view_count": null,
            "_view_module": "@jupyter-widgets/controls",
            "_view_module_version": "1.5.0",
            "_view_name": "HTMLView",
            "description": "",
            "description_tooltip": null,
            "layout": "IPY_MODEL_0ac15d6dc2144f869c6719ec882f5223",
            "placeholder": "​",
            "style": "IPY_MODEL_f8984aa48c5e436a9a5f640039bb7700",
            "value": " 500/500 [00:00&lt;00:00, 946.84it/s]"
          }
        },
        "071b9a608869491ab35607ea39d1fe97": {
          "model_module": "@jupyter-widgets/base",
          "model_name": "LayoutModel",
          "model_module_version": "1.2.0",
          "state": {
            "_model_module": "@jupyter-widgets/base",
            "_model_module_version": "1.2.0",
            "_model_name": "LayoutModel",
            "_view_count": null,
            "_view_module": "@jupyter-widgets/base",
            "_view_module_version": "1.2.0",
            "_view_name": "LayoutView",
            "align_content": null,
            "align_items": null,
            "align_self": null,
            "border": null,
            "bottom": null,
            "display": null,
            "flex": null,
            "flex_flow": null,
            "grid_area": null,
            "grid_auto_columns": null,
            "grid_auto_flow": null,
            "grid_auto_rows": null,
            "grid_column": null,
            "grid_gap": null,
            "grid_row": null,
            "grid_template_areas": null,
            "grid_template_columns": null,
            "grid_template_rows": null,
            "height": null,
            "justify_content": null,
            "justify_items": null,
            "left": null,
            "margin": null,
            "max_height": null,
            "max_width": null,
            "min_height": null,
            "min_width": null,
            "object_fit": null,
            "object_position": null,
            "order": null,
            "overflow": null,
            "overflow_x": null,
            "overflow_y": null,
            "padding": null,
            "right": null,
            "top": null,
            "visibility": null,
            "width": null
          }
        },
        "87a40edeb3a749ebb0e1c2f1e3e76591": {
          "model_module": "@jupyter-widgets/base",
          "model_name": "LayoutModel",
          "model_module_version": "1.2.0",
          "state": {
            "_model_module": "@jupyter-widgets/base",
            "_model_module_version": "1.2.0",
            "_model_name": "LayoutModel",
            "_view_count": null,
            "_view_module": "@jupyter-widgets/base",
            "_view_module_version": "1.2.0",
            "_view_name": "LayoutView",
            "align_content": null,
            "align_items": null,
            "align_self": null,
            "border": null,
            "bottom": null,
            "display": null,
            "flex": null,
            "flex_flow": null,
            "grid_area": null,
            "grid_auto_columns": null,
            "grid_auto_flow": null,
            "grid_auto_rows": null,
            "grid_column": null,
            "grid_gap": null,
            "grid_row": null,
            "grid_template_areas": null,
            "grid_template_columns": null,
            "grid_template_rows": null,
            "height": null,
            "justify_content": null,
            "justify_items": null,
            "left": null,
            "margin": null,
            "max_height": null,
            "max_width": null,
            "min_height": null,
            "min_width": null,
            "object_fit": null,
            "object_position": null,
            "order": null,
            "overflow": null,
            "overflow_x": null,
            "overflow_y": null,
            "padding": null,
            "right": null,
            "top": null,
            "visibility": null,
            "width": null
          }
        },
        "3c3a5d7b626d47b8a8cf7ff04a4c22bc": {
          "model_module": "@jupyter-widgets/controls",
          "model_name": "DescriptionStyleModel",
          "model_module_version": "1.5.0",
          "state": {
            "_model_module": "@jupyter-widgets/controls",
            "_model_module_version": "1.5.0",
            "_model_name": "DescriptionStyleModel",
            "_view_count": null,
            "_view_module": "@jupyter-widgets/base",
            "_view_module_version": "1.2.0",
            "_view_name": "StyleView",
            "description_width": ""
          }
        },
        "12ebe71f75794744beb37fd4e4c39f73": {
          "model_module": "@jupyter-widgets/base",
          "model_name": "LayoutModel",
          "model_module_version": "1.2.0",
          "state": {
            "_model_module": "@jupyter-widgets/base",
            "_model_module_version": "1.2.0",
            "_model_name": "LayoutModel",
            "_view_count": null,
            "_view_module": "@jupyter-widgets/base",
            "_view_module_version": "1.2.0",
            "_view_name": "LayoutView",
            "align_content": null,
            "align_items": null,
            "align_self": null,
            "border": null,
            "bottom": null,
            "display": null,
            "flex": null,
            "flex_flow": null,
            "grid_area": null,
            "grid_auto_columns": null,
            "grid_auto_flow": null,
            "grid_auto_rows": null,
            "grid_column": null,
            "grid_gap": null,
            "grid_row": null,
            "grid_template_areas": null,
            "grid_template_columns": null,
            "grid_template_rows": null,
            "height": null,
            "justify_content": null,
            "justify_items": null,
            "left": null,
            "margin": null,
            "max_height": null,
            "max_width": null,
            "min_height": null,
            "min_width": null,
            "object_fit": null,
            "object_position": null,
            "order": null,
            "overflow": null,
            "overflow_x": null,
            "overflow_y": null,
            "padding": null,
            "right": null,
            "top": null,
            "visibility": null,
            "width": null
          }
        },
        "0f5b13cf904a478a80ed345d5797905a": {
          "model_module": "@jupyter-widgets/controls",
          "model_name": "ProgressStyleModel",
          "model_module_version": "1.5.0",
          "state": {
            "_model_module": "@jupyter-widgets/controls",
            "_model_module_version": "1.5.0",
            "_model_name": "ProgressStyleModel",
            "_view_count": null,
            "_view_module": "@jupyter-widgets/base",
            "_view_module_version": "1.2.0",
            "_view_name": "StyleView",
            "bar_color": null,
            "description_width": ""
          }
        },
        "0ac15d6dc2144f869c6719ec882f5223": {
          "model_module": "@jupyter-widgets/base",
          "model_name": "LayoutModel",
          "model_module_version": "1.2.0",
          "state": {
            "_model_module": "@jupyter-widgets/base",
            "_model_module_version": "1.2.0",
            "_model_name": "LayoutModel",
            "_view_count": null,
            "_view_module": "@jupyter-widgets/base",
            "_view_module_version": "1.2.0",
            "_view_name": "LayoutView",
            "align_content": null,
            "align_items": null,
            "align_self": null,
            "border": null,
            "bottom": null,
            "display": null,
            "flex": null,
            "flex_flow": null,
            "grid_area": null,
            "grid_auto_columns": null,
            "grid_auto_flow": null,
            "grid_auto_rows": null,
            "grid_column": null,
            "grid_gap": null,
            "grid_row": null,
            "grid_template_areas": null,
            "grid_template_columns": null,
            "grid_template_rows": null,
            "height": null,
            "justify_content": null,
            "justify_items": null,
            "left": null,
            "margin": null,
            "max_height": null,
            "max_width": null,
            "min_height": null,
            "min_width": null,
            "object_fit": null,
            "object_position": null,
            "order": null,
            "overflow": null,
            "overflow_x": null,
            "overflow_y": null,
            "padding": null,
            "right": null,
            "top": null,
            "visibility": null,
            "width": null
          }
        },
        "f8984aa48c5e436a9a5f640039bb7700": {
          "model_module": "@jupyter-widgets/controls",
          "model_name": "DescriptionStyleModel",
          "model_module_version": "1.5.0",
          "state": {
            "_model_module": "@jupyter-widgets/controls",
            "_model_module_version": "1.5.0",
            "_model_name": "DescriptionStyleModel",
            "_view_count": null,
            "_view_module": "@jupyter-widgets/base",
            "_view_module_version": "1.2.0",
            "_view_name": "StyleView",
            "description_width": ""
          }
        },
        "b787a01cafe14a6aa6602080d229d097": {
          "model_module": "@jupyter-widgets/controls",
          "model_name": "HBoxModel",
          "model_module_version": "1.5.0",
          "state": {
            "_dom_classes": [],
            "_model_module": "@jupyter-widgets/controls",
            "_model_module_version": "1.5.0",
            "_model_name": "HBoxModel",
            "_view_count": null,
            "_view_module": "@jupyter-widgets/controls",
            "_view_module_version": "1.5.0",
            "_view_name": "HBoxView",
            "box_style": "",
            "children": [
              "IPY_MODEL_0b9ff45c3c9a4240b52d675474283dbf",
              "IPY_MODEL_5aa5971076d14ff197f8f38e01095ebf",
              "IPY_MODEL_b1fcf291f7414151ae35e0d2f7b93b24"
            ],
            "layout": "IPY_MODEL_31d72621708c4077a2c0dc93bdf901b4"
          }
        },
        "0b9ff45c3c9a4240b52d675474283dbf": {
          "model_module": "@jupyter-widgets/controls",
          "model_name": "HTMLModel",
          "model_module_version": "1.5.0",
          "state": {
            "_dom_classes": [],
            "_model_module": "@jupyter-widgets/controls",
            "_model_module_version": "1.5.0",
            "_model_name": "HTMLModel",
            "_view_count": null,
            "_view_module": "@jupyter-widgets/controls",
            "_view_module_version": "1.5.0",
            "_view_name": "HTMLView",
            "description": "",
            "description_tooltip": null,
            "layout": "IPY_MODEL_ec1507c781424ab993821d31fd2ac1cb",
            "placeholder": "​",
            "style": "IPY_MODEL_850443d82c8948c2929569961e3b0515",
            "value": "100%"
          }
        },
        "5aa5971076d14ff197f8f38e01095ebf": {
          "model_module": "@jupyter-widgets/controls",
          "model_name": "FloatProgressModel",
          "model_module_version": "1.5.0",
          "state": {
            "_dom_classes": [],
            "_model_module": "@jupyter-widgets/controls",
            "_model_module_version": "1.5.0",
            "_model_name": "FloatProgressModel",
            "_view_count": null,
            "_view_module": "@jupyter-widgets/controls",
            "_view_module_version": "1.5.0",
            "_view_name": "ProgressView",
            "bar_style": "success",
            "description": "",
            "description_tooltip": null,
            "layout": "IPY_MODEL_47e304526a1d4a3496c98f8bcc73a97b",
            "max": 500,
            "min": 0,
            "orientation": "horizontal",
            "style": "IPY_MODEL_ee25f41739314fba8781a64a455c4afd",
            "value": 500
          }
        },
        "b1fcf291f7414151ae35e0d2f7b93b24": {
          "model_module": "@jupyter-widgets/controls",
          "model_name": "HTMLModel",
          "model_module_version": "1.5.0",
          "state": {
            "_dom_classes": [],
            "_model_module": "@jupyter-widgets/controls",
            "_model_module_version": "1.5.0",
            "_model_name": "HTMLModel",
            "_view_count": null,
            "_view_module": "@jupyter-widgets/controls",
            "_view_module_version": "1.5.0",
            "_view_name": "HTMLView",
            "description": "",
            "description_tooltip": null,
            "layout": "IPY_MODEL_965cf9282b4d4d39a4d14d4fc4367fff",
            "placeholder": "​",
            "style": "IPY_MODEL_586834a5b7d54c5d95c06b9b31a15112",
            "value": " 500/500 [02:48&lt;00:00,  2.85it/s]"
          }
        },
        "31d72621708c4077a2c0dc93bdf901b4": {
          "model_module": "@jupyter-widgets/base",
          "model_name": "LayoutModel",
          "model_module_version": "1.2.0",
          "state": {
            "_model_module": "@jupyter-widgets/base",
            "_model_module_version": "1.2.0",
            "_model_name": "LayoutModel",
            "_view_count": null,
            "_view_module": "@jupyter-widgets/base",
            "_view_module_version": "1.2.0",
            "_view_name": "LayoutView",
            "align_content": null,
            "align_items": null,
            "align_self": null,
            "border": null,
            "bottom": null,
            "display": null,
            "flex": null,
            "flex_flow": null,
            "grid_area": null,
            "grid_auto_columns": null,
            "grid_auto_flow": null,
            "grid_auto_rows": null,
            "grid_column": null,
            "grid_gap": null,
            "grid_row": null,
            "grid_template_areas": null,
            "grid_template_columns": null,
            "grid_template_rows": null,
            "height": null,
            "justify_content": null,
            "justify_items": null,
            "left": null,
            "margin": null,
            "max_height": null,
            "max_width": null,
            "min_height": null,
            "min_width": null,
            "object_fit": null,
            "object_position": null,
            "order": null,
            "overflow": null,
            "overflow_x": null,
            "overflow_y": null,
            "padding": null,
            "right": null,
            "top": null,
            "visibility": null,
            "width": null
          }
        },
        "ec1507c781424ab993821d31fd2ac1cb": {
          "model_module": "@jupyter-widgets/base",
          "model_name": "LayoutModel",
          "model_module_version": "1.2.0",
          "state": {
            "_model_module": "@jupyter-widgets/base",
            "_model_module_version": "1.2.0",
            "_model_name": "LayoutModel",
            "_view_count": null,
            "_view_module": "@jupyter-widgets/base",
            "_view_module_version": "1.2.0",
            "_view_name": "LayoutView",
            "align_content": null,
            "align_items": null,
            "align_self": null,
            "border": null,
            "bottom": null,
            "display": null,
            "flex": null,
            "flex_flow": null,
            "grid_area": null,
            "grid_auto_columns": null,
            "grid_auto_flow": null,
            "grid_auto_rows": null,
            "grid_column": null,
            "grid_gap": null,
            "grid_row": null,
            "grid_template_areas": null,
            "grid_template_columns": null,
            "grid_template_rows": null,
            "height": null,
            "justify_content": null,
            "justify_items": null,
            "left": null,
            "margin": null,
            "max_height": null,
            "max_width": null,
            "min_height": null,
            "min_width": null,
            "object_fit": null,
            "object_position": null,
            "order": null,
            "overflow": null,
            "overflow_x": null,
            "overflow_y": null,
            "padding": null,
            "right": null,
            "top": null,
            "visibility": null,
            "width": null
          }
        },
        "850443d82c8948c2929569961e3b0515": {
          "model_module": "@jupyter-widgets/controls",
          "model_name": "DescriptionStyleModel",
          "model_module_version": "1.5.0",
          "state": {
            "_model_module": "@jupyter-widgets/controls",
            "_model_module_version": "1.5.0",
            "_model_name": "DescriptionStyleModel",
            "_view_count": null,
            "_view_module": "@jupyter-widgets/base",
            "_view_module_version": "1.2.0",
            "_view_name": "StyleView",
            "description_width": ""
          }
        },
        "47e304526a1d4a3496c98f8bcc73a97b": {
          "model_module": "@jupyter-widgets/base",
          "model_name": "LayoutModel",
          "model_module_version": "1.2.0",
          "state": {
            "_model_module": "@jupyter-widgets/base",
            "_model_module_version": "1.2.0",
            "_model_name": "LayoutModel",
            "_view_count": null,
            "_view_module": "@jupyter-widgets/base",
            "_view_module_version": "1.2.0",
            "_view_name": "LayoutView",
            "align_content": null,
            "align_items": null,
            "align_self": null,
            "border": null,
            "bottom": null,
            "display": null,
            "flex": null,
            "flex_flow": null,
            "grid_area": null,
            "grid_auto_columns": null,
            "grid_auto_flow": null,
            "grid_auto_rows": null,
            "grid_column": null,
            "grid_gap": null,
            "grid_row": null,
            "grid_template_areas": null,
            "grid_template_columns": null,
            "grid_template_rows": null,
            "height": null,
            "justify_content": null,
            "justify_items": null,
            "left": null,
            "margin": null,
            "max_height": null,
            "max_width": null,
            "min_height": null,
            "min_width": null,
            "object_fit": null,
            "object_position": null,
            "order": null,
            "overflow": null,
            "overflow_x": null,
            "overflow_y": null,
            "padding": null,
            "right": null,
            "top": null,
            "visibility": null,
            "width": null
          }
        },
        "ee25f41739314fba8781a64a455c4afd": {
          "model_module": "@jupyter-widgets/controls",
          "model_name": "ProgressStyleModel",
          "model_module_version": "1.5.0",
          "state": {
            "_model_module": "@jupyter-widgets/controls",
            "_model_module_version": "1.5.0",
            "_model_name": "ProgressStyleModel",
            "_view_count": null,
            "_view_module": "@jupyter-widgets/base",
            "_view_module_version": "1.2.0",
            "_view_name": "StyleView",
            "bar_color": null,
            "description_width": ""
          }
        },
        "965cf9282b4d4d39a4d14d4fc4367fff": {
          "model_module": "@jupyter-widgets/base",
          "model_name": "LayoutModel",
          "model_module_version": "1.2.0",
          "state": {
            "_model_module": "@jupyter-widgets/base",
            "_model_module_version": "1.2.0",
            "_model_name": "LayoutModel",
            "_view_count": null,
            "_view_module": "@jupyter-widgets/base",
            "_view_module_version": "1.2.0",
            "_view_name": "LayoutView",
            "align_content": null,
            "align_items": null,
            "align_self": null,
            "border": null,
            "bottom": null,
            "display": null,
            "flex": null,
            "flex_flow": null,
            "grid_area": null,
            "grid_auto_columns": null,
            "grid_auto_flow": null,
            "grid_auto_rows": null,
            "grid_column": null,
            "grid_gap": null,
            "grid_row": null,
            "grid_template_areas": null,
            "grid_template_columns": null,
            "grid_template_rows": null,
            "height": null,
            "justify_content": null,
            "justify_items": null,
            "left": null,
            "margin": null,
            "max_height": null,
            "max_width": null,
            "min_height": null,
            "min_width": null,
            "object_fit": null,
            "object_position": null,
            "order": null,
            "overflow": null,
            "overflow_x": null,
            "overflow_y": null,
            "padding": null,
            "right": null,
            "top": null,
            "visibility": null,
            "width": null
          }
        },
        "586834a5b7d54c5d95c06b9b31a15112": {
          "model_module": "@jupyter-widgets/controls",
          "model_name": "DescriptionStyleModel",
          "model_module_version": "1.5.0",
          "state": {
            "_model_module": "@jupyter-widgets/controls",
            "_model_module_version": "1.5.0",
            "_model_name": "DescriptionStyleModel",
            "_view_count": null,
            "_view_module": "@jupyter-widgets/base",
            "_view_module_version": "1.2.0",
            "_view_name": "StyleView",
            "description_width": ""
          }
        },
        "7e70302c2e9540b3807cdd80cb02c9f0": {
          "model_module": "@jupyter-widgets/controls",
          "model_name": "HBoxModel",
          "model_module_version": "1.5.0",
          "state": {
            "_dom_classes": [],
            "_model_module": "@jupyter-widgets/controls",
            "_model_module_version": "1.5.0",
            "_model_name": "HBoxModel",
            "_view_count": null,
            "_view_module": "@jupyter-widgets/controls",
            "_view_module_version": "1.5.0",
            "_view_name": "HBoxView",
            "box_style": "",
            "children": [
              "IPY_MODEL_29872dea3f504d669ad2146c3a79c6c5",
              "IPY_MODEL_626d967a4c48445d895c65caf5eef72c",
              "IPY_MODEL_cfc4a0fd023445ec8051c6ee56510881"
            ],
            "layout": "IPY_MODEL_3ec759d6b0634570975e48cb86816206"
          }
        },
        "29872dea3f504d669ad2146c3a79c6c5": {
          "model_module": "@jupyter-widgets/controls",
          "model_name": "HTMLModel",
          "model_module_version": "1.5.0",
          "state": {
            "_dom_classes": [],
            "_model_module": "@jupyter-widgets/controls",
            "_model_module_version": "1.5.0",
            "_model_name": "HTMLModel",
            "_view_count": null,
            "_view_module": "@jupyter-widgets/controls",
            "_view_module_version": "1.5.0",
            "_view_name": "HTMLView",
            "description": "",
            "description_tooltip": null,
            "layout": "IPY_MODEL_801f558e53e841a0b10c9207390048e8",
            "placeholder": "​",
            "style": "IPY_MODEL_6cce0e03b55a41cd9971d1ca8488c212",
            "value": "Downloading: 100%"
          }
        },
        "626d967a4c48445d895c65caf5eef72c": {
          "model_module": "@jupyter-widgets/controls",
          "model_name": "FloatProgressModel",
          "model_module_version": "1.5.0",
          "state": {
            "_dom_classes": [],
            "_model_module": "@jupyter-widgets/controls",
            "_model_module_version": "1.5.0",
            "_model_name": "FloatProgressModel",
            "_view_count": null,
            "_view_module": "@jupyter-widgets/controls",
            "_view_module_version": "1.5.0",
            "_view_name": "ProgressView",
            "bar_style": "success",
            "description": "",
            "description_tooltip": null,
            "layout": "IPY_MODEL_afce174ebc2542cea2b1eb479c7205e8",
            "max": 629,
            "min": 0,
            "orientation": "horizontal",
            "style": "IPY_MODEL_e023e22e78174ff29735b59ad618a5ff",
            "value": 629
          }
        },
        "cfc4a0fd023445ec8051c6ee56510881": {
          "model_module": "@jupyter-widgets/controls",
          "model_name": "HTMLModel",
          "model_module_version": "1.5.0",
          "state": {
            "_dom_classes": [],
            "_model_module": "@jupyter-widgets/controls",
            "_model_module_version": "1.5.0",
            "_model_name": "HTMLModel",
            "_view_count": null,
            "_view_module": "@jupyter-widgets/controls",
            "_view_module_version": "1.5.0",
            "_view_name": "HTMLView",
            "description": "",
            "description_tooltip": null,
            "layout": "IPY_MODEL_84517c06a68d40f8a1c5dfa3e0680725",
            "placeholder": "​",
            "style": "IPY_MODEL_6ab671afa6a34f36bcfb0b7e4be14704",
            "value": " 629/629 [00:00&lt;00:00, 20.6kB/s]"
          }
        },
        "3ec759d6b0634570975e48cb86816206": {
          "model_module": "@jupyter-widgets/base",
          "model_name": "LayoutModel",
          "model_module_version": "1.2.0",
          "state": {
            "_model_module": "@jupyter-widgets/base",
            "_model_module_version": "1.2.0",
            "_model_name": "LayoutModel",
            "_view_count": null,
            "_view_module": "@jupyter-widgets/base",
            "_view_module_version": "1.2.0",
            "_view_name": "LayoutView",
            "align_content": null,
            "align_items": null,
            "align_self": null,
            "border": null,
            "bottom": null,
            "display": null,
            "flex": null,
            "flex_flow": null,
            "grid_area": null,
            "grid_auto_columns": null,
            "grid_auto_flow": null,
            "grid_auto_rows": null,
            "grid_column": null,
            "grid_gap": null,
            "grid_row": null,
            "grid_template_areas": null,
            "grid_template_columns": null,
            "grid_template_rows": null,
            "height": null,
            "justify_content": null,
            "justify_items": null,
            "left": null,
            "margin": null,
            "max_height": null,
            "max_width": null,
            "min_height": null,
            "min_width": null,
            "object_fit": null,
            "object_position": null,
            "order": null,
            "overflow": null,
            "overflow_x": null,
            "overflow_y": null,
            "padding": null,
            "right": null,
            "top": null,
            "visibility": null,
            "width": null
          }
        },
        "801f558e53e841a0b10c9207390048e8": {
          "model_module": "@jupyter-widgets/base",
          "model_name": "LayoutModel",
          "model_module_version": "1.2.0",
          "state": {
            "_model_module": "@jupyter-widgets/base",
            "_model_module_version": "1.2.0",
            "_model_name": "LayoutModel",
            "_view_count": null,
            "_view_module": "@jupyter-widgets/base",
            "_view_module_version": "1.2.0",
            "_view_name": "LayoutView",
            "align_content": null,
            "align_items": null,
            "align_self": null,
            "border": null,
            "bottom": null,
            "display": null,
            "flex": null,
            "flex_flow": null,
            "grid_area": null,
            "grid_auto_columns": null,
            "grid_auto_flow": null,
            "grid_auto_rows": null,
            "grid_column": null,
            "grid_gap": null,
            "grid_row": null,
            "grid_template_areas": null,
            "grid_template_columns": null,
            "grid_template_rows": null,
            "height": null,
            "justify_content": null,
            "justify_items": null,
            "left": null,
            "margin": null,
            "max_height": null,
            "max_width": null,
            "min_height": null,
            "min_width": null,
            "object_fit": null,
            "object_position": null,
            "order": null,
            "overflow": null,
            "overflow_x": null,
            "overflow_y": null,
            "padding": null,
            "right": null,
            "top": null,
            "visibility": null,
            "width": null
          }
        },
        "6cce0e03b55a41cd9971d1ca8488c212": {
          "model_module": "@jupyter-widgets/controls",
          "model_name": "DescriptionStyleModel",
          "model_module_version": "1.5.0",
          "state": {
            "_model_module": "@jupyter-widgets/controls",
            "_model_module_version": "1.5.0",
            "_model_name": "DescriptionStyleModel",
            "_view_count": null,
            "_view_module": "@jupyter-widgets/base",
            "_view_module_version": "1.2.0",
            "_view_name": "StyleView",
            "description_width": ""
          }
        },
        "afce174ebc2542cea2b1eb479c7205e8": {
          "model_module": "@jupyter-widgets/base",
          "model_name": "LayoutModel",
          "model_module_version": "1.2.0",
          "state": {
            "_model_module": "@jupyter-widgets/base",
            "_model_module_version": "1.2.0",
            "_model_name": "LayoutModel",
            "_view_count": null,
            "_view_module": "@jupyter-widgets/base",
            "_view_module_version": "1.2.0",
            "_view_name": "LayoutView",
            "align_content": null,
            "align_items": null,
            "align_self": null,
            "border": null,
            "bottom": null,
            "display": null,
            "flex": null,
            "flex_flow": null,
            "grid_area": null,
            "grid_auto_columns": null,
            "grid_auto_flow": null,
            "grid_auto_rows": null,
            "grid_column": null,
            "grid_gap": null,
            "grid_row": null,
            "grid_template_areas": null,
            "grid_template_columns": null,
            "grid_template_rows": null,
            "height": null,
            "justify_content": null,
            "justify_items": null,
            "left": null,
            "margin": null,
            "max_height": null,
            "max_width": null,
            "min_height": null,
            "min_width": null,
            "object_fit": null,
            "object_position": null,
            "order": null,
            "overflow": null,
            "overflow_x": null,
            "overflow_y": null,
            "padding": null,
            "right": null,
            "top": null,
            "visibility": null,
            "width": null
          }
        },
        "e023e22e78174ff29735b59ad618a5ff": {
          "model_module": "@jupyter-widgets/controls",
          "model_name": "ProgressStyleModel",
          "model_module_version": "1.5.0",
          "state": {
            "_model_module": "@jupyter-widgets/controls",
            "_model_module_version": "1.5.0",
            "_model_name": "ProgressStyleModel",
            "_view_count": null,
            "_view_module": "@jupyter-widgets/base",
            "_view_module_version": "1.2.0",
            "_view_name": "StyleView",
            "bar_color": null,
            "description_width": ""
          }
        },
        "84517c06a68d40f8a1c5dfa3e0680725": {
          "model_module": "@jupyter-widgets/base",
          "model_name": "LayoutModel",
          "model_module_version": "1.2.0",
          "state": {
            "_model_module": "@jupyter-widgets/base",
            "_model_module_version": "1.2.0",
            "_model_name": "LayoutModel",
            "_view_count": null,
            "_view_module": "@jupyter-widgets/base",
            "_view_module_version": "1.2.0",
            "_view_name": "LayoutView",
            "align_content": null,
            "align_items": null,
            "align_self": null,
            "border": null,
            "bottom": null,
            "display": null,
            "flex": null,
            "flex_flow": null,
            "grid_area": null,
            "grid_auto_columns": null,
            "grid_auto_flow": null,
            "grid_auto_rows": null,
            "grid_column": null,
            "grid_gap": null,
            "grid_row": null,
            "grid_template_areas": null,
            "grid_template_columns": null,
            "grid_template_rows": null,
            "height": null,
            "justify_content": null,
            "justify_items": null,
            "left": null,
            "margin": null,
            "max_height": null,
            "max_width": null,
            "min_height": null,
            "min_width": null,
            "object_fit": null,
            "object_position": null,
            "order": null,
            "overflow": null,
            "overflow_x": null,
            "overflow_y": null,
            "padding": null,
            "right": null,
            "top": null,
            "visibility": null,
            "width": null
          }
        },
        "6ab671afa6a34f36bcfb0b7e4be14704": {
          "model_module": "@jupyter-widgets/controls",
          "model_name": "DescriptionStyleModel",
          "model_module_version": "1.5.0",
          "state": {
            "_model_module": "@jupyter-widgets/controls",
            "_model_module_version": "1.5.0",
            "_model_name": "DescriptionStyleModel",
            "_view_count": null,
            "_view_module": "@jupyter-widgets/base",
            "_view_module_version": "1.2.0",
            "_view_name": "StyleView",
            "description_width": ""
          }
        },
        "8417155cb15447b495af9a127d63322e": {
          "model_module": "@jupyter-widgets/controls",
          "model_name": "HBoxModel",
          "model_module_version": "1.5.0",
          "state": {
            "_dom_classes": [],
            "_model_module": "@jupyter-widgets/controls",
            "_model_module_version": "1.5.0",
            "_model_name": "HBoxModel",
            "_view_count": null,
            "_view_module": "@jupyter-widgets/controls",
            "_view_module_version": "1.5.0",
            "_view_name": "HBoxView",
            "box_style": "",
            "children": [
              "IPY_MODEL_e2f8a8cd302c4e87b9bf44c18b64fbcd",
              "IPY_MODEL_b75436aa53d2488b94468a0e69a1c6bb",
              "IPY_MODEL_d706d114361241038c7d619f56b4dec8"
            ],
            "layout": "IPY_MODEL_a6a968706852465f92b611f03790c2b7"
          }
        },
        "e2f8a8cd302c4e87b9bf44c18b64fbcd": {
          "model_module": "@jupyter-widgets/controls",
          "model_name": "HTMLModel",
          "model_module_version": "1.5.0",
          "state": {
            "_dom_classes": [],
            "_model_module": "@jupyter-widgets/controls",
            "_model_module_version": "1.5.0",
            "_model_name": "HTMLModel",
            "_view_count": null,
            "_view_module": "@jupyter-widgets/controls",
            "_view_module_version": "1.5.0",
            "_view_name": "HTMLView",
            "description": "",
            "description_tooltip": null,
            "layout": "IPY_MODEL_a572d0360e2149d58dabe86a11e89390",
            "placeholder": "​",
            "style": "IPY_MODEL_eb521721c06144248e9aaad5ac3254cc",
            "value": "Downloading: 100%"
          }
        },
        "b75436aa53d2488b94468a0e69a1c6bb": {
          "model_module": "@jupyter-widgets/controls",
          "model_name": "FloatProgressModel",
          "model_module_version": "1.5.0",
          "state": {
            "_dom_classes": [],
            "_model_module": "@jupyter-widgets/controls",
            "_model_module_version": "1.5.0",
            "_model_name": "FloatProgressModel",
            "_view_count": null,
            "_view_module": "@jupyter-widgets/controls",
            "_view_module_version": "1.5.0",
            "_view_name": "ProgressView",
            "bar_style": "success",
            "description": "",
            "description_tooltip": null,
            "layout": "IPY_MODEL_c8a9b796c49d4ef98bcda1fb3fec0864",
            "max": 267844284,
            "min": 0,
            "orientation": "horizontal",
            "style": "IPY_MODEL_3031999bee5d49a7bb79928e6de668b2",
            "value": 267844284
          }
        },
        "d706d114361241038c7d619f56b4dec8": {
          "model_module": "@jupyter-widgets/controls",
          "model_name": "HTMLModel",
          "model_module_version": "1.5.0",
          "state": {
            "_dom_classes": [],
            "_model_module": "@jupyter-widgets/controls",
            "_model_module_version": "1.5.0",
            "_model_name": "HTMLModel",
            "_view_count": null,
            "_view_module": "@jupyter-widgets/controls",
            "_view_module_version": "1.5.0",
            "_view_name": "HTMLView",
            "description": "",
            "description_tooltip": null,
            "layout": "IPY_MODEL_c55d0f001a5449529c9c3e0c501298bd",
            "placeholder": "​",
            "style": "IPY_MODEL_23803dcd46dc4d818db18052e3b23933",
            "value": " 268M/268M [00:05&lt;00:00, 36.5MB/s]"
          }
        },
        "a6a968706852465f92b611f03790c2b7": {
          "model_module": "@jupyter-widgets/base",
          "model_name": "LayoutModel",
          "model_module_version": "1.2.0",
          "state": {
            "_model_module": "@jupyter-widgets/base",
            "_model_module_version": "1.2.0",
            "_model_name": "LayoutModel",
            "_view_count": null,
            "_view_module": "@jupyter-widgets/base",
            "_view_module_version": "1.2.0",
            "_view_name": "LayoutView",
            "align_content": null,
            "align_items": null,
            "align_self": null,
            "border": null,
            "bottom": null,
            "display": null,
            "flex": null,
            "flex_flow": null,
            "grid_area": null,
            "grid_auto_columns": null,
            "grid_auto_flow": null,
            "grid_auto_rows": null,
            "grid_column": null,
            "grid_gap": null,
            "grid_row": null,
            "grid_template_areas": null,
            "grid_template_columns": null,
            "grid_template_rows": null,
            "height": null,
            "justify_content": null,
            "justify_items": null,
            "left": null,
            "margin": null,
            "max_height": null,
            "max_width": null,
            "min_height": null,
            "min_width": null,
            "object_fit": null,
            "object_position": null,
            "order": null,
            "overflow": null,
            "overflow_x": null,
            "overflow_y": null,
            "padding": null,
            "right": null,
            "top": null,
            "visibility": null,
            "width": null
          }
        },
        "a572d0360e2149d58dabe86a11e89390": {
          "model_module": "@jupyter-widgets/base",
          "model_name": "LayoutModel",
          "model_module_version": "1.2.0",
          "state": {
            "_model_module": "@jupyter-widgets/base",
            "_model_module_version": "1.2.0",
            "_model_name": "LayoutModel",
            "_view_count": null,
            "_view_module": "@jupyter-widgets/base",
            "_view_module_version": "1.2.0",
            "_view_name": "LayoutView",
            "align_content": null,
            "align_items": null,
            "align_self": null,
            "border": null,
            "bottom": null,
            "display": null,
            "flex": null,
            "flex_flow": null,
            "grid_area": null,
            "grid_auto_columns": null,
            "grid_auto_flow": null,
            "grid_auto_rows": null,
            "grid_column": null,
            "grid_gap": null,
            "grid_row": null,
            "grid_template_areas": null,
            "grid_template_columns": null,
            "grid_template_rows": null,
            "height": null,
            "justify_content": null,
            "justify_items": null,
            "left": null,
            "margin": null,
            "max_height": null,
            "max_width": null,
            "min_height": null,
            "min_width": null,
            "object_fit": null,
            "object_position": null,
            "order": null,
            "overflow": null,
            "overflow_x": null,
            "overflow_y": null,
            "padding": null,
            "right": null,
            "top": null,
            "visibility": null,
            "width": null
          }
        },
        "eb521721c06144248e9aaad5ac3254cc": {
          "model_module": "@jupyter-widgets/controls",
          "model_name": "DescriptionStyleModel",
          "model_module_version": "1.5.0",
          "state": {
            "_model_module": "@jupyter-widgets/controls",
            "_model_module_version": "1.5.0",
            "_model_name": "DescriptionStyleModel",
            "_view_count": null,
            "_view_module": "@jupyter-widgets/base",
            "_view_module_version": "1.2.0",
            "_view_name": "StyleView",
            "description_width": ""
          }
        },
        "c8a9b796c49d4ef98bcda1fb3fec0864": {
          "model_module": "@jupyter-widgets/base",
          "model_name": "LayoutModel",
          "model_module_version": "1.2.0",
          "state": {
            "_model_module": "@jupyter-widgets/base",
            "_model_module_version": "1.2.0",
            "_model_name": "LayoutModel",
            "_view_count": null,
            "_view_module": "@jupyter-widgets/base",
            "_view_module_version": "1.2.0",
            "_view_name": "LayoutView",
            "align_content": null,
            "align_items": null,
            "align_self": null,
            "border": null,
            "bottom": null,
            "display": null,
            "flex": null,
            "flex_flow": null,
            "grid_area": null,
            "grid_auto_columns": null,
            "grid_auto_flow": null,
            "grid_auto_rows": null,
            "grid_column": null,
            "grid_gap": null,
            "grid_row": null,
            "grid_template_areas": null,
            "grid_template_columns": null,
            "grid_template_rows": null,
            "height": null,
            "justify_content": null,
            "justify_items": null,
            "left": null,
            "margin": null,
            "max_height": null,
            "max_width": null,
            "min_height": null,
            "min_width": null,
            "object_fit": null,
            "object_position": null,
            "order": null,
            "overflow": null,
            "overflow_x": null,
            "overflow_y": null,
            "padding": null,
            "right": null,
            "top": null,
            "visibility": null,
            "width": null
          }
        },
        "3031999bee5d49a7bb79928e6de668b2": {
          "model_module": "@jupyter-widgets/controls",
          "model_name": "ProgressStyleModel",
          "model_module_version": "1.5.0",
          "state": {
            "_model_module": "@jupyter-widgets/controls",
            "_model_module_version": "1.5.0",
            "_model_name": "ProgressStyleModel",
            "_view_count": null,
            "_view_module": "@jupyter-widgets/base",
            "_view_module_version": "1.2.0",
            "_view_name": "StyleView",
            "bar_color": null,
            "description_width": ""
          }
        },
        "c55d0f001a5449529c9c3e0c501298bd": {
          "model_module": "@jupyter-widgets/base",
          "model_name": "LayoutModel",
          "model_module_version": "1.2.0",
          "state": {
            "_model_module": "@jupyter-widgets/base",
            "_model_module_version": "1.2.0",
            "_model_name": "LayoutModel",
            "_view_count": null,
            "_view_module": "@jupyter-widgets/base",
            "_view_module_version": "1.2.0",
            "_view_name": "LayoutView",
            "align_content": null,
            "align_items": null,
            "align_self": null,
            "border": null,
            "bottom": null,
            "display": null,
            "flex": null,
            "flex_flow": null,
            "grid_area": null,
            "grid_auto_columns": null,
            "grid_auto_flow": null,
            "grid_auto_rows": null,
            "grid_column": null,
            "grid_gap": null,
            "grid_row": null,
            "grid_template_areas": null,
            "grid_template_columns": null,
            "grid_template_rows": null,
            "height": null,
            "justify_content": null,
            "justify_items": null,
            "left": null,
            "margin": null,
            "max_height": null,
            "max_width": null,
            "min_height": null,
            "min_width": null,
            "object_fit": null,
            "object_position": null,
            "order": null,
            "overflow": null,
            "overflow_x": null,
            "overflow_y": null,
            "padding": null,
            "right": null,
            "top": null,
            "visibility": null,
            "width": null
          }
        },
        "23803dcd46dc4d818db18052e3b23933": {
          "model_module": "@jupyter-widgets/controls",
          "model_name": "DescriptionStyleModel",
          "model_module_version": "1.5.0",
          "state": {
            "_model_module": "@jupyter-widgets/controls",
            "_model_module_version": "1.5.0",
            "_model_name": "DescriptionStyleModel",
            "_view_count": null,
            "_view_module": "@jupyter-widgets/base",
            "_view_module_version": "1.2.0",
            "_view_name": "StyleView",
            "description_width": ""
          }
        },
        "948e9fedd7b44f7191aa56bb1b482bed": {
          "model_module": "@jupyter-widgets/controls",
          "model_name": "HBoxModel",
          "model_module_version": "1.5.0",
          "state": {
            "_dom_classes": [],
            "_model_module": "@jupyter-widgets/controls",
            "_model_module_version": "1.5.0",
            "_model_name": "HBoxModel",
            "_view_count": null,
            "_view_module": "@jupyter-widgets/controls",
            "_view_module_version": "1.5.0",
            "_view_name": "HBoxView",
            "box_style": "",
            "children": [
              "IPY_MODEL_43c5920e078b44d9be8592cee735ad60",
              "IPY_MODEL_6b0757c6f05e4e55aaf307041b30f71c",
              "IPY_MODEL_d8d145f9b7d04565a0c5276a993fbb7d"
            ],
            "layout": "IPY_MODEL_3f9de4e26a4d44a4bc35593c1c39eb5c"
          }
        },
        "43c5920e078b44d9be8592cee735ad60": {
          "model_module": "@jupyter-widgets/controls",
          "model_name": "HTMLModel",
          "model_module_version": "1.5.0",
          "state": {
            "_dom_classes": [],
            "_model_module": "@jupyter-widgets/controls",
            "_model_module_version": "1.5.0",
            "_model_name": "HTMLModel",
            "_view_count": null,
            "_view_module": "@jupyter-widgets/controls",
            "_view_module_version": "1.5.0",
            "_view_name": "HTMLView",
            "description": "",
            "description_tooltip": null,
            "layout": "IPY_MODEL_273f118a08ed4a6bbd8ff6cee695ce11",
            "placeholder": "​",
            "style": "IPY_MODEL_90137d1c2e0e4a009c2f94e1c17ac783",
            "value": "Downloading: 100%"
          }
        },
        "6b0757c6f05e4e55aaf307041b30f71c": {
          "model_module": "@jupyter-widgets/controls",
          "model_name": "FloatProgressModel",
          "model_module_version": "1.5.0",
          "state": {
            "_dom_classes": [],
            "_model_module": "@jupyter-widgets/controls",
            "_model_module_version": "1.5.0",
            "_model_name": "FloatProgressModel",
            "_view_count": null,
            "_view_module": "@jupyter-widgets/controls",
            "_view_module_version": "1.5.0",
            "_view_name": "ProgressView",
            "bar_style": "success",
            "description": "",
            "description_tooltip": null,
            "layout": "IPY_MODEL_ca821dabb6b84ba0bb3e8315eaeabdf0",
            "max": 48,
            "min": 0,
            "orientation": "horizontal",
            "style": "IPY_MODEL_b33071a0a6d24a57b079f9acb596cdfe",
            "value": 48
          }
        },
        "d8d145f9b7d04565a0c5276a993fbb7d": {
          "model_module": "@jupyter-widgets/controls",
          "model_name": "HTMLModel",
          "model_module_version": "1.5.0",
          "state": {
            "_dom_classes": [],
            "_model_module": "@jupyter-widgets/controls",
            "_model_module_version": "1.5.0",
            "_model_name": "HTMLModel",
            "_view_count": null,
            "_view_module": "@jupyter-widgets/controls",
            "_view_module_version": "1.5.0",
            "_view_name": "HTMLView",
            "description": "",
            "description_tooltip": null,
            "layout": "IPY_MODEL_a19fe4b9c1bb418eaf37d4ba7ad2f501",
            "placeholder": "​",
            "style": "IPY_MODEL_dce8c14779684f81994b119b45cd8bf5",
            "value": " 48.0/48.0 [00:00&lt;00:00, 1.68kB/s]"
          }
        },
        "3f9de4e26a4d44a4bc35593c1c39eb5c": {
          "model_module": "@jupyter-widgets/base",
          "model_name": "LayoutModel",
          "model_module_version": "1.2.0",
          "state": {
            "_model_module": "@jupyter-widgets/base",
            "_model_module_version": "1.2.0",
            "_model_name": "LayoutModel",
            "_view_count": null,
            "_view_module": "@jupyter-widgets/base",
            "_view_module_version": "1.2.0",
            "_view_name": "LayoutView",
            "align_content": null,
            "align_items": null,
            "align_self": null,
            "border": null,
            "bottom": null,
            "display": null,
            "flex": null,
            "flex_flow": null,
            "grid_area": null,
            "grid_auto_columns": null,
            "grid_auto_flow": null,
            "grid_auto_rows": null,
            "grid_column": null,
            "grid_gap": null,
            "grid_row": null,
            "grid_template_areas": null,
            "grid_template_columns": null,
            "grid_template_rows": null,
            "height": null,
            "justify_content": null,
            "justify_items": null,
            "left": null,
            "margin": null,
            "max_height": null,
            "max_width": null,
            "min_height": null,
            "min_width": null,
            "object_fit": null,
            "object_position": null,
            "order": null,
            "overflow": null,
            "overflow_x": null,
            "overflow_y": null,
            "padding": null,
            "right": null,
            "top": null,
            "visibility": null,
            "width": null
          }
        },
        "273f118a08ed4a6bbd8ff6cee695ce11": {
          "model_module": "@jupyter-widgets/base",
          "model_name": "LayoutModel",
          "model_module_version": "1.2.0",
          "state": {
            "_model_module": "@jupyter-widgets/base",
            "_model_module_version": "1.2.0",
            "_model_name": "LayoutModel",
            "_view_count": null,
            "_view_module": "@jupyter-widgets/base",
            "_view_module_version": "1.2.0",
            "_view_name": "LayoutView",
            "align_content": null,
            "align_items": null,
            "align_self": null,
            "border": null,
            "bottom": null,
            "display": null,
            "flex": null,
            "flex_flow": null,
            "grid_area": null,
            "grid_auto_columns": null,
            "grid_auto_flow": null,
            "grid_auto_rows": null,
            "grid_column": null,
            "grid_gap": null,
            "grid_row": null,
            "grid_template_areas": null,
            "grid_template_columns": null,
            "grid_template_rows": null,
            "height": null,
            "justify_content": null,
            "justify_items": null,
            "left": null,
            "margin": null,
            "max_height": null,
            "max_width": null,
            "min_height": null,
            "min_width": null,
            "object_fit": null,
            "object_position": null,
            "order": null,
            "overflow": null,
            "overflow_x": null,
            "overflow_y": null,
            "padding": null,
            "right": null,
            "top": null,
            "visibility": null,
            "width": null
          }
        },
        "90137d1c2e0e4a009c2f94e1c17ac783": {
          "model_module": "@jupyter-widgets/controls",
          "model_name": "DescriptionStyleModel",
          "model_module_version": "1.5.0",
          "state": {
            "_model_module": "@jupyter-widgets/controls",
            "_model_module_version": "1.5.0",
            "_model_name": "DescriptionStyleModel",
            "_view_count": null,
            "_view_module": "@jupyter-widgets/base",
            "_view_module_version": "1.2.0",
            "_view_name": "StyleView",
            "description_width": ""
          }
        },
        "ca821dabb6b84ba0bb3e8315eaeabdf0": {
          "model_module": "@jupyter-widgets/base",
          "model_name": "LayoutModel",
          "model_module_version": "1.2.0",
          "state": {
            "_model_module": "@jupyter-widgets/base",
            "_model_module_version": "1.2.0",
            "_model_name": "LayoutModel",
            "_view_count": null,
            "_view_module": "@jupyter-widgets/base",
            "_view_module_version": "1.2.0",
            "_view_name": "LayoutView",
            "align_content": null,
            "align_items": null,
            "align_self": null,
            "border": null,
            "bottom": null,
            "display": null,
            "flex": null,
            "flex_flow": null,
            "grid_area": null,
            "grid_auto_columns": null,
            "grid_auto_flow": null,
            "grid_auto_rows": null,
            "grid_column": null,
            "grid_gap": null,
            "grid_row": null,
            "grid_template_areas": null,
            "grid_template_columns": null,
            "grid_template_rows": null,
            "height": null,
            "justify_content": null,
            "justify_items": null,
            "left": null,
            "margin": null,
            "max_height": null,
            "max_width": null,
            "min_height": null,
            "min_width": null,
            "object_fit": null,
            "object_position": null,
            "order": null,
            "overflow": null,
            "overflow_x": null,
            "overflow_y": null,
            "padding": null,
            "right": null,
            "top": null,
            "visibility": null,
            "width": null
          }
        },
        "b33071a0a6d24a57b079f9acb596cdfe": {
          "model_module": "@jupyter-widgets/controls",
          "model_name": "ProgressStyleModel",
          "model_module_version": "1.5.0",
          "state": {
            "_model_module": "@jupyter-widgets/controls",
            "_model_module_version": "1.5.0",
            "_model_name": "ProgressStyleModel",
            "_view_count": null,
            "_view_module": "@jupyter-widgets/base",
            "_view_module_version": "1.2.0",
            "_view_name": "StyleView",
            "bar_color": null,
            "description_width": ""
          }
        },
        "a19fe4b9c1bb418eaf37d4ba7ad2f501": {
          "model_module": "@jupyter-widgets/base",
          "model_name": "LayoutModel",
          "model_module_version": "1.2.0",
          "state": {
            "_model_module": "@jupyter-widgets/base",
            "_model_module_version": "1.2.0",
            "_model_name": "LayoutModel",
            "_view_count": null,
            "_view_module": "@jupyter-widgets/base",
            "_view_module_version": "1.2.0",
            "_view_name": "LayoutView",
            "align_content": null,
            "align_items": null,
            "align_self": null,
            "border": null,
            "bottom": null,
            "display": null,
            "flex": null,
            "flex_flow": null,
            "grid_area": null,
            "grid_auto_columns": null,
            "grid_auto_flow": null,
            "grid_auto_rows": null,
            "grid_column": null,
            "grid_gap": null,
            "grid_row": null,
            "grid_template_areas": null,
            "grid_template_columns": null,
            "grid_template_rows": null,
            "height": null,
            "justify_content": null,
            "justify_items": null,
            "left": null,
            "margin": null,
            "max_height": null,
            "max_width": null,
            "min_height": null,
            "min_width": null,
            "object_fit": null,
            "object_position": null,
            "order": null,
            "overflow": null,
            "overflow_x": null,
            "overflow_y": null,
            "padding": null,
            "right": null,
            "top": null,
            "visibility": null,
            "width": null
          }
        },
        "dce8c14779684f81994b119b45cd8bf5": {
          "model_module": "@jupyter-widgets/controls",
          "model_name": "DescriptionStyleModel",
          "model_module_version": "1.5.0",
          "state": {
            "_model_module": "@jupyter-widgets/controls",
            "_model_module_version": "1.5.0",
            "_model_name": "DescriptionStyleModel",
            "_view_count": null,
            "_view_module": "@jupyter-widgets/base",
            "_view_module_version": "1.2.0",
            "_view_name": "StyleView",
            "description_width": ""
          }
        },
        "a786a9c613ee4477bc1af294f6b46d75": {
          "model_module": "@jupyter-widgets/controls",
          "model_name": "HBoxModel",
          "model_module_version": "1.5.0",
          "state": {
            "_dom_classes": [],
            "_model_module": "@jupyter-widgets/controls",
            "_model_module_version": "1.5.0",
            "_model_name": "HBoxModel",
            "_view_count": null,
            "_view_module": "@jupyter-widgets/controls",
            "_view_module_version": "1.5.0",
            "_view_name": "HBoxView",
            "box_style": "",
            "children": [
              "IPY_MODEL_f0e7cad9a226443f81c1920dd27ba152",
              "IPY_MODEL_7ec2134c4a934960b4dd7689b7a52558",
              "IPY_MODEL_66da71e8b3324847a7db335ce556ce66"
            ],
            "layout": "IPY_MODEL_34668b4e87154ceeb3048efb49b0fcd5"
          }
        },
        "f0e7cad9a226443f81c1920dd27ba152": {
          "model_module": "@jupyter-widgets/controls",
          "model_name": "HTMLModel",
          "model_module_version": "1.5.0",
          "state": {
            "_dom_classes": [],
            "_model_module": "@jupyter-widgets/controls",
            "_model_module_version": "1.5.0",
            "_model_name": "HTMLModel",
            "_view_count": null,
            "_view_module": "@jupyter-widgets/controls",
            "_view_module_version": "1.5.0",
            "_view_name": "HTMLView",
            "description": "",
            "description_tooltip": null,
            "layout": "IPY_MODEL_ad8b2c5f44c7478da715427f448a34fe",
            "placeholder": "​",
            "style": "IPY_MODEL_d0128a7040c248efb5c76cdfa196ee40",
            "value": "Downloading: 100%"
          }
        },
        "7ec2134c4a934960b4dd7689b7a52558": {
          "model_module": "@jupyter-widgets/controls",
          "model_name": "FloatProgressModel",
          "model_module_version": "1.5.0",
          "state": {
            "_dom_classes": [],
            "_model_module": "@jupyter-widgets/controls",
            "_model_module_version": "1.5.0",
            "_model_name": "FloatProgressModel",
            "_view_count": null,
            "_view_module": "@jupyter-widgets/controls",
            "_view_module_version": "1.5.0",
            "_view_name": "ProgressView",
            "bar_style": "success",
            "description": "",
            "description_tooltip": null,
            "layout": "IPY_MODEL_ba1ab732191241489913a649ab3a6cd6",
            "max": 231508,
            "min": 0,
            "orientation": "horizontal",
            "style": "IPY_MODEL_5595e9836af44f258a3f6e2f6d98303c",
            "value": 231508
          }
        },
        "66da71e8b3324847a7db335ce556ce66": {
          "model_module": "@jupyter-widgets/controls",
          "model_name": "HTMLModel",
          "model_module_version": "1.5.0",
          "state": {
            "_dom_classes": [],
            "_model_module": "@jupyter-widgets/controls",
            "_model_module_version": "1.5.0",
            "_model_name": "HTMLModel",
            "_view_count": null,
            "_view_module": "@jupyter-widgets/controls",
            "_view_module_version": "1.5.0",
            "_view_name": "HTMLView",
            "description": "",
            "description_tooltip": null,
            "layout": "IPY_MODEL_0fbdf3e9c4c74004b4aa9b2a5e743277",
            "placeholder": "​",
            "style": "IPY_MODEL_3adc6f1c1c054ddf9051cfefe4a990f7",
            "value": " 232k/232k [00:00&lt;00:00, 832kB/s]"
          }
        },
        "34668b4e87154ceeb3048efb49b0fcd5": {
          "model_module": "@jupyter-widgets/base",
          "model_name": "LayoutModel",
          "model_module_version": "1.2.0",
          "state": {
            "_model_module": "@jupyter-widgets/base",
            "_model_module_version": "1.2.0",
            "_model_name": "LayoutModel",
            "_view_count": null,
            "_view_module": "@jupyter-widgets/base",
            "_view_module_version": "1.2.0",
            "_view_name": "LayoutView",
            "align_content": null,
            "align_items": null,
            "align_self": null,
            "border": null,
            "bottom": null,
            "display": null,
            "flex": null,
            "flex_flow": null,
            "grid_area": null,
            "grid_auto_columns": null,
            "grid_auto_flow": null,
            "grid_auto_rows": null,
            "grid_column": null,
            "grid_gap": null,
            "grid_row": null,
            "grid_template_areas": null,
            "grid_template_columns": null,
            "grid_template_rows": null,
            "height": null,
            "justify_content": null,
            "justify_items": null,
            "left": null,
            "margin": null,
            "max_height": null,
            "max_width": null,
            "min_height": null,
            "min_width": null,
            "object_fit": null,
            "object_position": null,
            "order": null,
            "overflow": null,
            "overflow_x": null,
            "overflow_y": null,
            "padding": null,
            "right": null,
            "top": null,
            "visibility": null,
            "width": null
          }
        },
        "ad8b2c5f44c7478da715427f448a34fe": {
          "model_module": "@jupyter-widgets/base",
          "model_name": "LayoutModel",
          "model_module_version": "1.2.0",
          "state": {
            "_model_module": "@jupyter-widgets/base",
            "_model_module_version": "1.2.0",
            "_model_name": "LayoutModel",
            "_view_count": null,
            "_view_module": "@jupyter-widgets/base",
            "_view_module_version": "1.2.0",
            "_view_name": "LayoutView",
            "align_content": null,
            "align_items": null,
            "align_self": null,
            "border": null,
            "bottom": null,
            "display": null,
            "flex": null,
            "flex_flow": null,
            "grid_area": null,
            "grid_auto_columns": null,
            "grid_auto_flow": null,
            "grid_auto_rows": null,
            "grid_column": null,
            "grid_gap": null,
            "grid_row": null,
            "grid_template_areas": null,
            "grid_template_columns": null,
            "grid_template_rows": null,
            "height": null,
            "justify_content": null,
            "justify_items": null,
            "left": null,
            "margin": null,
            "max_height": null,
            "max_width": null,
            "min_height": null,
            "min_width": null,
            "object_fit": null,
            "object_position": null,
            "order": null,
            "overflow": null,
            "overflow_x": null,
            "overflow_y": null,
            "padding": null,
            "right": null,
            "top": null,
            "visibility": null,
            "width": null
          }
        },
        "d0128a7040c248efb5c76cdfa196ee40": {
          "model_module": "@jupyter-widgets/controls",
          "model_name": "DescriptionStyleModel",
          "model_module_version": "1.5.0",
          "state": {
            "_model_module": "@jupyter-widgets/controls",
            "_model_module_version": "1.5.0",
            "_model_name": "DescriptionStyleModel",
            "_view_count": null,
            "_view_module": "@jupyter-widgets/base",
            "_view_module_version": "1.2.0",
            "_view_name": "StyleView",
            "description_width": ""
          }
        },
        "ba1ab732191241489913a649ab3a6cd6": {
          "model_module": "@jupyter-widgets/base",
          "model_name": "LayoutModel",
          "model_module_version": "1.2.0",
          "state": {
            "_model_module": "@jupyter-widgets/base",
            "_model_module_version": "1.2.0",
            "_model_name": "LayoutModel",
            "_view_count": null,
            "_view_module": "@jupyter-widgets/base",
            "_view_module_version": "1.2.0",
            "_view_name": "LayoutView",
            "align_content": null,
            "align_items": null,
            "align_self": null,
            "border": null,
            "bottom": null,
            "display": null,
            "flex": null,
            "flex_flow": null,
            "grid_area": null,
            "grid_auto_columns": null,
            "grid_auto_flow": null,
            "grid_auto_rows": null,
            "grid_column": null,
            "grid_gap": null,
            "grid_row": null,
            "grid_template_areas": null,
            "grid_template_columns": null,
            "grid_template_rows": null,
            "height": null,
            "justify_content": null,
            "justify_items": null,
            "left": null,
            "margin": null,
            "max_height": null,
            "max_width": null,
            "min_height": null,
            "min_width": null,
            "object_fit": null,
            "object_position": null,
            "order": null,
            "overflow": null,
            "overflow_x": null,
            "overflow_y": null,
            "padding": null,
            "right": null,
            "top": null,
            "visibility": null,
            "width": null
          }
        },
        "5595e9836af44f258a3f6e2f6d98303c": {
          "model_module": "@jupyter-widgets/controls",
          "model_name": "ProgressStyleModel",
          "model_module_version": "1.5.0",
          "state": {
            "_model_module": "@jupyter-widgets/controls",
            "_model_module_version": "1.5.0",
            "_model_name": "ProgressStyleModel",
            "_view_count": null,
            "_view_module": "@jupyter-widgets/base",
            "_view_module_version": "1.2.0",
            "_view_name": "StyleView",
            "bar_color": null,
            "description_width": ""
          }
        },
        "0fbdf3e9c4c74004b4aa9b2a5e743277": {
          "model_module": "@jupyter-widgets/base",
          "model_name": "LayoutModel",
          "model_module_version": "1.2.0",
          "state": {
            "_model_module": "@jupyter-widgets/base",
            "_model_module_version": "1.2.0",
            "_model_name": "LayoutModel",
            "_view_count": null,
            "_view_module": "@jupyter-widgets/base",
            "_view_module_version": "1.2.0",
            "_view_name": "LayoutView",
            "align_content": null,
            "align_items": null,
            "align_self": null,
            "border": null,
            "bottom": null,
            "display": null,
            "flex": null,
            "flex_flow": null,
            "grid_area": null,
            "grid_auto_columns": null,
            "grid_auto_flow": null,
            "grid_auto_rows": null,
            "grid_column": null,
            "grid_gap": null,
            "grid_row": null,
            "grid_template_areas": null,
            "grid_template_columns": null,
            "grid_template_rows": null,
            "height": null,
            "justify_content": null,
            "justify_items": null,
            "left": null,
            "margin": null,
            "max_height": null,
            "max_width": null,
            "min_height": null,
            "min_width": null,
            "object_fit": null,
            "object_position": null,
            "order": null,
            "overflow": null,
            "overflow_x": null,
            "overflow_y": null,
            "padding": null,
            "right": null,
            "top": null,
            "visibility": null,
            "width": null
          }
        },
        "3adc6f1c1c054ddf9051cfefe4a990f7": {
          "model_module": "@jupyter-widgets/controls",
          "model_name": "DescriptionStyleModel",
          "model_module_version": "1.5.0",
          "state": {
            "_model_module": "@jupyter-widgets/controls",
            "_model_module_version": "1.5.0",
            "_model_name": "DescriptionStyleModel",
            "_view_count": null,
            "_view_module": "@jupyter-widgets/base",
            "_view_module_version": "1.2.0",
            "_view_name": "StyleView",
            "description_width": ""
          }
        }
      }
    }
  },
  "cells": [
    {
      "cell_type": "code",
      "execution_count": 10,
      "metadata": {
        "id": "Fp9qTkJbTe12"
      },
      "outputs": [],
      "source": [
        "import tensorflow as tf\n",
        "import tensorflow.keras as keras\n",
        "import pandas as pd\n",
        "import numpy as np\n"
      ]
    },
    {
      "cell_type": "code",
      "source": [
        "imdv_reviews=pd.read_csv(\"/content/drive/MyDrive/IMDB Dataset.csv\")"
      ],
      "metadata": {
        "id": "Pce25VzsUZIm"
      },
      "execution_count": 11,
      "outputs": []
    },
    {
      "cell_type": "code",
      "source": [
        "imdv_reviews.head()"
      ],
      "metadata": {
        "colab": {
          "base_uri": "https://localhost:8080/",
          "height": 206
        },
        "id": "2lgVsxUFUlxe",
        "outputId": "7566d444-a731-4008-8dd0-50f777e51a30"
      },
      "execution_count": 12,
      "outputs": [
        {
          "output_type": "execute_result",
          "data": {
            "text/plain": [
              "                                              review sentiment\n",
              "0  One of the other reviewers has mentioned that ...  positive\n",
              "1  A wonderful little production. <br /><br />The...  positive\n",
              "2  I thought this was a wonderful way to spend ti...  positive\n",
              "3  Basically there's a family where a little boy ...  negative\n",
              "4  Petter Mattei's \"Love in the Time of Money\" is...  positive"
            ],
            "text/html": [
              "\n",
              "  <div id=\"df-5c72e8b6-e1d4-4216-b6ec-6c6265fb7ea2\">\n",
              "    <div class=\"colab-df-container\">\n",
              "      <div>\n",
              "<style scoped>\n",
              "    .dataframe tbody tr th:only-of-type {\n",
              "        vertical-align: middle;\n",
              "    }\n",
              "\n",
              "    .dataframe tbody tr th {\n",
              "        vertical-align: top;\n",
              "    }\n",
              "\n",
              "    .dataframe thead th {\n",
              "        text-align: right;\n",
              "    }\n",
              "</style>\n",
              "<table border=\"1\" class=\"dataframe\">\n",
              "  <thead>\n",
              "    <tr style=\"text-align: right;\">\n",
              "      <th></th>\n",
              "      <th>review</th>\n",
              "      <th>sentiment</th>\n",
              "    </tr>\n",
              "  </thead>\n",
              "  <tbody>\n",
              "    <tr>\n",
              "      <th>0</th>\n",
              "      <td>One of the other reviewers has mentioned that ...</td>\n",
              "      <td>positive</td>\n",
              "    </tr>\n",
              "    <tr>\n",
              "      <th>1</th>\n",
              "      <td>A wonderful little production. &lt;br /&gt;&lt;br /&gt;The...</td>\n",
              "      <td>positive</td>\n",
              "    </tr>\n",
              "    <tr>\n",
              "      <th>2</th>\n",
              "      <td>I thought this was a wonderful way to spend ti...</td>\n",
              "      <td>positive</td>\n",
              "    </tr>\n",
              "    <tr>\n",
              "      <th>3</th>\n",
              "      <td>Basically there's a family where a little boy ...</td>\n",
              "      <td>negative</td>\n",
              "    </tr>\n",
              "    <tr>\n",
              "      <th>4</th>\n",
              "      <td>Petter Mattei's \"Love in the Time of Money\" is...</td>\n",
              "      <td>positive</td>\n",
              "    </tr>\n",
              "  </tbody>\n",
              "</table>\n",
              "</div>\n",
              "      <button class=\"colab-df-convert\" onclick=\"convertToInteractive('df-5c72e8b6-e1d4-4216-b6ec-6c6265fb7ea2')\"\n",
              "              title=\"Convert this dataframe to an interactive table.\"\n",
              "              style=\"display:none;\">\n",
              "        \n",
              "  <svg xmlns=\"http://www.w3.org/2000/svg\" height=\"24px\"viewBox=\"0 0 24 24\"\n",
              "       width=\"24px\">\n",
              "    <path d=\"M0 0h24v24H0V0z\" fill=\"none\"/>\n",
              "    <path d=\"M18.56 5.44l.94 2.06.94-2.06 2.06-.94-2.06-.94-.94-2.06-.94 2.06-2.06.94zm-11 1L8.5 8.5l.94-2.06 2.06-.94-2.06-.94L8.5 2.5l-.94 2.06-2.06.94zm10 10l.94 2.06.94-2.06 2.06-.94-2.06-.94-.94-2.06-.94 2.06-2.06.94z\"/><path d=\"M17.41 7.96l-1.37-1.37c-.4-.4-.92-.59-1.43-.59-.52 0-1.04.2-1.43.59L10.3 9.45l-7.72 7.72c-.78.78-.78 2.05 0 2.83L4 21.41c.39.39.9.59 1.41.59.51 0 1.02-.2 1.41-.59l7.78-7.78 2.81-2.81c.8-.78.8-2.07 0-2.86zM5.41 20L4 18.59l7.72-7.72 1.47 1.35L5.41 20z\"/>\n",
              "  </svg>\n",
              "      </button>\n",
              "      \n",
              "  <style>\n",
              "    .colab-df-container {\n",
              "      display:flex;\n",
              "      flex-wrap:wrap;\n",
              "      gap: 12px;\n",
              "    }\n",
              "\n",
              "    .colab-df-convert {\n",
              "      background-color: #E8F0FE;\n",
              "      border: none;\n",
              "      border-radius: 50%;\n",
              "      cursor: pointer;\n",
              "      display: none;\n",
              "      fill: #1967D2;\n",
              "      height: 32px;\n",
              "      padding: 0 0 0 0;\n",
              "      width: 32px;\n",
              "    }\n",
              "\n",
              "    .colab-df-convert:hover {\n",
              "      background-color: #E2EBFA;\n",
              "      box-shadow: 0px 1px 2px rgba(60, 64, 67, 0.3), 0px 1px 3px 1px rgba(60, 64, 67, 0.15);\n",
              "      fill: #174EA6;\n",
              "    }\n",
              "\n",
              "    [theme=dark] .colab-df-convert {\n",
              "      background-color: #3B4455;\n",
              "      fill: #D2E3FC;\n",
              "    }\n",
              "\n",
              "    [theme=dark] .colab-df-convert:hover {\n",
              "      background-color: #434B5C;\n",
              "      box-shadow: 0px 1px 3px 1px rgba(0, 0, 0, 0.15);\n",
              "      filter: drop-shadow(0px 1px 2px rgba(0, 0, 0, 0.3));\n",
              "      fill: #FFFFFF;\n",
              "    }\n",
              "  </style>\n",
              "\n",
              "      <script>\n",
              "        const buttonEl =\n",
              "          document.querySelector('#df-5c72e8b6-e1d4-4216-b6ec-6c6265fb7ea2 button.colab-df-convert');\n",
              "        buttonEl.style.display =\n",
              "          google.colab.kernel.accessAllowed ? 'block' : 'none';\n",
              "\n",
              "        async function convertToInteractive(key) {\n",
              "          const element = document.querySelector('#df-5c72e8b6-e1d4-4216-b6ec-6c6265fb7ea2');\n",
              "          const dataTable =\n",
              "            await google.colab.kernel.invokeFunction('convertToInteractive',\n",
              "                                                     [key], {});\n",
              "          if (!dataTable) return;\n",
              "\n",
              "          const docLinkHtml = 'Like what you see? Visit the ' +\n",
              "            '<a target=\"_blank\" href=https://colab.research.google.com/notebooks/data_table.ipynb>data table notebook</a>'\n",
              "            + ' to learn more about interactive tables.';\n",
              "          element.innerHTML = '';\n",
              "          dataTable['output_type'] = 'display_data';\n",
              "          await google.colab.output.renderOutput(dataTable, element);\n",
              "          const docLink = document.createElement('div');\n",
              "          docLink.innerHTML = docLinkHtml;\n",
              "          element.appendChild(docLink);\n",
              "        }\n",
              "      </script>\n",
              "    </div>\n",
              "  </div>\n",
              "  "
            ]
          },
          "metadata": {},
          "execution_count": 12
        }
      ]
    },
    {
      "cell_type": "code",
      "source": [
        "!pip install vaderSentiment"
      ],
      "metadata": {
        "colab": {
          "base_uri": "https://localhost:8080/"
        },
        "id": "hN_Ojj0XU1QS",
        "outputId": "8bc3ef78-bde3-442e-c824-82b31ace2bc6"
      },
      "execution_count": 13,
      "outputs": [
        {
          "output_type": "stream",
          "name": "stdout",
          "text": [
            "Looking in indexes: https://pypi.org/simple, https://us-python.pkg.dev/colab-wheels/public/simple/\n",
            "Collecting vaderSentiment\n",
            "  Downloading vaderSentiment-3.3.2-py2.py3-none-any.whl (125 kB)\n",
            "\u001b[K     |████████████████████████████████| 125 kB 6.4 MB/s \n",
            "\u001b[?25hRequirement already satisfied: requests in /usr/local/lib/python3.8/dist-packages (from vaderSentiment) (2.23.0)\n",
            "Requirement already satisfied: idna<3,>=2.5 in /usr/local/lib/python3.8/dist-packages (from requests->vaderSentiment) (2.10)\n",
            "Requirement already satisfied: chardet<4,>=3.0.2 in /usr/local/lib/python3.8/dist-packages (from requests->vaderSentiment) (3.0.4)\n",
            "Requirement already satisfied: certifi>=2017.4.17 in /usr/local/lib/python3.8/dist-packages (from requests->vaderSentiment) (2022.12.7)\n",
            "Requirement already satisfied: urllib3!=1.25.0,!=1.25.1,<1.26,>=1.21.1 in /usr/local/lib/python3.8/dist-packages (from requests->vaderSentiment) (1.24.3)\n",
            "Installing collected packages: vaderSentiment\n",
            "Successfully installed vaderSentiment-3.3.2\n"
          ]
        }
      ]
    },
    {
      "cell_type": "code",
      "source": [
        "from vaderSentiment.vaderSentiment import SentimentIntensityAnalyzer\n",
        "analyzer=SentimentIntensityAnalyzer()"
      ],
      "metadata": {
        "id": "F_-9Cjw7wf6O"
      },
      "execution_count": 14,
      "outputs": []
    },
    {
      "cell_type": "code",
      "source": [
        "def sentiment_analyzer_scores(sentence):\n",
        "  score=analyzer.polarity_scores(sentence)\n",
        "  print(\"{:-<40} {}\".format(sentence,str(score)))\n"
      ],
      "metadata": {
        "id": "zjkaBYqX9Dqn"
      },
      "execution_count": 15,
      "outputs": []
    },
    {
      "cell_type": "code",
      "source": [
        "sentiment_analyzer_scores(\"I am very happy today\")"
      ],
      "metadata": {
        "colab": {
          "base_uri": "https://localhost:8080/"
        },
        "id": "qtMwPzER9gCA",
        "outputId": "46b2f24c-c1e0-4bae-f3d0-e699155092eb"
      },
      "execution_count": 16,
      "outputs": [
        {
          "output_type": "stream",
          "name": "stdout",
          "text": [
            "I am very happy today------------------- {'neg': 0.0, 'neu': 0.5, 'pos': 0.5, 'compound': 0.6115}\n"
          ]
        }
      ]
    },
    {
      "cell_type": "code",
      "source": [
        "sentiment_analyzer_scores(\"An amazing food i had\")"
      ],
      "metadata": {
        "colab": {
          "base_uri": "https://localhost:8080/"
        },
        "id": "e0j8fuh-95sk",
        "outputId": "bde7739d-facc-4d80-e117-544b92f3f435"
      },
      "execution_count": 17,
      "outputs": [
        {
          "output_type": "stream",
          "name": "stdout",
          "text": [
            "An amazing food i had------------------- {'neg': 0.0, 'neu': 0.513, 'pos': 0.487, 'compound': 0.5859}\n"
          ]
        }
      ]
    },
    {
      "cell_type": "code",
      "source": [
        "## Effect of punctuations !!\n",
        "sentiment_analyzer_scores(\"Today is super cool\")\n",
        "sentiment_analyzer_scores(\"Today is super cool!\")\n",
        "sentiment_analyzer_scores(\"Today is super cool!!!\")"
      ],
      "metadata": {
        "colab": {
          "base_uri": "https://localhost:8080/"
        },
        "id": "OOdqlrJH-9u-",
        "outputId": "d9b7ac54-27f8-4bc7-809c-eaacb33fa1b2"
      },
      "execution_count": 18,
      "outputs": [
        {
          "output_type": "stream",
          "name": "stdout",
          "text": [
            "Today is super cool--------------------- {'neg': 0.0, 'neu': 0.244, 'pos': 0.756, 'compound': 0.7351}\n",
            "Today is super cool!-------------------- {'neg': 0.0, 'neu': 0.236, 'pos': 0.764, 'compound': 0.7574}\n",
            "Today is super cool!!!------------------ {'neg': 0.0, 'neu': 0.22, 'pos': 0.78, 'compound': 0.795}\n"
          ]
        }
      ]
    },
    {
      "cell_type": "code",
      "source": [
        "## Effect of Capitalization\n",
        "sentiment_analyzer_scores(\"Today is super cool\")\n",
        "sentiment_analyzer_scores(\"Today is super COOL!!\")"
      ],
      "metadata": {
        "colab": {
          "base_uri": "https://localhost:8080/"
        },
        "id": "UCd9BKu3_yCX",
        "outputId": "e52a1655-1f4d-46ff-a990-db263e20305b"
      },
      "execution_count": 19,
      "outputs": [
        {
          "output_type": "stream",
          "name": "stdout",
          "text": [
            "Today is super cool--------------------- {'neg': 0.0, 'neu': 0.244, 'pos': 0.756, 'compound': 0.7351}\n",
            "Today is super COOL!!------------------- {'neg': 0.0, 'neu': 0.21, 'pos': 0.79, 'compound': 0.8185}\n"
          ]
        }
      ]
    },
    {
      "cell_type": "code",
      "source": [
        "## Effect of degree modifiers\n",
        "sentiment_analyzer_scores(\"Bank service here is good\")\n",
        "sentiment_analyzer_scores(\"Bank service here is moderately good\")\n",
        "sentiment_analyzer_scores(\"Bank service here is extremely good\")"
      ],
      "metadata": {
        "colab": {
          "base_uri": "https://localhost:8080/"
        },
        "id": "NjCCk8wl_6Sb",
        "outputId": "ab414649-d7ab-40ed-e92e-309209b3ea20"
      },
      "execution_count": 20,
      "outputs": [
        {
          "output_type": "stream",
          "name": "stdout",
          "text": [
            "Bank service here is good--------------- {'neg': 0.0, 'neu': 0.58, 'pos': 0.42, 'compound': 0.4404}\n",
            "Bank service here is moderately good---- {'neg': 0.0, 'neu': 0.633, 'pos': 0.367, 'compound': 0.4404}\n",
            "Bank service here is extremely good----- {'neg': 0.0, 'neu': 0.61, 'pos': 0.39, 'compound': 0.4927}\n"
          ]
        }
      ]
    },
    {
      "cell_type": "code",
      "source": [
        "## Effect of conjuctions\n",
        "sentiment_analyzer_scores(\"food here is extremely good but service is horrible\")"
      ],
      "metadata": {
        "colab": {
          "base_uri": "https://localhost:8080/"
        },
        "id": "5C4KPsd9BO3i",
        "outputId": "5a6cd8bb-058e-4052-f022-9d846e9b76d5"
      },
      "execution_count": 21,
      "outputs": [
        {
          "output_type": "stream",
          "name": "stdout",
          "text": [
            "food here is extremely good but service is horrible {'neg': 0.343, 'neu': 0.506, 'pos': 0.151, 'compound': -0.5652}\n"
          ]
        }
      ]
    },
    {
      "cell_type": "code",
      "source": [
        "## Effect of emoticons\n",
        "sentiment_analyzer_scores(\"Bank service here is :D\")"
      ],
      "metadata": {
        "colab": {
          "base_uri": "https://localhost:8080/"
        },
        "id": "jOZdfUSEBd82",
        "outputId": "9f2dd1c9-c725-4693-9697-6f44afcb86af"
      },
      "execution_count": 22,
      "outputs": [
        {
          "output_type": "stream",
          "name": "stdout",
          "text": [
            "Bank service here is :D----------------- {'neg': 0.0, 'neu': 0.498, 'pos': 0.502, 'compound': 0.6166}\n"
          ]
        }
      ]
    },
    {
      "cell_type": "code",
      "source": [
        "scores=[]\n",
        "sentences=[\"A really bad,worst movie to watch\",\"I hate this movie\"]\n",
        "for i in sentences:\n",
        "  sc=analyzer.polarity_scores(i)\n",
        "  scores.append(sc)\n",
        "# Converting list of dictionaries into dataframes\n",
        "dataframe=pd.DataFrame(scores)\n",
        "print(dataframe)\n",
        "print(dataframe.mean())"
      ],
      "metadata": {
        "colab": {
          "base_uri": "https://localhost:8080/"
        },
        "id": "dvvwg49aC0qb",
        "outputId": "cd175858-d120-4efd-e9bb-af8e02fa9e7f"
      },
      "execution_count": 23,
      "outputs": [
        {
          "output_type": "stream",
          "name": "stdout",
          "text": [
            "     neg    neu  pos  compound\n",
            "0  0.000  1.000  0.0    0.0000\n",
            "1  0.552  0.448  0.0   -0.5719\n",
            "neg         0.27600\n",
            "neu         0.72400\n",
            "pos         0.00000\n",
            "compound   -0.28595\n",
            "dtype: float64\n"
          ]
        }
      ]
    },
    {
      "cell_type": "code",
      "source": [
        "df=pd.read_csv(\"/content/drive/MyDrive/Reviews.csv\")"
      ],
      "metadata": {
        "id": "6HQkdscoIpYi"
      },
      "execution_count": 24,
      "outputs": []
    },
    {
      "cell_type": "code",
      "source": [
        "df.head()"
      ],
      "metadata": {
        "colab": {
          "base_uri": "https://localhost:8080/",
          "height": 424
        },
        "id": "FmrEnHGZEwJ6",
        "outputId": "62c23766-0726-4d9d-84e4-114c97457781"
      },
      "execution_count": 25,
      "outputs": [
        {
          "output_type": "execute_result",
          "data": {
            "text/plain": [
              "   Id   ProductId          UserId                      ProfileName  \\\n",
              "0   1  B001E4KFG0  A3SGXH7AUHU8GW                       delmartian   \n",
              "1   2  B00813GRG4  A1D87F6ZCVE5NK                           dll pa   \n",
              "2   3  B000LQOCH0   ABXLMWJIXXAIN  Natalia Corres \"Natalia Corres\"   \n",
              "3   4  B000UA0QIQ  A395BORC6FGVXV                             Karl   \n",
              "4   5  B006K2ZZ7K  A1UQRSCLF8GW1T    Michael D. Bigham \"M. Wassir\"   \n",
              "\n",
              "   HelpfulnessNumerator  HelpfulnessDenominator  Score        Time  \\\n",
              "0                     1                       1      5  1303862400   \n",
              "1                     0                       0      1  1346976000   \n",
              "2                     1                       1      4  1219017600   \n",
              "3                     3                       3      2  1307923200   \n",
              "4                     0                       0      5  1350777600   \n",
              "\n",
              "                 Summary                                               Text  \n",
              "0  Good Quality Dog Food  I have bought several of the Vitality canned d...  \n",
              "1      Not as Advertised  Product arrived labeled as Jumbo Salted Peanut...  \n",
              "2  \"Delight\" says it all  This is a confection that has been around a fe...  \n",
              "3         Cough Medicine  If you are looking for the secret ingredient i...  \n",
              "4            Great taffy  Great taffy at a great price.  There was a wid...  "
            ],
            "text/html": [
              "\n",
              "  <div id=\"df-2c2f98b8-b3fd-4eb5-a529-756496670ea2\">\n",
              "    <div class=\"colab-df-container\">\n",
              "      <div>\n",
              "<style scoped>\n",
              "    .dataframe tbody tr th:only-of-type {\n",
              "        vertical-align: middle;\n",
              "    }\n",
              "\n",
              "    .dataframe tbody tr th {\n",
              "        vertical-align: top;\n",
              "    }\n",
              "\n",
              "    .dataframe thead th {\n",
              "        text-align: right;\n",
              "    }\n",
              "</style>\n",
              "<table border=\"1\" class=\"dataframe\">\n",
              "  <thead>\n",
              "    <tr style=\"text-align: right;\">\n",
              "      <th></th>\n",
              "      <th>Id</th>\n",
              "      <th>ProductId</th>\n",
              "      <th>UserId</th>\n",
              "      <th>ProfileName</th>\n",
              "      <th>HelpfulnessNumerator</th>\n",
              "      <th>HelpfulnessDenominator</th>\n",
              "      <th>Score</th>\n",
              "      <th>Time</th>\n",
              "      <th>Summary</th>\n",
              "      <th>Text</th>\n",
              "    </tr>\n",
              "  </thead>\n",
              "  <tbody>\n",
              "    <tr>\n",
              "      <th>0</th>\n",
              "      <td>1</td>\n",
              "      <td>B001E4KFG0</td>\n",
              "      <td>A3SGXH7AUHU8GW</td>\n",
              "      <td>delmartian</td>\n",
              "      <td>1</td>\n",
              "      <td>1</td>\n",
              "      <td>5</td>\n",
              "      <td>1303862400</td>\n",
              "      <td>Good Quality Dog Food</td>\n",
              "      <td>I have bought several of the Vitality canned d...</td>\n",
              "    </tr>\n",
              "    <tr>\n",
              "      <th>1</th>\n",
              "      <td>2</td>\n",
              "      <td>B00813GRG4</td>\n",
              "      <td>A1D87F6ZCVE5NK</td>\n",
              "      <td>dll pa</td>\n",
              "      <td>0</td>\n",
              "      <td>0</td>\n",
              "      <td>1</td>\n",
              "      <td>1346976000</td>\n",
              "      <td>Not as Advertised</td>\n",
              "      <td>Product arrived labeled as Jumbo Salted Peanut...</td>\n",
              "    </tr>\n",
              "    <tr>\n",
              "      <th>2</th>\n",
              "      <td>3</td>\n",
              "      <td>B000LQOCH0</td>\n",
              "      <td>ABXLMWJIXXAIN</td>\n",
              "      <td>Natalia Corres \"Natalia Corres\"</td>\n",
              "      <td>1</td>\n",
              "      <td>1</td>\n",
              "      <td>4</td>\n",
              "      <td>1219017600</td>\n",
              "      <td>\"Delight\" says it all</td>\n",
              "      <td>This is a confection that has been around a fe...</td>\n",
              "    </tr>\n",
              "    <tr>\n",
              "      <th>3</th>\n",
              "      <td>4</td>\n",
              "      <td>B000UA0QIQ</td>\n",
              "      <td>A395BORC6FGVXV</td>\n",
              "      <td>Karl</td>\n",
              "      <td>3</td>\n",
              "      <td>3</td>\n",
              "      <td>2</td>\n",
              "      <td>1307923200</td>\n",
              "      <td>Cough Medicine</td>\n",
              "      <td>If you are looking for the secret ingredient i...</td>\n",
              "    </tr>\n",
              "    <tr>\n",
              "      <th>4</th>\n",
              "      <td>5</td>\n",
              "      <td>B006K2ZZ7K</td>\n",
              "      <td>A1UQRSCLF8GW1T</td>\n",
              "      <td>Michael D. Bigham \"M. Wassir\"</td>\n",
              "      <td>0</td>\n",
              "      <td>0</td>\n",
              "      <td>5</td>\n",
              "      <td>1350777600</td>\n",
              "      <td>Great taffy</td>\n",
              "      <td>Great taffy at a great price.  There was a wid...</td>\n",
              "    </tr>\n",
              "  </tbody>\n",
              "</table>\n",
              "</div>\n",
              "      <button class=\"colab-df-convert\" onclick=\"convertToInteractive('df-2c2f98b8-b3fd-4eb5-a529-756496670ea2')\"\n",
              "              title=\"Convert this dataframe to an interactive table.\"\n",
              "              style=\"display:none;\">\n",
              "        \n",
              "  <svg xmlns=\"http://www.w3.org/2000/svg\" height=\"24px\"viewBox=\"0 0 24 24\"\n",
              "       width=\"24px\">\n",
              "    <path d=\"M0 0h24v24H0V0z\" fill=\"none\"/>\n",
              "    <path d=\"M18.56 5.44l.94 2.06.94-2.06 2.06-.94-2.06-.94-.94-2.06-.94 2.06-2.06.94zm-11 1L8.5 8.5l.94-2.06 2.06-.94-2.06-.94L8.5 2.5l-.94 2.06-2.06.94zm10 10l.94 2.06.94-2.06 2.06-.94-2.06-.94-.94-2.06-.94 2.06-2.06.94z\"/><path d=\"M17.41 7.96l-1.37-1.37c-.4-.4-.92-.59-1.43-.59-.52 0-1.04.2-1.43.59L10.3 9.45l-7.72 7.72c-.78.78-.78 2.05 0 2.83L4 21.41c.39.39.9.59 1.41.59.51 0 1.02-.2 1.41-.59l7.78-7.78 2.81-2.81c.8-.78.8-2.07 0-2.86zM5.41 20L4 18.59l7.72-7.72 1.47 1.35L5.41 20z\"/>\n",
              "  </svg>\n",
              "      </button>\n",
              "      \n",
              "  <style>\n",
              "    .colab-df-container {\n",
              "      display:flex;\n",
              "      flex-wrap:wrap;\n",
              "      gap: 12px;\n",
              "    }\n",
              "\n",
              "    .colab-df-convert {\n",
              "      background-color: #E8F0FE;\n",
              "      border: none;\n",
              "      border-radius: 50%;\n",
              "      cursor: pointer;\n",
              "      display: none;\n",
              "      fill: #1967D2;\n",
              "      height: 32px;\n",
              "      padding: 0 0 0 0;\n",
              "      width: 32px;\n",
              "    }\n",
              "\n",
              "    .colab-df-convert:hover {\n",
              "      background-color: #E2EBFA;\n",
              "      box-shadow: 0px 1px 2px rgba(60, 64, 67, 0.3), 0px 1px 3px 1px rgba(60, 64, 67, 0.15);\n",
              "      fill: #174EA6;\n",
              "    }\n",
              "\n",
              "    [theme=dark] .colab-df-convert {\n",
              "      background-color: #3B4455;\n",
              "      fill: #D2E3FC;\n",
              "    }\n",
              "\n",
              "    [theme=dark] .colab-df-convert:hover {\n",
              "      background-color: #434B5C;\n",
              "      box-shadow: 0px 1px 3px 1px rgba(0, 0, 0, 0.15);\n",
              "      filter: drop-shadow(0px 1px 2px rgba(0, 0, 0, 0.3));\n",
              "      fill: #FFFFFF;\n",
              "    }\n",
              "  </style>\n",
              "\n",
              "      <script>\n",
              "        const buttonEl =\n",
              "          document.querySelector('#df-2c2f98b8-b3fd-4eb5-a529-756496670ea2 button.colab-df-convert');\n",
              "        buttonEl.style.display =\n",
              "          google.colab.kernel.accessAllowed ? 'block' : 'none';\n",
              "\n",
              "        async function convertToInteractive(key) {\n",
              "          const element = document.querySelector('#df-2c2f98b8-b3fd-4eb5-a529-756496670ea2');\n",
              "          const dataTable =\n",
              "            await google.colab.kernel.invokeFunction('convertToInteractive',\n",
              "                                                     [key], {});\n",
              "          if (!dataTable) return;\n",
              "\n",
              "          const docLinkHtml = 'Like what you see? Visit the ' +\n",
              "            '<a target=\"_blank\" href=https://colab.research.google.com/notebooks/data_table.ipynb>data table notebook</a>'\n",
              "            + ' to learn more about interactive tables.';\n",
              "          element.innerHTML = '';\n",
              "          dataTable['output_type'] = 'display_data';\n",
              "          await google.colab.output.renderOutput(dataTable, element);\n",
              "          const docLink = document.createElement('div');\n",
              "          docLink.innerHTML = docLinkHtml;\n",
              "          element.appendChild(docLink);\n",
              "        }\n",
              "      </script>\n",
              "    </div>\n",
              "  </div>\n",
              "  "
            ]
          },
          "metadata": {},
          "execution_count": 25
        }
      ]
    },
    {
      "cell_type": "code",
      "source": [
        "df.info()"
      ],
      "metadata": {
        "colab": {
          "base_uri": "https://localhost:8080/"
        },
        "id": "0HoUkcWwI1AK",
        "outputId": "3eceab1d-6ae0-443c-d698-e6db14f14f5c"
      },
      "execution_count": 26,
      "outputs": [
        {
          "output_type": "stream",
          "name": "stdout",
          "text": [
            "<class 'pandas.core.frame.DataFrame'>\n",
            "RangeIndex: 568454 entries, 0 to 568453\n",
            "Data columns (total 10 columns):\n",
            " #   Column                  Non-Null Count   Dtype \n",
            "---  ------                  --------------   ----- \n",
            " 0   Id                      568454 non-null  int64 \n",
            " 1   ProductId               568454 non-null  object\n",
            " 2   UserId                  568454 non-null  object\n",
            " 3   ProfileName             568438 non-null  object\n",
            " 4   HelpfulnessNumerator    568454 non-null  int64 \n",
            " 5   HelpfulnessDenominator  568454 non-null  int64 \n",
            " 6   Score                   568454 non-null  int64 \n",
            " 7   Time                    568454 non-null  int64 \n",
            " 8   Summary                 568427 non-null  object\n",
            " 9   Text                    568454 non-null  object\n",
            "dtypes: int64(5), object(5)\n",
            "memory usage: 43.4+ MB\n"
          ]
        }
      ]
    },
    {
      "cell_type": "code",
      "source": [
        "df.describe"
      ],
      "metadata": {
        "colab": {
          "base_uri": "https://localhost:8080/"
        },
        "id": "xK6myZB4I8Pk",
        "outputId": "836dc40b-ff25-42dd-b329-2806709e86da"
      },
      "execution_count": 27,
      "outputs": [
        {
          "output_type": "execute_result",
          "data": {
            "text/plain": [
              "<bound method NDFrame.describe of             Id   ProductId          UserId                      ProfileName  \\\n",
              "0            1  B001E4KFG0  A3SGXH7AUHU8GW                       delmartian   \n",
              "1            2  B00813GRG4  A1D87F6ZCVE5NK                           dll pa   \n",
              "2            3  B000LQOCH0   ABXLMWJIXXAIN  Natalia Corres \"Natalia Corres\"   \n",
              "3            4  B000UA0QIQ  A395BORC6FGVXV                             Karl   \n",
              "4            5  B006K2ZZ7K  A1UQRSCLF8GW1T    Michael D. Bigham \"M. Wassir\"   \n",
              "...        ...         ...             ...                              ...   \n",
              "568449  568450  B001EO7N10  A28KG5XORO54AY                 Lettie D. Carter   \n",
              "568450  568451  B003S1WTCU  A3I8AFVPEE8KI5                        R. Sawyer   \n",
              "568451  568452  B004I613EE  A121AA1GQV751Z                    pksd \"pk_007\"   \n",
              "568452  568453  B004I613EE   A3IBEVCTXKNOH          Kathy A. Welch \"katwel\"   \n",
              "568453  568454  B001LR2CU2  A3LGQPJCZVL9UC                         srfell17   \n",
              "\n",
              "        HelpfulnessNumerator  HelpfulnessDenominator  Score        Time  \\\n",
              "0                          1                       1      5  1303862400   \n",
              "1                          0                       0      1  1346976000   \n",
              "2                          1                       1      4  1219017600   \n",
              "3                          3                       3      2  1307923200   \n",
              "4                          0                       0      5  1350777600   \n",
              "...                      ...                     ...    ...         ...   \n",
              "568449                     0                       0      5  1299628800   \n",
              "568450                     0                       0      2  1331251200   \n",
              "568451                     2                       2      5  1329782400   \n",
              "568452                     1                       1      5  1331596800   \n",
              "568453                     0                       0      5  1338422400   \n",
              "\n",
              "                                   Summary  \\\n",
              "0                    Good Quality Dog Food   \n",
              "1                        Not as Advertised   \n",
              "2                    \"Delight\" says it all   \n",
              "3                           Cough Medicine   \n",
              "4                              Great taffy   \n",
              "...                                    ...   \n",
              "568449                 Will not do without   \n",
              "568450                        disappointed   \n",
              "568451            Perfect for our maltipoo   \n",
              "568452  Favorite Training and reward treat   \n",
              "568453                         Great Honey   \n",
              "\n",
              "                                                     Text  \n",
              "0       I have bought several of the Vitality canned d...  \n",
              "1       Product arrived labeled as Jumbo Salted Peanut...  \n",
              "2       This is a confection that has been around a fe...  \n",
              "3       If you are looking for the secret ingredient i...  \n",
              "4       Great taffy at a great price.  There was a wid...  \n",
              "...                                                   ...  \n",
              "568449  Great for sesame chicken..this is a good if no...  \n",
              "568450  I'm disappointed with the flavor. The chocolat...  \n",
              "568451  These stars are small, so you can give 10-15 o...  \n",
              "568452  These are the BEST treats for training and rew...  \n",
              "568453  I am very satisfied ,product is as advertised,...  \n",
              "\n",
              "[568454 rows x 10 columns]>"
            ]
          },
          "metadata": {},
          "execution_count": 27
        }
      ]
    },
    {
      "cell_type": "code",
      "source": [
        "df['Text'].values[0]"
      ],
      "metadata": {
        "colab": {
          "base_uri": "https://localhost:8080/",
          "height": 52
        },
        "id": "efii0fpBJEbR",
        "outputId": "76fd886f-bc77-4088-b7d5-671b72a605ba"
      },
      "execution_count": 28,
      "outputs": [
        {
          "output_type": "execute_result",
          "data": {
            "text/plain": [
              "'I have bought several of the Vitality canned dog food products and have found them all to be of good quality. The product looks more like a stew than a processed meat and it smells better. My Labrador is finicky and she appreciates this product better than  most.'"
            ],
            "application/vnd.google.colaboratory.intrinsic+json": {
              "type": "string"
            }
          },
          "metadata": {},
          "execution_count": 28
        }
      ]
    },
    {
      "cell_type": "code",
      "source": [
        "df['Summary'].values[0]"
      ],
      "metadata": {
        "colab": {
          "base_uri": "https://localhost:8080/",
          "height": 35
        },
        "id": "IMg9dnRmJYq6",
        "outputId": "3320730d-4625-4560-a15d-03cc5faae6d7"
      },
      "execution_count": 29,
      "outputs": [
        {
          "output_type": "execute_result",
          "data": {
            "text/plain": [
              "'Good Quality Dog Food'"
            ],
            "application/vnd.google.colaboratory.intrinsic+json": {
              "type": "string"
            }
          },
          "metadata": {},
          "execution_count": 29
        }
      ]
    },
    {
      "cell_type": "code",
      "source": [
        "df['Text'].values[5]"
      ],
      "metadata": {
        "colab": {
          "base_uri": "https://localhost:8080/",
          "height": 70
        },
        "id": "Af_hy8lVJrwe",
        "outputId": "d1b6d0e5-8e40-4621-ee62-7ba6445f5a73"
      },
      "execution_count": 30,
      "outputs": [
        {
          "output_type": "execute_result",
          "data": {
            "text/plain": [
              "'I got a wild hair for taffy and ordered this five pound bag. The taffy was all very enjoyable with many flavors: watermelon, root beer, melon, peppermint, grape, etc. My only complaint is there was a bit too much red/black licorice-flavored pieces (just not my particular favorites). Between me, my kids, and my husband, this lasted only two weeks! I would recommend this brand of taffy -- it was a delightful treat.'"
            ],
            "application/vnd.google.colaboratory.intrinsic+json": {
              "type": "string"
            }
          },
          "metadata": {},
          "execution_count": 30
        }
      ]
    },
    {
      "cell_type": "code",
      "source": [
        "df[\"Summary\"].values[5]"
      ],
      "metadata": {
        "colab": {
          "base_uri": "https://localhost:8080/",
          "height": 35
        },
        "id": "VGQQnWwUJwR1",
        "outputId": "e950ea27-903e-4d48-9024-e0f3112ee781"
      },
      "execution_count": 31,
      "outputs": [
        {
          "output_type": "execute_result",
          "data": {
            "text/plain": [
              "'Nice Taffy'"
            ],
            "application/vnd.google.colaboratory.intrinsic+json": {
              "type": "string"
            }
          },
          "metadata": {},
          "execution_count": 31
        }
      ]
    },
    {
      "cell_type": "code",
      "source": [
        "df.shape"
      ],
      "metadata": {
        "colab": {
          "base_uri": "https://localhost:8080/"
        },
        "id": "o-W7A1TuJ3e0",
        "outputId": "4fee76c8-22fd-46a4-ab90-7fdb819334e1"
      },
      "execution_count": 32,
      "outputs": [
        {
          "output_type": "execute_result",
          "data": {
            "text/plain": [
              "(568454, 10)"
            ]
          },
          "metadata": {},
          "execution_count": 32
        }
      ]
    },
    {
      "cell_type": "code",
      "source": [
        "df=df.head(500)\n",
        "df.shape"
      ],
      "metadata": {
        "colab": {
          "base_uri": "https://localhost:8080/"
        },
        "id": "xJSEdj19KFuw",
        "outputId": "fc83b069-c911-4069-f0d4-5ff91a5d730e"
      },
      "execution_count": 33,
      "outputs": [
        {
          "output_type": "execute_result",
          "data": {
            "text/plain": [
              "(500, 10)"
            ]
          },
          "metadata": {},
          "execution_count": 33
        }
      ]
    },
    {
      "cell_type": "code",
      "source": [
        "## QUICK EDA\n",
        "df['Score'].value_counts()"
      ],
      "metadata": {
        "colab": {
          "base_uri": "https://localhost:8080/"
        },
        "id": "VLH3ZwMpKOgf",
        "outputId": "b38a56c6-a3bb-47fb-b732-cd7c44dedabb"
      },
      "execution_count": 34,
      "outputs": [
        {
          "output_type": "execute_result",
          "data": {
            "text/plain": [
              "5    339\n",
              "4     70\n",
              "3     37\n",
              "1     36\n",
              "2     18\n",
              "Name: Score, dtype: int64"
            ]
          },
          "metadata": {},
          "execution_count": 34
        }
      ]
    },
    {
      "cell_type": "code",
      "source": [
        "df['Score'].value_counts().sort_index()"
      ],
      "metadata": {
        "colab": {
          "base_uri": "https://localhost:8080/"
        },
        "id": "AZST5gwwKf65",
        "outputId": "ae5018d8-58fc-4d70-d117-c6878579c081"
      },
      "execution_count": 35,
      "outputs": [
        {
          "output_type": "execute_result",
          "data": {
            "text/plain": [
              "1     36\n",
              "2     18\n",
              "3     37\n",
              "4     70\n",
              "5    339\n",
              "Name: Score, dtype: int64"
            ]
          },
          "metadata": {},
          "execution_count": 35
        }
      ]
    },
    {
      "cell_type": "code",
      "source": [
        "import matplotlib.pyplot as plt\n",
        "import seaborn as sns"
      ],
      "metadata": {
        "id": "3TXMaRnvRm7w"
      },
      "execution_count": 36,
      "outputs": []
    },
    {
      "cell_type": "code",
      "source": [
        "ax=df['Score'].value_counts().sort_index().plot(kind='bar',title='count of reviews by stars',figsize=(10,5))\n",
        "ax.set_xlabel(\"Review Stars\")\n",
        "ax.set_ylabel(\"No of Reviews\")\n",
        "plt.show()"
      ],
      "metadata": {
        "colab": {
          "base_uri": "https://localhost:8080/",
          "height": 346
        },
        "id": "dNjd-hTDKkY4",
        "outputId": "cc03946c-a122-4482-f460-99bfc51e7284"
      },
      "execution_count": 37,
      "outputs": [
        {
          "output_type": "display_data",
          "data": {
            "text/plain": [
              "<Figure size 720x360 with 1 Axes>"
            ],
            "image/png": "[encoded data removed]"
          },
          "metadata": {
            "needs_background": "light"
          }
        }
      ]
    },
    {
      "cell_type": "code",
      "source": [
        "import nltk"
      ],
      "metadata": {
        "id": "LNU_IXB2SuF6"
      },
      "execution_count": 38,
      "outputs": []
    },
    {
      "cell_type": "code",
      "source": [
        "nltk.download('punkt')"
      ],
      "metadata": {
        "colab": {
          "base_uri": "https://localhost:8080/"
        },
        "id": "gMaT1dP_T1RT",
        "outputId": "785bb024-a1a1-4517-db20-f985d94c0fbe"
      },
      "execution_count": 39,
      "outputs": [
        {
          "output_type": "stream",
          "name": "stderr",
          "text": [
            "[nltk_data] Downloading package punkt to /root/nltk_data...\n",
            "[nltk_data]   Unzipping tokenizers/punkt.zip.\n"
          ]
        },
        {
          "output_type": "execute_result",
          "data": {
            "text/plain": [
              "True"
            ]
          },
          "metadata": {},
          "execution_count": 39
        }
      ]
    },
    {
      "cell_type": "code",
      "source": [
        "example=df['Text'][50]\n",
        "example"
      ],
      "metadata": {
        "colab": {
          "base_uri": "https://localhost:8080/",
          "height": 35
        },
        "id": "JY55Iy-lTZAY",
        "outputId": "8e601dc5-53d4-4d7b-dccc-ed1a33c9d06a"
      },
      "execution_count": 40,
      "outputs": [
        {
          "output_type": "execute_result",
          "data": {
            "text/plain": [
              "\"This oatmeal is not good. Its mushy, soft, I don't like it. Quaker Oats is the way to go.\""
            ],
            "application/vnd.google.colaboratory.intrinsic+json": {
              "type": "string"
            }
          },
          "metadata": {},
          "execution_count": 40
        }
      ]
    },
    {
      "cell_type": "code",
      "source": [
        "print(nltk.word_tokenize(example))"
      ],
      "metadata": {
        "colab": {
          "base_uri": "https://localhost:8080/"
        },
        "id": "i1tpIlERTiOn",
        "outputId": "6bafcd65-f3aa-4ebd-d671-cfeb3c42fb37"
      },
      "execution_count": 41,
      "outputs": [
        {
          "output_type": "stream",
          "name": "stdout",
          "text": [
            "['This', 'oatmeal', 'is', 'not', 'good', '.', 'Its', 'mushy', ',', 'soft', ',', 'I', 'do', \"n't\", 'like', 'it', '.', 'Quaker', 'Oats', 'is', 'the', 'way', 'to', 'go', '.']\n"
          ]
        }
      ]
    },
    {
      "cell_type": "code",
      "source": [
        "tokens=nltk.word_tokenize(example)\n",
        "tokens[:10]"
      ],
      "metadata": {
        "colab": {
          "base_uri": "https://localhost:8080/"
        },
        "id": "rZnDgo9fTwIs",
        "outputId": "3caae803-ef80-499e-e69b-a63e970b140c"
      },
      "execution_count": 42,
      "outputs": [
        {
          "output_type": "execute_result",
          "data": {
            "text/plain": [
              "['This', 'oatmeal', 'is', 'not', 'good', '.', 'Its', 'mushy', ',', 'soft']"
            ]
          },
          "metadata": {},
          "execution_count": 42
        }
      ]
    },
    {
      "cell_type": "code",
      "source": [
        "nltk.download('averaged_perceptron_tagger')"
      ],
      "metadata": {
        "colab": {
          "base_uri": "https://localhost:8080/"
        },
        "id": "sc7xqLeTVOrY",
        "outputId": "fc6f189c-cb1c-42fe-e013-dbfa42611e85"
      },
      "execution_count": 43,
      "outputs": [
        {
          "output_type": "stream",
          "name": "stderr",
          "text": [
            "[nltk_data] Downloading package averaged_perceptron_tagger to\n",
            "[nltk_data]     /root/nltk_data...\n",
            "[nltk_data]   Unzipping taggers/averaged_perceptron_tagger.zip.\n"
          ]
        },
        {
          "output_type": "execute_result",
          "data": {
            "text/plain": [
              "True"
            ]
          },
          "metadata": {},
          "execution_count": 43
        }
      ]
    },
    {
      "cell_type": "code",
      "source": [
        "tagged=nltk.pos_tag(tokens)\n",
        "tagged[:10]"
      ],
      "metadata": {
        "colab": {
          "base_uri": "https://localhost:8080/"
        },
        "id": "Al1TzrYIUgXf",
        "outputId": "0dad148a-3de9-418d-a11e-d6f0413df197"
      },
      "execution_count": 44,
      "outputs": [
        {
          "output_type": "execute_result",
          "data": {
            "text/plain": [
              "[('This', 'DT'),\n",
              " ('oatmeal', 'NN'),\n",
              " ('is', 'VBZ'),\n",
              " ('not', 'RB'),\n",
              " ('good', 'JJ'),\n",
              " ('.', '.'),\n",
              " ('Its', 'PRP$'),\n",
              " ('mushy', 'NN'),\n",
              " (',', ','),\n",
              " ('soft', 'JJ')]"
            ]
          },
          "metadata": {},
          "execution_count": 44
        }
      ]
    },
    {
      "cell_type": "code",
      "source": [
        " nltk.download('maxent_ne_chunker')"
      ],
      "metadata": {
        "colab": {
          "base_uri": "https://localhost:8080/"
        },
        "id": "zxY-4wiKWqIt",
        "outputId": "73ad2f4c-ee2d-4fa7-9cdf-c9019a3ca484"
      },
      "execution_count": 45,
      "outputs": [
        {
          "output_type": "stream",
          "name": "stderr",
          "text": [
            "[nltk_data] Downloading package maxent_ne_chunker to\n",
            "[nltk_data]     /root/nltk_data...\n",
            "[nltk_data]   Unzipping chunkers/maxent_ne_chunker.zip.\n"
          ]
        },
        {
          "output_type": "execute_result",
          "data": {
            "text/plain": [
              "True"
            ]
          },
          "metadata": {},
          "execution_count": 45
        }
      ]
    },
    {
      "cell_type": "code",
      "source": [
        "nltk.download('words')"
      ],
      "metadata": {
        "colab": {
          "base_uri": "https://localhost:8080/"
        },
        "id": "tOiz2yWhWwlu",
        "outputId": "c8421e45-98ad-4a40-db8f-c8abd048b132"
      },
      "execution_count": 46,
      "outputs": [
        {
          "output_type": "stream",
          "name": "stderr",
          "text": [
            "[nltk_data] Downloading package words to /root/nltk_data...\n",
            "[nltk_data]   Unzipping corpora/words.zip.\n"
          ]
        },
        {
          "output_type": "execute_result",
          "data": {
            "text/plain": [
              "True"
            ]
          },
          "metadata": {},
          "execution_count": 46
        }
      ]
    },
    {
      "cell_type": "code",
      "source": [
        "entities=nltk.chunk.ne_chunk(tagged)\n",
        "entities.pprint()"
      ],
      "metadata": {
        "colab": {
          "base_uri": "https://localhost:8080/"
        },
        "id": "p8Lch0IYU7Vv",
        "outputId": "43bbdc2d-158a-45fd-abac-6a052321d0fe"
      },
      "execution_count": 47,
      "outputs": [
        {
          "output_type": "stream",
          "name": "stdout",
          "text": [
            "(S\n",
            "  This/DT\n",
            "  oatmeal/NN\n",
            "  is/VBZ\n",
            "  not/RB\n",
            "  good/JJ\n",
            "  ./.\n",
            "  Its/PRP$\n",
            "  mushy/NN\n",
            "  ,/,\n",
            "  soft/JJ\n",
            "  ,/,\n",
            "  I/PRP\n",
            "  do/VBP\n",
            "  n't/RB\n",
            "  like/VB\n",
            "  it/PRP\n",
            "  ./.\n",
            "  (ORGANIZATION Quaker/NNP Oats/NNPS)\n",
            "  is/VBZ\n",
            "  the/DT\n",
            "  way/NN\n",
            "  to/TO\n",
            "  go/VB\n",
            "  ./.)\n"
          ]
        }
      ]
    },
    {
      "cell_type": "code",
      "source": [
        "from google.colab import drive\n",
        "drive.mount('/content/drive')"
      ],
      "metadata": {
        "colab": {
          "base_uri": "https://localhost:8080/"
        },
        "id": "gseSyJGJ2h9C",
        "outputId": "72038c18-1102-4109-e7bc-f5ad25e82198"
      },
      "execution_count": 48,
      "outputs": [
        {
          "output_type": "stream",
          "name": "stdout",
          "text": [
            "Drive already mounted at /content/drive; to attempt to forcibly remount, call drive.mount(\"/content/drive\", force_remount=True).\n"
          ]
        }
      ]
    },
    {
      "cell_type": "code",
      "source": [
        "nltk.download('vader_lexicon')"
      ],
      "metadata": {
        "colab": {
          "base_uri": "https://localhost:8080/"
        },
        "id": "42Y8FOREYSlm",
        "outputId": "000737f4-0dc7-458c-ac95-768e400d6e99"
      },
      "execution_count": 49,
      "outputs": [
        {
          "output_type": "stream",
          "name": "stderr",
          "text": [
            "[nltk_data] Downloading package vader_lexicon to /root/nltk_data...\n"
          ]
        },
        {
          "output_type": "execute_result",
          "data": {
            "text/plain": [
              "True"
            ]
          },
          "metadata": {},
          "execution_count": 49
        }
      ]
    },
    {
      "cell_type": "code",
      "source": [
        "from nltk.sentiment import SentimentIntensityAnalyzer\n",
        "from tqdm.notebook import tqdm\n",
        "sia=SentimentIntensityAnalyzer()"
      ],
      "metadata": {
        "id": "14cXVpv5WliS"
      },
      "execution_count": 50,
      "outputs": []
    },
    {
      "cell_type": "code",
      "source": [
        "sia.polarity_scores(\"i am so happy !\")"
      ],
      "metadata": {
        "colab": {
          "base_uri": "https://localhost:8080/"
        },
        "id": "0q3KxlSnYOXE",
        "outputId": "859223cb-f4af-40a3-c580-54670102cad3"
      },
      "execution_count": 51,
      "outputs": [
        {
          "output_type": "execute_result",
          "data": {
            "text/plain": [
              "{'neg': 0.0, 'neu': 0.318, 'pos': 0.682, 'compound': 0.6468}"
            ]
          },
          "metadata": {},
          "execution_count": 51
        }
      ]
    },
    {
      "cell_type": "code",
      "source": [
        "sia.polarity_scores(\"This is the worst ever.\")"
      ],
      "metadata": {
        "colab": {
          "base_uri": "https://localhost:8080/"
        },
        "id": "KtdwQu32Yc65",
        "outputId": "c95f5c15-2982-4107-94be-cc6d879f3722"
      },
      "execution_count": 52,
      "outputs": [
        {
          "output_type": "execute_result",
          "data": {
            "text/plain": [
              "{'neg': 0.506, 'neu': 0.494, 'pos': 0.0, 'compound': -0.6249}"
            ]
          },
          "metadata": {},
          "execution_count": 52
        }
      ]
    },
    {
      "cell_type": "code",
      "source": [
        "sia.polarity_scores(example)"
      ],
      "metadata": {
        "colab": {
          "base_uri": "https://localhost:8080/"
        },
        "id": "TB7LQwTfYrFF",
        "outputId": "5f569315-4a21-4faa-b684-2f78f583d716"
      },
      "execution_count": 53,
      "outputs": [
        {
          "output_type": "execute_result",
          "data": {
            "text/plain": [
              "{'neg': 0.22, 'neu': 0.78, 'pos': 0.0, 'compound': -0.5448}"
            ]
          },
          "metadata": {},
          "execution_count": 53
        }
      ]
    },
    {
      "cell_type": "code",
      "source": [
        "## Run the polarity score on the entire dataset\n",
        "res={}\n",
        "for i,row in tqdm(df.iterrows(),total=len(df)):\n",
        "  text=row['Text']\n",
        "  myid=row['Id']\n",
        "  res[myid]=sia.polarity_scores(text)"
      ],
      "metadata": {
        "colab": {
          "base_uri": "https://localhost:8080/",
          "height": 49,
          "referenced_widgets": [
            "85708c51bb51445aa375a2e0d7302a91",
            "a8d335ae161446b4970005e3c55b9d1f",
            "6e608b5f64244aa0820a4098e9158f5d",
            "6ed2c2ff173c48f6a3531b9bd2a28c6e",
            "071b9a608869491ab35607ea39d1fe97",
            "87a40edeb3a749ebb0e1c2f1e3e76591",
            "3c3a5d7b626d47b8a8cf7ff04a4c22bc",
            "12ebe71f75794744beb37fd4e4c39f73",
            "0f5b13cf904a478a80ed345d5797905a",
            "0ac15d6dc2144f869c6719ec882f5223",
            "f8984aa48c5e436a9a5f640039bb7700"
          ]
        },
        "id": "-Km8itqJY2jk",
        "outputId": "db78ec5f-5573-4caa-ffed-d1fc97d693e5"
      },
      "execution_count": 54,
      "outputs": [
        {
          "output_type": "display_data",
          "data": {
            "text/plain": [
              "  0%|          | 0/500 [00:00<?, ?it/s]"
            ],
            "application/vnd.jupyter.widget-view+json": {
              "version_major": 2,
              "version_minor": 0,
              "model_id": "85708c51bb51445aa375a2e0d7302a91"
            }
          },
          "metadata": {}
        }
      ]
    },
    {
      "cell_type": "code",
      "source": [
        "res"
      ],
      "metadata": {
        "colab": {
          "base_uri": "https://localhost:8080/"
        },
        "id": "_pfLI4JbasfS",
        "outputId": "2d582ca0-85bc-4fbb-a7d0-5569a0f08af5"
      },
      "execution_count": 55,
      "outputs": [
        {
          "output_type": "execute_result",
          "data": {
            "text/plain": [
              "{1: {'neg': 0.0, 'neu': 0.695, 'pos': 0.305, 'compound': 0.9441},\n",
              " 2: {'neg': 0.138, 'neu': 0.862, 'pos': 0.0, 'compound': -0.5664},\n",
              " 3: {'neg': 0.091, 'neu': 0.754, 'pos': 0.155, 'compound': 0.8265},\n",
              " 4: {'neg': 0.0, 'neu': 1.0, 'pos': 0.0, 'compound': 0.0},\n",
              " 5: {'neg': 0.0, 'neu': 0.552, 'pos': 0.448, 'compound': 0.9468},\n",
              " 6: {'neg': 0.029, 'neu': 0.809, 'pos': 0.163, 'compound': 0.883},\n",
              " 7: {'neg': 0.034, 'neu': 0.693, 'pos': 0.273, 'compound': 0.9346},\n",
              " 8: {'neg': 0.0, 'neu': 0.52, 'pos': 0.48, 'compound': 0.9487},\n",
              " 9: {'neg': 0.0, 'neu': 0.851, 'pos': 0.149, 'compound': 0.6369},\n",
              " 10: {'neg': 0.0, 'neu': 0.705, 'pos': 0.295, 'compound': 0.8313},\n",
              " 11: {'neg': 0.017, 'neu': 0.846, 'pos': 0.137, 'compound': 0.9746},\n",
              " 12: {'neg': 0.113, 'neu': 0.887, 'pos': 0.0, 'compound': -0.7579},\n",
              " 13: {'neg': 0.031, 'neu': 0.923, 'pos': 0.046, 'compound': 0.296},\n",
              " 14: {'neg': 0.0, 'neu': 0.355, 'pos': 0.645, 'compound': 0.9466},\n",
              " 15: {'neg': 0.104, 'neu': 0.632, 'pos': 0.264, 'compound': 0.6486},\n",
              " 16: {'neg': 0.0, 'neu': 0.861, 'pos': 0.139, 'compound': 0.5719},\n",
              " 17: {'neg': 0.097, 'neu': 0.694, 'pos': 0.209, 'compound': 0.7481},\n",
              " 18: {'neg': 0.0, 'neu': 0.61, 'pos': 0.39, 'compound': 0.8883},\n",
              " 19: {'neg': 0.012, 'neu': 0.885, 'pos': 0.103, 'compound': 0.8957},\n",
              " 20: {'neg': 0.0, 'neu': 0.863, 'pos': 0.137, 'compound': 0.6077},\n",
              " 21: {'neg': 0.0, 'neu': 0.865, 'pos': 0.135, 'compound': 0.6249},\n",
              " 22: {'neg': 0.0, 'neu': 0.739, 'pos': 0.261, 'compound': 0.9153},\n",
              " 23: {'neg': 0.0, 'neu': 0.768, 'pos': 0.232, 'compound': 0.7687},\n",
              " 24: {'neg': 0.085, 'neu': 0.771, 'pos': 0.143, 'compound': 0.2617},\n",
              " 25: {'neg': 0.038, 'neu': 0.895, 'pos': 0.068, 'compound': 0.3939},\n",
              " 26: {'neg': 0.0, 'neu': 1.0, 'pos': 0.0, 'compound': 0.0},\n",
              " 27: {'neg': 0.128, 'neu': 0.872, 'pos': 0.0, 'compound': -0.296},\n",
              " 28: {'neg': 0.04, 'neu': 0.808, 'pos': 0.152, 'compound': 0.5956},\n",
              " 29: {'neg': 0.022, 'neu': 0.669, 'pos': 0.309, 'compound': 0.9913},\n",
              " 30: {'neg': 0.017, 'neu': 0.846, 'pos': 0.137, 'compound': 0.9746},\n",
              " 31: {'neg': 0.041, 'neu': 0.692, 'pos': 0.267, 'compound': 0.9713},\n",
              " 32: {'neg': 0.0, 'neu': 0.484, 'pos': 0.516, 'compound': 0.9153},\n",
              " 33: {'neg': 0.069, 'neu': 0.839, 'pos': 0.092, 'compound': 0.7103},\n",
              " 34: {'neg': 0.024, 'neu': 0.72, 'pos': 0.256, 'compound': 0.9779},\n",
              " 35: {'neg': 0.0, 'neu': 0.874, 'pos': 0.126, 'compound': 0.9091},\n",
              " 36: {'neg': 0.024, 'neu': 0.821, 'pos': 0.155, 'compound': 0.7622},\n",
              " 37: {'neg': 0.0, 'neu': 0.754, 'pos': 0.246, 'compound': 0.9196},\n",
              " 38: {'neg': 0.0, 'neu': 0.938, 'pos': 0.062, 'compound': 0.4457},\n",
              " 39: {'neg': 0.05, 'neu': 0.846, 'pos': 0.104, 'compound': 0.7638},\n",
              " 40: {'neg': 0.0, 'neu': 0.856, 'pos': 0.144, 'compound': 0.8114},\n",
              " 41: {'neg': 0.033, 'neu': 0.82, 'pos': 0.147, 'compound': 0.9301},\n",
              " 42: {'neg': 0.03, 'neu': 0.848, 'pos': 0.122, 'compound': 0.9435},\n",
              " 43: {'neg': 0.0, 'neu': 0.588, 'pos': 0.412, 'compound': 0.9441},\n",
              " 44: {'neg': 0.0, 'neu': 0.685, 'pos': 0.315, 'compound': 0.9161},\n",
              " 45: {'neg': 0.031, 'neu': 0.778, 'pos': 0.191, 'compound': 0.8421},\n",
              " 46: {'neg': 0.0, 'neu': 1.0, 'pos': 0.0, 'compound': 0.0},\n",
              " 47: {'neg': 0.0, 'neu': 0.737, 'pos': 0.263, 'compound': 0.9169},\n",
              " 48: {'neg': 0.0, 'neu': 0.868, 'pos': 0.132, 'compound': 0.4404},\n",
              " 49: {'neg': 0.0, 'neu': 0.821, 'pos': 0.179, 'compound': 0.747},\n",
              " 50: {'neg': 0.056, 'neu': 0.865, 'pos': 0.079, 'compound': 0.2363},\n",
              " 51: {'neg': 0.22, 'neu': 0.78, 'pos': 0.0, 'compound': -0.5448},\n",
              " 52: {'neg': 0.047, 'neu': 0.735, 'pos': 0.218, 'compound': 0.9194},\n",
              " 53: {'neg': 0.09, 'neu': 0.858, 'pos': 0.052, 'compound': -0.8259},\n",
              " 54: {'neg': 0.075, 'neu': 0.925, 'pos': 0.0, 'compound': -0.3612},\n",
              " 55: {'neg': 0.0, 'neu': 0.857, 'pos': 0.143, 'compound': 0.8761},\n",
              " 56: {'neg': 0.071, 'neu': 0.708, 'pos': 0.221, 'compound': 0.8908},\n",
              " 57: {'neg': 0.029, 'neu': 0.694, 'pos': 0.277, 'compound': 0.908},\n",
              " 58: {'neg': 0.0, 'neu': 0.701, 'pos': 0.299, 'compound': 0.91},\n",
              " 59: {'neg': 0.0, 'neu': 0.611, 'pos': 0.389, 'compound': 0.9323},\n",
              " 60: {'neg': 0.0, 'neu': 0.638, 'pos': 0.362, 'compound': 0.8807},\n",
              " 61: {'neg': 0.0, 'neu': 0.9, 'pos': 0.1, 'compound': 0.4404},\n",
              " 62: {'neg': 0.0, 'neu': 0.741, 'pos': 0.259, 'compound': 0.8442},\n",
              " 63: {'neg': 0.0, 'neu': 1.0, 'pos': 0.0, 'compound': 0.0},\n",
              " 64: {'neg': 0.055, 'neu': 0.765, 'pos': 0.179, 'compound': 0.9817},\n",
              " 65: {'neg': 0.046, 'neu': 0.75, 'pos': 0.205, 'compound': 0.8674},\n",
              " 66: {'neg': 0.04, 'neu': 0.822, 'pos': 0.138, 'compound': 0.5165},\n",
              " 67: {'neg': 0.057, 'neu': 0.869, 'pos': 0.073, 'compound': 0.492},\n",
              " 68: {'neg': 0.183, 'neu': 0.776, 'pos': 0.041, 'compound': -0.9116},\n",
              " 69: {'neg': 0.135, 'neu': 0.71, 'pos': 0.155, 'compound': -0.0096},\n",
              " 70: {'neg': 0.344, 'neu': 0.52, 'pos': 0.136, 'compound': -0.7345},\n",
              " 71: {'neg': 0.036, 'neu': 0.916, 'pos': 0.048, 'compound': 0.2228},\n",
              " 72: {'neg': 0.078, 'neu': 0.701, 'pos': 0.222, 'compound': 0.9733},\n",
              " 73: {'neg': 0.025, 'neu': 0.653, 'pos': 0.323, 'compound': 0.9787},\n",
              " 74: {'neg': 0.093, 'neu': 0.762, 'pos': 0.144, 'compound': 0.9665},\n",
              " 75: {'neg': 0.0, 'neu': 0.872, 'pos': 0.128, 'compound': 0.2263},\n",
              " 76: {'neg': 0.106, 'neu': 0.768, 'pos': 0.126, 'compound': 0.1098},\n",
              " 77: {'neg': 0.019, 'neu': 0.898, 'pos': 0.083, 'compound': 0.5647},\n",
              " 78: {'neg': 0.034, 'neu': 0.798, 'pos': 0.168, 'compound': 0.8303},\n",
              " 79: {'neg': 0.0, 'neu': 0.763, 'pos': 0.237, 'compound': 0.7814},\n",
              " 80: {'neg': 0.087, 'neu': 0.589, 'pos': 0.324, 'compound': 0.8636},\n",
              " 81: {'neg': 0.0, 'neu': 0.723, 'pos': 0.277, 'compound': 0.9098},\n",
              " 82: {'neg': 0.0, 'neu': 0.663, 'pos': 0.337, 'compound': 0.9041},\n",
              " 83: {'neg': 0.04, 'neu': 0.794, 'pos': 0.165, 'compound': 0.9957},\n",
              " 84: {'neg': 0.055, 'neu': 0.767, 'pos': 0.178, 'compound': 0.8642},\n",
              " 85: {'neg': 0.109, 'neu': 0.676, 'pos': 0.214, 'compound': 0.8431},\n",
              " 86: {'neg': 0.035, 'neu': 0.698, 'pos': 0.267, 'compound': 0.9487},\n",
              " 87: {'neg': 0.019, 'neu': 0.855, 'pos': 0.126, 'compound': 0.8797},\n",
              " 88: {'neg': 0.05, 'neu': 0.735, 'pos': 0.215, 'compound': 0.7424},\n",
              " 89: {'neg': 0.048, 'neu': 0.762, 'pos': 0.19, 'compound': 0.9716},\n",
              " 90: {'neg': 0.029, 'neu': 0.645, 'pos': 0.326, 'compound': 0.9554},\n",
              " 91: {'neg': 0.0, 'neu': 0.833, 'pos': 0.167, 'compound': 0.7351},\n",
              " 92: {'neg': 0.0, 'neu': 0.837, 'pos': 0.163, 'compound': 0.6249},\n",
              " 93: {'neg': 0.069, 'neu': 0.663, 'pos': 0.268, 'compound': 0.8255},\n",
              " 94: {'neg': 0.01, 'neu': 0.781, 'pos': 0.208, 'compound': 0.9882},\n",
              " 95: {'neg': 0.0, 'neu': 1.0, 'pos': 0.0, 'compound': 0.0},\n",
              " 96: {'neg': 0.031, 'neu': 0.732, 'pos': 0.237, 'compound': 0.9273},\n",
              " 97: {'neg': 0.0, 'neu': 0.818, 'pos': 0.182, 'compound': 0.982},\n",
              " 98: {'neg': 0.053, 'neu': 0.793, 'pos': 0.154, 'compound': 0.7729},\n",
              " 99: {'neg': 0.024, 'neu': 0.91, 'pos': 0.066, 'compound': 0.5106},\n",
              " 100: {'neg': 0.173, 'neu': 0.735, 'pos': 0.092, 'compound': -0.5267},\n",
              " 101: {'neg': 0.0, 'neu': 0.807, 'pos': 0.193, 'compound': 0.7717},\n",
              " 102: {'neg': 0.103, 'neu': 0.752, 'pos': 0.145, 'compound': 0.2285},\n",
              " 103: {'neg': 0.0, 'neu': 0.75, 'pos': 0.25, 'compound': 0.9287},\n",
              " 104: {'neg': 0.0, 'neu': 0.859, 'pos': 0.141, 'compound': 0.7249},\n",
              " 105: {'neg': 0.051, 'neu': 0.577, 'pos': 0.372, 'compound': 0.9313},\n",
              " 106: {'neg': 0.0, 'neu': 0.696, 'pos': 0.304, 'compound': 0.9603},\n",
              " 107: {'neg': 0.0, 'neu': 0.791, 'pos': 0.209, 'compound': 0.5719},\n",
              " 108: {'neg': 0.0, 'neu': 0.804, 'pos': 0.196, 'compound': 0.9503},\n",
              " 109: {'neg': 0.059, 'neu': 0.676, 'pos': 0.265, 'compound': 0.9116},\n",
              " 110: {'neg': 0.014, 'neu': 0.764, 'pos': 0.222, 'compound': 0.9841},\n",
              " 111: {'neg': 0.059, 'neu': 0.879, 'pos': 0.062, 'compound': 0.0176},\n",
              " 112: {'neg': 0.0, 'neu': 0.81, 'pos': 0.19, 'compound': 0.8769},\n",
              " 113: {'neg': 0.037, 'neu': 0.786, 'pos': 0.177, 'compound': 0.9946},\n",
              " 114: {'neg': 0.0, 'neu': 0.631, 'pos': 0.369, 'compound': 0.8779},\n",
              " 115: {'neg': 0.027, 'neu': 0.727, 'pos': 0.245, 'compound': 0.9379},\n",
              " 116: {'neg': 0.0, 'neu': 0.645, 'pos': 0.355, 'compound': 0.872},\n",
              " 117: {'neg': 0.0, 'neu': 0.892, 'pos': 0.108, 'compound': 0.6573},\n",
              " 118: {'neg': 0.0, 'neu': 0.781, 'pos': 0.219, 'compound': 0.9751},\n",
              " 119: {'neg': 0.05, 'neu': 0.872, 'pos': 0.079, 'compound': 0.8972},\n",
              " 120: {'neg': 0.013, 'neu': 0.785, 'pos': 0.203, 'compound': 0.9828},\n",
              " 121: {'neg': 0.026, 'neu': 0.759, 'pos': 0.215, 'compound': 0.9509},\n",
              " 122: {'neg': 0.102, 'neu': 0.822, 'pos': 0.076, 'compound': -0.3626},\n",
              " 123: {'neg': 0.025, 'neu': 0.803, 'pos': 0.172, 'compound': 0.9022},\n",
              " 124: {'neg': 0.017, 'neu': 0.795, 'pos': 0.188, 'compound': 0.9769},\n",
              " 125: {'neg': 0.079, 'neu': 0.67, 'pos': 0.252, 'compound': 0.9678},\n",
              " 126: {'neg': 0.035, 'neu': 0.87, 'pos': 0.095, 'compound': 0.5709},\n",
              " 127: {'neg': 0.0, 'neu': 0.721, 'pos': 0.279, 'compound': 0.9258},\n",
              " 128: {'neg': 0.067, 'neu': 0.633, 'pos': 0.299, 'compound': 0.9022},\n",
              " 129: {'neg': 0.043, 'neu': 0.728, 'pos': 0.229, 'compound': 0.8142},\n",
              " 130: {'neg': 0.114, 'neu': 0.676, 'pos': 0.21, 'compound': 0.6721},\n",
              " 131: {'neg': 0.0, 'neu': 0.755, 'pos': 0.245, 'compound': 0.8658},\n",
              " 132: {'neg': 0.135, 'neu': 0.76, 'pos': 0.105, 'compound': -0.3612},\n",
              " 133: {'neg': 0.046, 'neu': 0.772, 'pos': 0.181, 'compound': 0.7902},\n",
              " 134: {'neg': 0.02, 'neu': 0.878, 'pos': 0.103, 'compound': 0.8082},\n",
              " 135: {'neg': 0.0, 'neu': 0.877, 'pos': 0.123, 'compound': 0.4215},\n",
              " 136: {'neg': 0.0, 'neu': 0.9, 'pos': 0.1, 'compound': 0.6503},\n",
              " 137: {'neg': 0.0, 'neu': 0.695, 'pos': 0.305, 'compound': 0.9661},\n",
              " 138: {'neg': 0.0, 'neu': 0.689, 'pos': 0.311, 'compound': 0.8591},\n",
              " 139: {'neg': 0.15, 'neu': 0.773, 'pos': 0.077, 'compound': -0.4199},\n",
              " 140: {'neg': 0.043, 'neu': 0.833, 'pos': 0.125, 'compound': 0.835},\n",
              " 141: {'neg': 0.098, 'neu': 0.787, 'pos': 0.114, 'compound': 0.2023},\n",
              " 142: {'neg': 0.0, 'neu': 0.782, 'pos': 0.218, 'compound': 0.7814},\n",
              " 143: {'neg': 0.0, 'neu': 0.763, 'pos': 0.237, 'compound': 0.9296},\n",
              " 144: {'neg': 0.059, 'neu': 0.667, 'pos': 0.274, 'compound': 0.9653},\n",
              " 145: {'neg': 0.058, 'neu': 0.841, 'pos': 0.102, 'compound': 0.6124},\n",
              " 146: {'neg': 0.144, 'neu': 0.677, 'pos': 0.178, 'compound': 0.6341},\n",
              " 147: {'neg': 0.087, 'neu': 0.783, 'pos': 0.13, 'compound': 0.7567},\n",
              " 148: {'neg': 0.058, 'neu': 0.867, 'pos': 0.075, 'compound': 0.1533},\n",
              " 149: {'neg': 0.04, 'neu': 0.833, 'pos': 0.127, 'compound': 0.6956},\n",
              " 150: {'neg': 0.0, 'neu': 0.709, 'pos': 0.291, 'compound': 0.9231},\n",
              " 151: {'neg': 0.0, 'neu': 0.564, 'pos': 0.436, 'compound': 0.9858},\n",
              " 152: {'neg': 0.0, 'neu': 0.784, 'pos': 0.216, 'compound': 0.765},\n",
              " 153: {'neg': 0.0, 'neu': 0.775, 'pos': 0.225, 'compound': 0.7269},\n",
              " 154: {'neg': 0.12, 'neu': 0.76, 'pos': 0.12, 'compound': 0.2502},\n",
              " 155: {'neg': 0.0, 'neu': 0.647, 'pos': 0.353, 'compound': 0.9803},\n",
              " 156: {'neg': 0.0, 'neu': 0.768, 'pos': 0.232, 'compound': 0.9681},\n",
              " 157: {'neg': 0.191, 'neu': 0.809, 'pos': 0.0, 'compound': -0.7269},\n",
              " 158: {'neg': 0.071, 'neu': 0.514, 'pos': 0.415, 'compound': 0.8934},\n",
              " 159: {'neg': 0.065, 'neu': 0.893, 'pos': 0.042, 'compound': -0.4721},\n",
              " 160: {'neg': 0.081, 'neu': 0.779, 'pos': 0.14, 'compound': 0.4194},\n",
              " 161: {'neg': 0.0, 'neu': 0.644, 'pos': 0.356, 'compound': 0.9117},\n",
              " 162: {'neg': 0.106, 'neu': 0.894, 'pos': 0.0, 'compound': -0.5504},\n",
              " 163: {'neg': 0.072, 'neu': 0.652, 'pos': 0.276, 'compound': 0.9517},\n",
              " 164: {'neg': 0.047, 'neu': 0.869, 'pos': 0.085, 'compound': 0.4199},\n",
              " 165: {'neg': 0.025, 'neu': 0.752, 'pos': 0.223, 'compound': 0.8957},\n",
              " 166: {'neg': 0.032, 'neu': 0.717, 'pos': 0.251, 'compound': 0.9597},\n",
              " 167: {'neg': 0.0, 'neu': 0.657, 'pos': 0.343, 'compound': 0.9098},\n",
              " 168: {'neg': 0.05, 'neu': 0.905, 'pos': 0.045, 'compound': -0.1154},\n",
              " 169: {'neg': 0.186, 'neu': 0.74, 'pos': 0.074, 'compound': -0.5283},\n",
              " 170: {'neg': 0.141, 'neu': 0.832, 'pos': 0.028, 'compound': -0.7721},\n",
              " 171: {'neg': 0.0, 'neu': 0.854, 'pos': 0.146, 'compound': 0.6476},\n",
              " 172: {'neg': 0.04, 'neu': 0.844, 'pos': 0.116, 'compound': 0.6808},\n",
              " 173: {'neg': 0.0, 'neu': 0.763, 'pos': 0.237, 'compound': 0.8906},\n",
              " 174: {'neg': 0.022, 'neu': 0.788, 'pos': 0.189, 'compound': 0.9901},\n",
              " 175: {'neg': 0.04, 'neu': 0.722, 'pos': 0.237, 'compound': 0.9782},\n",
              " 176: {'neg': 0.0, 'neu': 0.874, 'pos': 0.126, 'compound': 0.7579},\n",
              " 177: {'neg': 0.0, 'neu': 0.938, 'pos': 0.062, 'compound': 0.4215},\n",
              " 178: {'neg': 0.058, 'neu': 0.794, 'pos': 0.148, 'compound': 0.6249},\n",
              " 179: {'neg': 0.2, 'neu': 0.63, 'pos': 0.171, 'compound': 0.1203},\n",
              " 180: {'neg': 0.048, 'neu': 0.829, 'pos': 0.122, 'compound': 0.7458},\n",
              " 181: {'neg': 0.076, 'neu': 0.767, 'pos': 0.156, 'compound': 0.6085},\n",
              " 182: {'neg': 0.0, 'neu': 0.433, 'pos': 0.567, 'compound': 0.9667},\n",
              " 183: {'neg': 0.088, 'neu': 0.743, 'pos': 0.169, 'compound': 0.943},\n",
              " 184: {'neg': 0.0, 'neu': 0.857, 'pos': 0.143, 'compound': 0.9577},\n",
              " 185: {'neg': 0.11, 'neu': 0.593, 'pos': 0.297, 'compound': 0.6597},\n",
              " 186: {'neg': 0.189, 'neu': 0.811, 'pos': 0.0, 'compound': -0.5994},\n",
              " 187: {'neg': 0.016, 'neu': 0.842, 'pos': 0.142, 'compound': 0.9944},\n",
              " 188: {'neg': 0.0, 'neu': 0.824, 'pos': 0.176, 'compound': 0.6983},\n",
              " 189: {'neg': 0.0, 'neu': 0.843, 'pos': 0.157, 'compound': 0.8868},\n",
              " 190: {'neg': 0.0, 'neu': 0.934, 'pos': 0.066, 'compound': 0.3506},\n",
              " 191: {'neg': 0.148, 'neu': 0.64, 'pos': 0.212, 'compound': 0.4926},\n",
              " 192: {'neg': 0.0, 'neu': 0.75, 'pos': 0.25, 'compound': 0.9062},\n",
              " 193: {'neg': 0.055, 'neu': 0.728, 'pos': 0.217, 'compound': 0.8756},\n",
              " 194: {'neg': 0.031, 'neu': 0.735, 'pos': 0.234, 'compound': 0.9595},\n",
              " 195: {'neg': 0.082, 'neu': 0.483, 'pos': 0.435, 'compound': 0.8299},\n",
              " 196: {'neg': 0.0, 'neu': 0.761, 'pos': 0.239, 'compound': 0.9538},\n",
              " 197: {'neg': 0.0, 'neu': 0.917, 'pos': 0.083, 'compound': 0.4738},\n",
              " 198: {'neg': 0.0, 'neu': 0.904, 'pos': 0.096, 'compound': 0.4153},\n",
              " 199: {'neg': 0.0, 'neu': 0.701, 'pos': 0.299, 'compound': 0.8268},\n",
              " 200: {'neg': 0.0, 'neu': 0.811, 'pos': 0.189, 'compound': 0.7178},\n",
              " 201: {'neg': 0.039, 'neu': 0.888, 'pos': 0.072, 'compound': 0.6381},\n",
              " 202: {'neg': 0.064, 'neu': 0.597, 'pos': 0.339, 'compound': 0.9531},\n",
              " 203: {'neg': 0.0, 'neu': 0.688, 'pos': 0.312, 'compound': 0.8225},\n",
              " 204: {'neg': 0.061, 'neu': 0.814, 'pos': 0.125, 'compound': 0.8728},\n",
              " 205: {'neg': 0.0, 'neu': 0.882, 'pos': 0.118, 'compound': 0.6249},\n",
              " 206: {'neg': 0.0, 'neu': 0.754, 'pos': 0.246, 'compound': 0.9368},\n",
              " 207: {'neg': 0.0, 'neu': 0.59, 'pos': 0.41, 'compound': 0.8779},\n",
              " 208: {'neg': 0.051, 'neu': 0.8, 'pos': 0.15, 'compound': 0.8436},\n",
              " 209: {'neg': 0.05, 'neu': 0.82, 'pos': 0.13, 'compound': 0.8913},\n",
              " 210: {'neg': 0.045, 'neu': 0.761, 'pos': 0.194, 'compound': 0.9893},\n",
              " 211: {'neg': 0.075, 'neu': 0.755, 'pos': 0.171, 'compound': 0.9218},\n",
              " 212: {'neg': 0.051, 'neu': 0.821, 'pos': 0.129, 'compound': 0.9529},\n",
              " 213: {'neg': 0.051, 'neu': 0.838, 'pos': 0.11, 'compound': 0.4404},\n",
              " 214: {'neg': 0.095, 'neu': 0.883, 'pos': 0.022, 'compound': -0.9726},\n",
              " 215: {'neg': 0.0, 'neu': 0.891, 'pos': 0.109, 'compound': 0.6476},\n",
              " 216: {'neg': 0.0, 'neu': 0.798, 'pos': 0.202, 'compound': 0.7964},\n",
              " 217: {'neg': 0.078, 'neu': 0.922, 'pos': 0.0, 'compound': -0.296},\n",
              " 218: {'neg': 0.015, 'neu': 0.884, 'pos': 0.101, 'compound': 0.9736},\n",
              " 219: {'neg': 0.059, 'neu': 0.774, 'pos': 0.167, 'compound': 0.9424},\n",
              " 220: {'neg': 0.031, 'neu': 0.702, 'pos': 0.267, 'compound': 0.9812},\n",
              " 221: {'neg': 0.027, 'neu': 0.909, 'pos': 0.064, 'compound': 0.25},\n",
              " 222: {'neg': 0.068, 'neu': 0.666, 'pos': 0.266, 'compound': 0.9883},\n",
              " 223: {'neg': 0.0, 'neu': 0.779, 'pos': 0.221, 'compound': 0.9623},\n",
              " 224: {'neg': 0.0, 'neu': 0.607, 'pos': 0.393, 'compound': 0.923},\n",
              " 225: {'neg': 0.152, 'neu': 0.739, 'pos': 0.109, 'compound': -0.25},\n",
              " 226: {'neg': 0.064, 'neu': 0.794, 'pos': 0.141, 'compound': 0.7951},\n",
              " 227: {'neg': 0.139, 'neu': 0.754, 'pos': 0.108, 'compound': -0.3774},\n",
              " 228: {'neg': 0.106, 'neu': 0.718, 'pos': 0.176, 'compound': 0.5475},\n",
              " 229: {'neg': 0.0, 'neu': 0.837, 'pos': 0.163, 'compound': 0.6486},\n",
              " 230: {'neg': 0.025, 'neu': 0.854, 'pos': 0.121, 'compound': 0.6478},\n",
              " 231: {'neg': 0.03, 'neu': 0.726, 'pos': 0.244, 'compound': 0.9281},\n",
              " 232: {'neg': 0.0, 'neu': 0.904, 'pos': 0.096, 'compound': 0.8144},\n",
              " 233: {'neg': 0.0, 'neu': 0.807, 'pos': 0.193, 'compound': 0.8126},\n",
              " 234: {'neg': 0.103, 'neu': 0.729, 'pos': 0.169, 'compound': 0.2481},\n",
              " 235: {'neg': 0.0, 'neu': 0.805, 'pos': 0.195, 'compound': 0.8655},\n",
              " 236: {'neg': 0.11, 'neu': 0.792, 'pos': 0.098, 'compound': -0.4786},\n",
              " 237: {'neg': 0.041, 'neu': 0.793, 'pos': 0.166, 'compound': 0.9387},\n",
              " 238: {'neg': 0.029, 'neu': 0.798, 'pos': 0.174, 'compound': 0.9936},\n",
              " 239: {'neg': 0.064, 'neu': 0.7, 'pos': 0.236, 'compound': 0.9677},\n",
              " 240: {'neg': 0.0, 'neu': 0.72, 'pos': 0.28, 'compound': 0.765},\n",
              " 241: {'neg': 0.066, 'neu': 0.71, 'pos': 0.223, 'compound': 0.9553},\n",
              " 242: {'neg': 0.0, 'neu': 0.765, 'pos': 0.235, 'compound': 0.807},\n",
              " 243: {'neg': 0.0, 'neu': 0.76, 'pos': 0.24, 'compound': 0.9344},\n",
              " 244: {'neg': 0.0, 'neu': 1.0, 'pos': 0.0, 'compound': 0.0},\n",
              " 245: {'neg': 0.081, 'neu': 0.63, 'pos': 0.289, 'compound': 0.765},\n",
              " 246: {'neg': 0.072, 'neu': 0.825, 'pos': 0.103, 'compound': 0.682},\n",
              " 247: {'neg': 0.075, 'neu': 0.633, 'pos': 0.292, 'compound': 0.9757},\n",
              " 248: {'neg': 0.0, 'neu': 0.869, 'pos': 0.131, 'compound': 0.7717},\n",
              " 249: {'neg': 0.0, 'neu': 0.602, 'pos': 0.398, 'compound': 0.9351},\n",
              " 250: {'neg': 0.0, 'neu': 0.75, 'pos': 0.25, 'compound': 0.7184},\n",
              " 251: {'neg': 0.047, 'neu': 0.781, 'pos': 0.172, 'compound': 0.9476},\n",
              " 252: {'neg': 0.076, 'neu': 0.924, 'pos': 0.0, 'compound': -0.4823},\n",
              " 253: {'neg': 0.107, 'neu': 0.893, 'pos': 0.0, 'compound': -0.4767},\n",
              " 254: {'neg': 0.0, 'neu': 0.801, 'pos': 0.199, 'compound': 0.9698},\n",
              " 255: {'neg': 0.091, 'neu': 0.736, 'pos': 0.172, 'compound': 0.4118},\n",
              " 256: {'neg': 0.103, 'neu': 0.699, 'pos': 0.198, 'compound': 0.9805},\n",
              " 257: {'neg': 0.034, 'neu': 0.664, 'pos': 0.302, 'compound': 0.9463},\n",
              " 258: {'neg': 0.105, 'neu': 0.816, 'pos': 0.079, 'compound': -0.3489},\n",
              " 259: {'neg': 0.04, 'neu': 0.841, 'pos': 0.119, 'compound': 0.8883},\n",
              " 260: {'neg': 0.0, 'neu': 0.833, 'pos': 0.167, 'compound': 0.8824},\n",
              " 261: {'neg': 0.0, 'neu': 0.613, 'pos': 0.387, 'compound': 0.9493},\n",
              " 262: {'neg': 0.0, 'neu': 0.54, 'pos': 0.46, 'compound': 0.9153},\n",
              " 263: {'neg': 0.106, 'neu': 0.706, 'pos': 0.188, 'compound': 0.5849},\n",
              " 264: {'neg': 0.098, 'neu': 0.875, 'pos': 0.026, 'compound': -0.9218},\n",
              " 265: {'neg': 0.051, 'neu': 0.802, 'pos': 0.147, 'compound': 0.872},\n",
              " 266: {'neg': 0.0, 'neu': 0.619, 'pos': 0.381, 'compound': 0.902},\n",
              " 267: {'neg': 0.0, 'neu': 0.862, 'pos': 0.138, 'compound': 0.4926},\n",
              " 268: {'neg': 0.062, 'neu': 0.911, 'pos': 0.028, 'compound': -0.7067},\n",
              " 269: {'neg': 0.0, 'neu': 0.767, 'pos': 0.233, 'compound': 0.8176},\n",
              " 270: {'neg': 0.032, 'neu': 0.794, 'pos': 0.174, 'compound': 0.9354},\n",
              " 271: {'neg': 0.0, 'neu': 0.839, 'pos': 0.161, 'compound': 0.5927},\n",
              " 272: {'neg': 0.062, 'neu': 0.863, 'pos': 0.074, 'compound': 0.2609},\n",
              " 273: {'neg': 0.052, 'neu': 0.817, 'pos': 0.132, 'compound': 0.7003},\n",
              " 274: {'neg': 0.0, 'neu': 0.733, 'pos': 0.267, 'compound': 0.7346},\n",
              " 275: {'neg': 0.037, 'neu': 0.693, 'pos': 0.271, 'compound': 0.9421},\n",
              " 276: {'neg': 0.132, 'neu': 0.711, 'pos': 0.157, 'compound': 0.3303},\n",
              " 277: {'neg': 0.0, 'neu': 0.523, 'pos': 0.477, 'compound': 0.9542},\n",
              " 278: {'neg': 0.025, 'neu': 0.809, 'pos': 0.167, 'compound': 0.937},\n",
              " 279: {'neg': 0.072, 'neu': 0.641, 'pos': 0.288, 'compound': 0.8565},\n",
              " 280: {'neg': 0.066, 'neu': 0.859, 'pos': 0.075, 'compound': 0.1666},\n",
              " 281: {'neg': 0.049, 'neu': 0.823, 'pos': 0.127, 'compound': 0.6438},\n",
              " 282: {'neg': 0.0, 'neu': 0.754, 'pos': 0.246, 'compound': 0.8016},\n",
              " 283: {'neg': 0.028, 'neu': 0.934, 'pos': 0.038, 'compound': 0.1779},\n",
              " 284: {'neg': 0.032, 'neu': 0.792, 'pos': 0.176, 'compound': 0.9852},\n",
              " 285: {'neg': 0.0, 'neu': 0.864, 'pos': 0.136, 'compound': 0.5255},\n",
              " 286: {'neg': 0.0, 'neu': 0.898, 'pos': 0.102, 'compound': 0.7917},\n",
              " 287: {'neg': 0.0, 'neu': 0.857, 'pos': 0.143, 'compound': 0.919},\n",
              " 288: {'neg': 0.035, 'neu': 0.801, 'pos': 0.163, 'compound': 0.9676},\n",
              " 289: {'neg': 0.054, 'neu': 0.745, 'pos': 0.2, 'compound': 0.9557},\n",
              " 290: {'neg': 0.039, 'neu': 0.697, 'pos': 0.264, 'compound': 0.8439},\n",
              " 291: {'neg': 0.104, 'neu': 0.705, 'pos': 0.191, 'compound': 0.6257},\n",
              " 292: {'neg': 0.052, 'neu': 0.745, 'pos': 0.203, 'compound': 0.9434},\n",
              " 293: {'neg': 0.09, 'neu': 0.705, 'pos': 0.205, 'compound': 0.8636},\n",
              " 294: {'neg': 0.034, 'neu': 0.757, 'pos': 0.209, 'compound': 0.9823},\n",
              " 295: {'neg': 0.0, 'neu': 0.887, 'pos': 0.113, 'compound': 0.4939},\n",
              " 296: {'neg': 0.12, 'neu': 0.781, 'pos': 0.099, 'compound': -0.7095},\n",
              " 297: {'neg': 0.025, 'neu': 0.737, 'pos': 0.239, 'compound': 0.9566},\n",
              " 298: {'neg': 0.0, 'neu': 0.811, 'pos': 0.189, 'compound': 0.8781},\n",
              " 299: {'neg': 0.0, 'neu': 0.681, 'pos': 0.319, 'compound': 0.8934},\n",
              " 300: {'neg': 0.078, 'neu': 0.735, 'pos': 0.187, 'compound': 0.9637},\n",
              " 301: {'neg': 0.0, 'neu': 0.632, 'pos': 0.368, 'compound': 0.9661},\n",
              " 302: {'neg': 0.148, 'neu': 0.625, 'pos': 0.227, 'compound': 0.5849},\n",
              " 303: {'neg': 0.014, 'neu': 0.705, 'pos': 0.281, 'compound': 0.9763},\n",
              " 304: {'neg': 0.076, 'neu': 0.791, 'pos': 0.133, 'compound': 0.25},\n",
              " 305: {'neg': 0.058, 'neu': 0.778, 'pos': 0.165, 'compound': 0.5734},\n",
              " 306: {'neg': 0.15, 'neu': 0.773, 'pos': 0.077, 'compound': -0.9037},\n",
              " 307: {'neg': 0.097, 'neu': 0.781, 'pos': 0.122, 'compound': 0.4733},\n",
              " 308: {'neg': 0.0, 'neu': 0.649, 'pos': 0.351, 'compound': 0.894},\n",
              " 309: {'neg': 0.0, 'neu': 0.796, 'pos': 0.204, 'compound': 0.9695},\n",
              " 310: {'neg': 0.0, 'neu': 0.774, 'pos': 0.226, 'compound': 0.9287},\n",
              " 311: {'neg': 0.031, 'neu': 0.657, 'pos': 0.312, 'compound': 0.9644},\n",
              " 312: {'neg': 0.087, 'neu': 0.913, 'pos': 0.0, 'compound': -0.4939},\n",
              " 313: {'neg': 0.0, 'neu': 1.0, 'pos': 0.0, 'compound': 0.0},\n",
              " 314: {'neg': 0.018, 'neu': 0.914, 'pos': 0.069, 'compound': 0.4971},\n",
              " 315: {'neg': 0.024, 'neu': 0.828, 'pos': 0.148, 'compound': 0.6897},\n",
              " 316: {'neg': 0.06, 'neu': 0.772, 'pos': 0.168, 'compound': 0.9109},\n",
              " 317: {'neg': 0.0, 'neu': 0.823, 'pos': 0.177, 'compound': 0.5783},\n",
              " 318: {'neg': 0.07, 'neu': 0.839, 'pos': 0.091, 'compound': 0.6785},\n",
              " 319: {'neg': 0.0, 'neu': 0.904, 'pos': 0.096, 'compound': 0.3716},\n",
              " 320: {'neg': 0.0, 'neu': 0.758, 'pos': 0.242, 'compound': 0.7717},\n",
              " 321: {'neg': 0.065, 'neu': 0.562, 'pos': 0.373, 'compound': 0.886},\n",
              " 322: {'neg': 0.0, 'neu': 1.0, 'pos': 0.0, 'compound': 0.0},\n",
              " 323: {'neg': 0.05, 'neu': 0.69, 'pos': 0.26, 'compound': 0.7712},\n",
              " 324: {'neg': 0.0, 'neu': 1.0, 'pos': 0.0, 'compound': 0.0},\n",
              " 325: {'neg': 0.213, 'neu': 0.514, 'pos': 0.274, 'compound': 0.3185},\n",
              " 326: {'neg': 0.0, 'neu': 0.688, 'pos': 0.312, 'compound': 0.8979},\n",
              " 327: {'neg': 0.075, 'neu': 0.726, 'pos': 0.199, 'compound': 0.9373},\n",
              " 328: {'neg': 0.064, 'neu': 0.594, 'pos': 0.342, 'compound': 0.9581},\n",
              " 329: {'neg': 0.163, 'neu': 0.708, 'pos': 0.129, 'compound': -0.8462},\n",
              " 330: {'neg': 0.029, 'neu': 0.856, 'pos': 0.115, 'compound': 0.5709},\n",
              " 331: {'neg': 0.0, 'neu': 0.837, 'pos': 0.163, 'compound': 0.6249},\n",
              " 332: {'neg': 0.115, 'neu': 0.885, 'pos': 0.0, 'compound': -0.4588},\n",
              " 333: {'neg': 0.0, 'neu': 0.689, 'pos': 0.311, 'compound': 0.9732},\n",
              " 334: {'neg': 0.0, 'neu': 0.662, 'pos': 0.338, 'compound': 0.9719},\n",
              " 335: {'neg': 0.0, 'neu': 0.886, 'pos': 0.114, 'compound': 0.6124},\n",
              " 336: {'neg': 0.046, 'neu': 0.8, 'pos': 0.154, 'compound': 0.6796},\n",
              " 337: {'neg': 0.078, 'neu': 0.651, 'pos': 0.271, 'compound': 0.8506},\n",
              " 338: {'neg': 0.0, 'neu': 0.765, 'pos': 0.235, 'compound': 0.9008},\n",
              " 339: {'neg': 0.0, 'neu': 0.734, 'pos': 0.266, 'compound': 0.784},\n",
              " 340: {'neg': 0.078, 'neu': 0.823, 'pos': 0.098, 'compound': 0.4416},\n",
              " 341: {'neg': 0.069, 'neu': 0.782, 'pos': 0.149, 'compound': 0.8499},\n",
              " 342: {'neg': 0.041, 'neu': 0.657, 'pos': 0.302, 'compound': 0.8731},\n",
              " 343: {'neg': 0.0, 'neu': 0.912, 'pos': 0.088, 'compound': 0.4939},\n",
              " 344: {'neg': 0.11, 'neu': 0.678, 'pos': 0.211, 'compound': 0.8053},\n",
              " 345: {'neg': 0.101, 'neu': 0.627, 'pos': 0.273, 'compound': 0.9758},\n",
              " 346: {'neg': 0.044, 'neu': 0.725, 'pos': 0.231, 'compound': 0.8319},\n",
              " 347: {'neg': 0.0, 'neu': 0.608, 'pos': 0.392, 'compound': 0.9694},\n",
              " 348: {'neg': 0.093, 'neu': 0.752, 'pos': 0.155, 'compound': 0.7667},\n",
              " 349: {'neg': 0.0, 'neu': 0.678, 'pos': 0.322, 'compound': 0.908},\n",
              " 350: {'neg': 0.071, 'neu': 0.861, 'pos': 0.068, 'compound': -0.0258},\n",
              " 351: {'neg': 0.0, 'neu': 0.715, 'pos': 0.285, 'compound': 0.9177},\n",
              " 352: {'neg': 0.064, 'neu': 0.727, 'pos': 0.209, 'compound': 0.7337},\n",
              " 353: {'neg': 0.0, 'neu': 0.893, 'pos': 0.107, 'compound': 0.802},\n",
              " 354: {'neg': 0.0, 'neu': 0.888, 'pos': 0.112, 'compound': 0.6604},\n",
              " 355: {'neg': 0.0, 'neu': 0.802, 'pos': 0.198, 'compound': 0.6892},\n",
              " 356: {'neg': 0.05, 'neu': 0.734, 'pos': 0.215, 'compound': 0.8008},\n",
              " 357: {'neg': 0.027, 'neu': 0.835, 'pos': 0.138, 'compound': 0.8805},\n",
              " 358: {'neg': 0.0, 'neu': 0.895, 'pos': 0.105, 'compound': 0.631},\n",
              " 359: {'neg': 0.164, 'neu': 0.694, 'pos': 0.142, 'compound': 0.283},\n",
              " 360: {'neg': 0.0, 'neu': 0.705, 'pos': 0.295, 'compound': 0.954},\n",
              " 361: {'neg': 0.033, 'neu': 0.785, 'pos': 0.182, 'compound': 0.9441},\n",
              " 362: {'neg': 0.228, 'neu': 0.772, 'pos': 0.0, 'compound': -0.734},\n",
              " 363: {'neg': 0.0, 'neu': 0.891, 'pos': 0.109, 'compound': 0.8802},\n",
              " 364: {'neg': 0.0, 'neu': 0.742, 'pos': 0.258, 'compound': 0.8088},\n",
              " 365: {'neg': 0.033, 'neu': 0.621, 'pos': 0.346, 'compound': 0.9334},\n",
              " 366: {'neg': 0.076, 'neu': 0.768, 'pos': 0.156, 'compound': 0.4434},\n",
              " 367: {'neg': 0.0, 'neu': 0.685, 'pos': 0.315, 'compound': 0.9366},\n",
              " 368: {'neg': 0.038, 'neu': 0.84, 'pos': 0.122, 'compound': 0.8016},\n",
              " 369: {'neg': 0.064, 'neu': 0.871, 'pos': 0.066, 'compound': 0.0258},\n",
              " 370: {'neg': 0.0, 'neu': 0.913, 'pos': 0.087, 'compound': 0.7703},\n",
              " 371: {'neg': 0.012, 'neu': 0.86, 'pos': 0.128, 'compound': 0.9923},\n",
              " 372: {'neg': 0.087, 'neu': 0.643, 'pos': 0.27, 'compound': 0.6912},\n",
              " 373: {'neg': 0.11, 'neu': 0.748, 'pos': 0.142, 'compound': 0.1264},\n",
              " 374: {'neg': 0.0, 'neu': 0.588, 'pos': 0.412, 'compound': 0.9168},\n",
              " 375: {'neg': 0.0, 'neu': 0.728, 'pos': 0.272, 'compound': 0.9472},\n",
              " 376: {'neg': 0.054, 'neu': 0.69, 'pos': 0.256, 'compound': 0.8962},\n",
              " 377: {'neg': 0.0, 'neu': 0.796, 'pos': 0.204, 'compound': 0.874},\n",
              " 378: {'neg': 0.046, 'neu': 0.793, 'pos': 0.161, 'compound': 0.9341},\n",
              " 379: {'neg': 0.063, 'neu': 0.524, 'pos': 0.413, 'compound': 0.9709},\n",
              " 380: {'neg': 0.036, 'neu': 0.695, 'pos': 0.269, 'compound': 0.9468},\n",
              " 381: {'neg': 0.074, 'neu': 0.715, 'pos': 0.212, 'compound': 0.8349},\n",
              " 382: {'neg': 0.318, 'neu': 0.515, 'pos': 0.167, 'compound': -0.7184},\n",
              " 383: {'neg': 0.0, 'neu': 0.905, 'pos': 0.095, 'compound': 0.6369},\n",
              " 384: {'neg': 0.027, 'neu': 0.78, 'pos': 0.193, 'compound': 0.9913},\n",
              " 385: {'neg': 0.0, 'neu': 0.767, 'pos': 0.233, 'compound': 0.8065},\n",
              " 386: {'neg': 0.0, 'neu': 0.774, 'pos': 0.226, 'compound': 0.9796},\n",
              " 387: {'neg': 0.0, 'neu': 0.839, 'pos': 0.161, 'compound': 0.8625},\n",
              " 388: {'neg': 0.089, 'neu': 0.75, 'pos': 0.161, 'compound': 0.8201},\n",
              " 389: {'neg': 0.088, 'neu': 0.537, 'pos': 0.375, 'compound': 0.755},\n",
              " 390: {'neg': 0.031, 'neu': 0.764, 'pos': 0.205, 'compound': 0.9183},\n",
              " 391: {'neg': 0.248, 'neu': 0.636, 'pos': 0.116, 'compound': -0.8174},\n",
              " 392: {'neg': 0.0, 'neu': 0.642, 'pos': 0.358, 'compound': 0.8591},\n",
              " 393: {'neg': 0.0, 'neu': 0.661, 'pos': 0.339, 'compound': 0.8481},\n",
              " 394: {'neg': 0.0, 'neu': 1.0, 'pos': 0.0, 'compound': 0.0},\n",
              " 395: {'neg': 0.0, 'neu': 0.83, 'pos': 0.17, 'compound': 0.8016},\n",
              " 396: {'neg': 0.0, 'neu': 0.502, 'pos': 0.498, 'compound': 0.9677},\n",
              " 397: {'neg': 0.0, 'neu': 0.638, 'pos': 0.362, 'compound': 0.9682},\n",
              " 398: {'neg': 0.046, 'neu': 0.703, 'pos': 0.251, 'compound': 0.867},\n",
              " 399: {'neg': 0.0, 'neu': 0.8, 'pos': 0.2, 'compound': 0.9885},\n",
              " 400: {'neg': 0.0, 'neu': 0.787, 'pos': 0.213, 'compound': 0.7644},\n",
              " 401: {'neg': 0.234, 'neu': 0.556, 'pos': 0.211, 'compound': 0.0},\n",
              " 402: {'neg': 0.093, 'neu': 0.813, 'pos': 0.095, 'compound': 0.0258},\n",
              " 403: {'neg': 0.215, 'neu': 0.697, 'pos': 0.088, 'compound': -0.6351},\n",
              " 404: {'neg': 0.194, 'neu': 0.771, 'pos': 0.035, 'compound': -0.9058},\n",
              " 405: {'neg': 0.0, 'neu': 0.691, 'pos': 0.309, 'compound': 0.8172},\n",
              " 406: {'neg': 0.019, 'neu': 0.702, 'pos': 0.279, 'compound': 0.9622},\n",
              " 407: {'neg': 0.0, 'neu': 0.954, 'pos': 0.046, 'compound': 0.6249},\n",
              " 408: {'neg': 0.036, 'neu': 0.772, 'pos': 0.192, 'compound': 0.9477},\n",
              " 409: {'neg': 0.0, 'neu': 0.713, 'pos': 0.287, 'compound': 0.9257},\n",
              " 410: {'neg': 0.05, 'neu': 0.758, 'pos': 0.192, 'compound': 0.8316},\n",
              " 411: {'neg': 0.016, 'neu': 0.879, 'pos': 0.105, 'compound': 0.8681},\n",
              " 412: {'neg': 0.0, 'neu': 0.802, 'pos': 0.198, 'compound': 0.8555},\n",
              " 413: {'neg': 0.0, 'neu': 0.815, 'pos': 0.185, 'compound': 0.7777},\n",
              " 414: {'neg': 0.0, 'neu': 0.914, 'pos': 0.086, 'compound': 0.4118},\n",
              " 415: {'neg': 0.0, 'neu': 0.722, 'pos': 0.278, 'compound': 0.8902},\n",
              " 416: {'neg': 0.0, 'neu': 0.594, 'pos': 0.406, 'compound': 0.9612},\n",
              " 417: {'neg': 0.07, 'neu': 0.799, 'pos': 0.131, 'compound': 0.9222},\n",
              " 418: {'neg': 0.166, 'neu': 0.809, 'pos': 0.025, 'compound': -0.8957},\n",
              " 419: {'neg': 0.0, 'neu': 0.784, 'pos': 0.216, 'compound': 0.8876},\n",
              " 420: {'neg': 0.148, 'neu': 0.815, 'pos': 0.037, 'compound': -0.5983},\n",
              " 421: {'neg': 0.035, 'neu': 0.754, 'pos': 0.211, 'compound': 0.9561},\n",
              " 422: {'neg': 0.0, 'neu': 0.861, 'pos': 0.139, 'compound': 0.4404},\n",
              " 423: {'neg': 0.223, 'neu': 0.68, 'pos': 0.096, 'compound': -0.3314},\n",
              " 424: {'neg': 0.055, 'neu': 0.687, 'pos': 0.258, 'compound': 0.9106},\n",
              " 425: {'neg': 0.017, 'neu': 0.821, 'pos': 0.161, 'compound': 0.9576},\n",
              " 426: {'neg': 0.0, 'neu': 0.806, 'pos': 0.194, 'compound': 0.7717},\n",
              " 427: {'neg': 0.029, 'neu': 0.817, 'pos': 0.154, 'compound': 0.7845},\n",
              " 428: {'neg': 0.0, 'neu': 0.761, 'pos': 0.239, 'compound': 0.9337},\n",
              " 429: {'neg': 0.0, 'neu': 0.739, 'pos': 0.261, 'compound': 0.9741},\n",
              " 430: {'neg': 0.0, 'neu': 0.617, 'pos': 0.383, 'compound': 0.9876},\n",
              " 431: {'neg': 0.04, 'neu': 0.786, 'pos': 0.174, 'compound': 0.9847},\n",
              " 432: {'neg': 0.0, 'neu': 0.73, 'pos': 0.27, 'compound': 0.9516},\n",
              " 433: {'neg': 0.083, 'neu': 0.751, 'pos': 0.166, 'compound': 0.8044},\n",
              " 434: {'neg': 0.108, 'neu': 0.593, 'pos': 0.299, 'compound': 0.8655},\n",
              " 435: {'neg': 0.0, 'neu': 0.771, 'pos': 0.229, 'compound': 0.9179},\n",
              " 436: {'neg': 0.0, 'neu': 0.829, 'pos': 0.171, 'compound': 0.8519},\n",
              " 437: {'neg': 0.0, 'neu': 0.926, 'pos': 0.074, 'compound': 0.7383},\n",
              " 438: {'neg': 0.0, 'neu': 0.887, 'pos': 0.113, 'compound': 0.6369},\n",
              " 439: {'neg': 0.0, 'neu': 0.728, 'pos': 0.272, 'compound': 0.87},\n",
              " 440: {'neg': 0.072, 'neu': 0.781, 'pos': 0.147, 'compound': 0.9307},\n",
              " 441: {'neg': 0.078, 'neu': 0.793, 'pos': 0.129, 'compound': 0.5176},\n",
              " 442: {'neg': 0.054, 'neu': 0.69, 'pos': 0.257, 'compound': 0.9683},\n",
              " 443: {'neg': 0.0, 'neu': 0.616, 'pos': 0.384, 'compound': 0.9603},\n",
              " 444: {'neg': 0.044, 'neu': 0.898, 'pos': 0.058, 'compound': 0.1882},\n",
              " 445: {'neg': 0.055, 'neu': 0.873, 'pos': 0.072, 'compound': 0.0935},\n",
              " 446: {'neg': 0.077, 'neu': 0.78, 'pos': 0.143, 'compound': 0.3699},\n",
              " 447: {'neg': 0.042, 'neu': 0.763, 'pos': 0.195, 'compound': 0.9883},\n",
              " 448: {'neg': 0.0, 'neu': 0.713, 'pos': 0.287, 'compound': 0.967},\n",
              " 449: {'neg': 0.0, 'neu': 0.737, 'pos': 0.263, 'compound': 0.8531},\n",
              " 450: {'neg': 0.0, 'neu': 0.845, 'pos': 0.155, 'compound': 0.6908},\n",
              " 451: {'neg': 0.034, 'neu': 0.743, 'pos': 0.223, 'compound': 0.9873},\n",
              " 452: {'neg': 0.054, 'neu': 0.782, 'pos': 0.164, 'compound': 0.9337},\n",
              " 453: {'neg': 0.0, 'neu': 0.5, 'pos': 0.5, 'compound': 0.943},\n",
              " 454: {'neg': 0.0, 'neu': 0.603, 'pos': 0.397, 'compound': 0.8811},\n",
              " 455: {'neg': 0.0, 'neu': 0.699, 'pos': 0.301, 'compound': 0.9619},\n",
              " 456: {'neg': 0.082, 'neu': 0.854, 'pos': 0.064, 'compound': -0.4854},\n",
              " 457: {'neg': 0.0, 'neu': 0.684, 'pos': 0.316, 'compound': 0.926},\n",
              " 458: {'neg': 0.0, 'neu': 0.564, 'pos': 0.436, 'compound': 0.9642},\n",
              " 459: {'neg': 0.045, 'neu': 0.717, 'pos': 0.239, 'compound': 0.8455},\n",
              " 460: {'neg': 0.066, 'neu': 0.743, 'pos': 0.19, 'compound': 0.9481},\n",
              " 461: {'neg': 0.08, 'neu': 0.821, 'pos': 0.099, 'compound': 0.4883},\n",
              " 462: {'neg': 0.037, 'neu': 0.87, 'pos': 0.093, 'compound': 0.34},\n",
              " 463: {'neg': 0.099, 'neu': 0.794, 'pos': 0.108, 'compound': 0.5983},\n",
              " 464: {'neg': 0.019, 'neu': 0.868, 'pos': 0.113, 'compound': 0.8443},\n",
              " 465: {'neg': 0.0, 'neu': 0.838, 'pos': 0.162, 'compound': 0.7823},\n",
              " 466: {'neg': 0.0, 'neu': 0.772, 'pos': 0.228, 'compound': 0.9606},\n",
              " 467: {'neg': 0.009, 'neu': 0.845, 'pos': 0.147, 'compound': 0.9874},\n",
              " 468: {'neg': 0.008, 'neu': 0.818, 'pos': 0.174, 'compound': 0.9926},\n",
              " 469: {'neg': 0.049, 'neu': 0.951, 'pos': 0.0, 'compound': -0.3595},\n",
              " 470: {'neg': 0.0, 'neu': 0.957, 'pos': 0.043, 'compound': 0.25},\n",
              " 471: {'neg': 0.051, 'neu': 0.676, 'pos': 0.273, 'compound': 0.9749},\n",
              " 472: {'neg': 0.0, 'neu': 0.565, 'pos': 0.435, 'compound': 0.9649},\n",
              " 473: {'neg': 0.0, 'neu': 0.686, 'pos': 0.314, 'compound': 0.7506},\n",
              " 474: {'neg': 0.013, 'neu': 0.75, 'pos': 0.237, 'compound': 0.9828},\n",
              " 475: {'neg': 0.0, 'neu': 0.585, 'pos': 0.415, 'compound': 0.9095},\n",
              " 476: {'neg': 0.066, 'neu': 0.614, 'pos': 0.32, 'compound': 0.9684},\n",
              " 477: {'neg': 0.034, 'neu': 0.728, 'pos': 0.238, 'compound': 0.8555},\n",
              " 478: {'neg': 0.0, 'neu': 0.823, 'pos': 0.177, 'compound': 0.6239},\n",
              " 479: {'neg': 0.245, 'neu': 0.652, 'pos': 0.103, 'compound': -0.3855},\n",
              " 480: {'neg': 0.0, 'neu': 0.435, 'pos': 0.565, 'compound': 0.9935},\n",
              " 481: {'neg': 0.022, 'neu': 0.728, 'pos': 0.249, 'compound': 0.9451},\n",
              " 482: {'neg': 0.0, 'neu': 0.605, 'pos': 0.395, 'compound': 0.9079},\n",
              " 483: {'neg': 0.0, 'neu': 0.862, 'pos': 0.138, 'compound': 0.3384},\n",
              " 484: {'neg': 0.088, 'neu': 0.767, 'pos': 0.145, 'compound': 0.4516},\n",
              " 485: {'neg': 0.0, 'neu': 0.761, 'pos': 0.239, 'compound': 0.8547},\n",
              " 486: {'neg': 0.0, 'neu': 0.818, 'pos': 0.182, 'compound': 0.9224},\n",
              " 487: {'neg': 0.0, 'neu': 0.909, 'pos': 0.091, 'compound': 0.296},\n",
              " 488: {'neg': 0.179, 'neu': 0.707, 'pos': 0.114, 'compound': -0.3723},\n",
              " 489: {'neg': 0.0, 'neu': 0.861, 'pos': 0.139, 'compound': 0.9598},\n",
              " 490: {'neg': 0.0, 'neu': 0.763, 'pos': 0.237, 'compound': 0.9788},\n",
              " 491: {'neg': 0.055, 'neu': 0.704, 'pos': 0.241, 'compound': 0.9287},\n",
              " 492: {'neg': 0.0, 'neu': 0.717, 'pos': 0.283, 'compound': 0.9367},\n",
              " 493: {'neg': 0.056, 'neu': 0.855, 'pos': 0.089, 'compound': 0.5976},\n",
              " 494: {'neg': 0.1, 'neu': 0.645, 'pos': 0.254, 'compound': 0.6486},\n",
              " 495: {'neg': 0.0, 'neu': 0.788, 'pos': 0.212, 'compound': 0.9743},\n",
              " 496: {'neg': 0.0, 'neu': 0.554, 'pos': 0.446, 'compound': 0.9725},\n",
              " 497: {'neg': 0.059, 'neu': 0.799, 'pos': 0.142, 'compound': 0.7833},\n",
              " 498: {'neg': 0.025, 'neu': 0.762, 'pos': 0.212, 'compound': 0.9848},\n",
              " 499: {'neg': 0.041, 'neu': 0.904, 'pos': 0.055, 'compound': 0.128},\n",
              " 500: {'neg': 0.0, 'neu': 0.678, 'pos': 0.322, 'compound': 0.9811}}"
            ]
          },
          "metadata": {},
          "execution_count": 55
        }
      ]
    },
    {
      "cell_type": "code",
      "source": [
        "pd.DataFrame(res)"
      ],
      "metadata": {
        "colab": {
          "base_uri": "https://localhost:8080/",
          "height": 268
        },
        "id": "eAMr6i5FatO0",
        "outputId": "77e742a7-9f25-47be-dee5-ff424b58d22a"
      },
      "execution_count": 56,
      "outputs": [
        {
          "output_type": "execute_result",
          "data": {
            "text/plain": [
              "             1       2       3    4       5      6       7       8       9    \\\n",
              "neg       0.0000  0.1380  0.0910  0.0  0.0000  0.029  0.0340  0.0000  0.0000   \n",
              "neu       0.6950  0.8620  0.7540  1.0  0.5520  0.809  0.6930  0.5200  0.8510   \n",
              "pos       0.3050  0.0000  0.1550  0.0  0.4480  0.163  0.2730  0.4800  0.1490   \n",
              "compound  0.9441 -0.5664  0.8265  0.0  0.9468  0.883  0.9346  0.9487  0.6369   \n",
              "\n",
              "             10   ...     491     492     493     494     495     496     497  \\\n",
              "neg       0.0000  ...  0.0550  0.0000  0.0560  0.1000  0.0000  0.0000  0.0590   \n",
              "neu       0.7050  ...  0.7040  0.7170  0.8550  0.6450  0.7880  0.5540  0.7990   \n",
              "pos       0.2950  ...  0.2410  0.2830  0.0890  0.2540  0.2120  0.4460  0.1420   \n",
              "compound  0.8313  ...  0.9287  0.9367  0.5976  0.6486  0.9743  0.9725  0.7833   \n",
              "\n",
              "             498    499     500  \n",
              "neg       0.0250  0.041  0.0000  \n",
              "neu       0.7620  0.904  0.6780  \n",
              "pos       0.2120  0.055  0.3220  \n",
              "compound  0.9848  0.128  0.9811  \n",
              "\n",
              "[4 rows x 500 columns]"
            ],
            "text/html": [
              "\n",
              "  <div id=\"df-efa80288-4b73-48ef-b030-ee39f8bf8c19\">\n",
              "    <div class=\"colab-df-container\">\n",
              "      <div>\n",
              "<style scoped>\n",
              "    .dataframe tbody tr th:only-of-type {\n",
              "        vertical-align: middle;\n",
              "    }\n",
              "\n",
              "    .dataframe tbody tr th {\n",
              "        vertical-align: top;\n",
              "    }\n",
              "\n",
              "    .dataframe thead th {\n",
              "        text-align: right;\n",
              "    }\n",
              "</style>\n",
              "<table border=\"1\" class=\"dataframe\">\n",
              "  <thead>\n",
              "    <tr style=\"text-align: right;\">\n",
              "      <th></th>\n",
              "      <th>1</th>\n",
              "      <th>2</th>\n",
              "      <th>3</th>\n",
              "      <th>4</th>\n",
              "      <th>5</th>\n",
              "      <th>6</th>\n",
              "      <th>7</th>\n",
              "      <th>8</th>\n",
              "      <th>9</th>\n",
              "      <th>10</th>\n",
              "      <th>...</th>\n",
              "      <th>491</th>\n",
              "      <th>492</th>\n",
              "      <th>493</th>\n",
              "      <th>494</th>\n",
              "      <th>495</th>\n",
              "      <th>496</th>\n",
              "      <th>497</th>\n",
              "      <th>498</th>\n",
              "      <th>499</th>\n",
              "      <th>500</th>\n",
              "    </tr>\n",
              "  </thead>\n",
              "  <tbody>\n",
              "    <tr>\n",
              "      <th>neg</th>\n",
              "      <td>0.0000</td>\n",
              "      <td>0.1380</td>\n",
              "      <td>0.0910</td>\n",
              "      <td>0.0</td>\n",
              "      <td>0.0000</td>\n",
              "      <td>0.029</td>\n",
              "      <td>0.0340</td>\n",
              "      <td>0.0000</td>\n",
              "      <td>0.0000</td>\n",
              "      <td>0.0000</td>\n",
              "      <td>...</td>\n",
              "      <td>0.0550</td>\n",
              "      <td>0.0000</td>\n",
              "      <td>0.0560</td>\n",
              "      <td>0.1000</td>\n",
              "      <td>0.0000</td>\n",
              "      <td>0.0000</td>\n",
              "      <td>0.0590</td>\n",
              "      <td>0.0250</td>\n",
              "      <td>0.041</td>\n",
              "      <td>0.0000</td>\n",
              "    </tr>\n",
              "    <tr>\n",
              "      <th>neu</th>\n",
              "      <td>0.6950</td>\n",
              "      <td>0.8620</td>\n",
              "      <td>0.7540</td>\n",
              "      <td>1.0</td>\n",
              "      <td>0.5520</td>\n",
              "      <td>0.809</td>\n",
              "      <td>0.6930</td>\n",
              "      <td>0.5200</td>\n",
              "      <td>0.8510</td>\n",
              "      <td>0.7050</td>\n",
              "      <td>...</td>\n",
              "      <td>0.7040</td>\n",
              "      <td>0.7170</td>\n",
              "      <td>0.8550</td>\n",
              "      <td>0.6450</td>\n",
              "      <td>0.7880</td>\n",
              "      <td>0.5540</td>\n",
              "      <td>0.7990</td>\n",
              "      <td>0.7620</td>\n",
              "      <td>0.904</td>\n",
              "      <td>0.6780</td>\n",
              "    </tr>\n",
              "    <tr>\n",
              "      <th>pos</th>\n",
              "      <td>0.3050</td>\n",
              "      <td>0.0000</td>\n",
              "      <td>0.1550</td>\n",
              "      <td>0.0</td>\n",
              "      <td>0.4480</td>\n",
              "      <td>0.163</td>\n",
              "      <td>0.2730</td>\n",
              "      <td>0.4800</td>\n",
              "      <td>0.1490</td>\n",
              "      <td>0.2950</td>\n",
              "      <td>...</td>\n",
              "      <td>0.2410</td>\n",
              "      <td>0.2830</td>\n",
              "      <td>0.0890</td>\n",
              "      <td>0.2540</td>\n",
              "      <td>0.2120</td>\n",
              "      <td>0.4460</td>\n",
              "      <td>0.1420</td>\n",
              "      <td>0.2120</td>\n",
              "      <td>0.055</td>\n",
              "      <td>0.3220</td>\n",
              "    </tr>\n",
              "    <tr>\n",
              "      <th>compound</th>\n",
              "      <td>0.9441</td>\n",
              "      <td>-0.5664</td>\n",
              "      <td>0.8265</td>\n",
              "      <td>0.0</td>\n",
              "      <td>0.9468</td>\n",
              "      <td>0.883</td>\n",
              "      <td>0.9346</td>\n",
              "      <td>0.9487</td>\n",
              "      <td>0.6369</td>\n",
              "      <td>0.8313</td>\n",
              "      <td>...</td>\n",
              "      <td>0.9287</td>\n",
              "      <td>0.9367</td>\n",
              "      <td>0.5976</td>\n",
              "      <td>0.6486</td>\n",
              "      <td>0.9743</td>\n",
              "      <td>0.9725</td>\n",
              "      <td>0.7833</td>\n",
              "      <td>0.9848</td>\n",
              "      <td>0.128</td>\n",
              "      <td>0.9811</td>\n",
              "    </tr>\n",
              "  </tbody>\n",
              "</table>\n",
              "<p>4 rows × 500 columns</p>\n",
              "</div>\n",
              "      <button class=\"colab-df-convert\" onclick=\"convertToInteractive('df-efa80288-4b73-48ef-b030-ee39f8bf8c19')\"\n",
              "              title=\"Convert this dataframe to an interactive table.\"\n",
              "              style=\"display:none;\">\n",
              "        \n",
              "  <svg xmlns=\"http://www.w3.org/2000/svg\" height=\"24px\"viewBox=\"0 0 24 24\"\n",
              "       width=\"24px\">\n",
              "    <path d=\"M0 0h24v24H0V0z\" fill=\"none\"/>\n",
              "    <path d=\"M18.56 5.44l.94 2.06.94-2.06 2.06-.94-2.06-.94-.94-2.06-.94 2.06-2.06.94zm-11 1L8.5 8.5l.94-2.06 2.06-.94-2.06-.94L8.5 2.5l-.94 2.06-2.06.94zm10 10l.94 2.06.94-2.06 2.06-.94-2.06-.94-.94-2.06-.94 2.06-2.06.94z\"/><path d=\"M17.41 7.96l-1.37-1.37c-.4-.4-.92-.59-1.43-.59-.52 0-1.04.2-1.43.59L10.3 9.45l-7.72 7.72c-.78.78-.78 2.05 0 2.83L4 21.41c.39.39.9.59 1.41.59.51 0 1.02-.2 1.41-.59l7.78-7.78 2.81-2.81c.8-.78.8-2.07 0-2.86zM5.41 20L4 18.59l7.72-7.72 1.47 1.35L5.41 20z\"/>\n",
              "  </svg>\n",
              "      </button>\n",
              "      \n",
              "  <style>\n",
              "    .colab-df-container {\n",
              "      display:flex;\n",
              "      flex-wrap:wrap;\n",
              "      gap: 12px;\n",
              "    }\n",
              "\n",
              "    .colab-df-convert {\n",
              "      background-color: #E8F0FE;\n",
              "      border: none;\n",
              "      border-radius: 50%;\n",
              "      cursor: pointer;\n",
              "      display: none;\n",
              "      fill: #1967D2;\n",
              "      height: 32px;\n",
              "      padding: 0 0 0 0;\n",
              "      width: 32px;\n",
              "    }\n",
              "\n",
              "    .colab-df-convert:hover {\n",
              "      background-color: #E2EBFA;\n",
              "      box-shadow: 0px 1px 2px rgba(60, 64, 67, 0.3), 0px 1px 3px 1px rgba(60, 64, 67, 0.15);\n",
              "      fill: #174EA6;\n",
              "    }\n",
              "\n",
              "    [theme=dark] .colab-df-convert {\n",
              "      background-color: #3B4455;\n",
              "      fill: #D2E3FC;\n",
              "    }\n",
              "\n",
              "    [theme=dark] .colab-df-convert:hover {\n",
              "      background-color: #434B5C;\n",
              "      box-shadow: 0px 1px 3px 1px rgba(0, 0, 0, 0.15);\n",
              "      filter: drop-shadow(0px 1px 2px rgba(0, 0, 0, 0.3));\n",
              "      fill: #FFFFFF;\n",
              "    }\n",
              "  </style>\n",
              "\n",
              "      <script>\n",
              "        const buttonEl =\n",
              "          document.querySelector('#df-efa80288-4b73-48ef-b030-ee39f8bf8c19 button.colab-df-convert');\n",
              "        buttonEl.style.display =\n",
              "          google.colab.kernel.accessAllowed ? 'block' : 'none';\n",
              "\n",
              "        async function convertToInteractive(key) {\n",
              "          const element = document.querySelector('#df-efa80288-4b73-48ef-b030-ee39f8bf8c19');\n",
              "          const dataTable =\n",
              "            await google.colab.kernel.invokeFunction('convertToInteractive',\n",
              "                                                     [key], {});\n",
              "          if (!dataTable) return;\n",
              "\n",
              "          const docLinkHtml = 'Like what you see? Visit the ' +\n",
              "            '<a target=\"_blank\" href=https://colab.research.google.com/notebooks/data_table.ipynb>data table notebook</a>'\n",
              "            + ' to learn more about interactive tables.';\n",
              "          element.innerHTML = '';\n",
              "          dataTable['output_type'] = 'display_data';\n",
              "          await google.colab.output.renderOutput(dataTable, element);\n",
              "          const docLink = document.createElement('div');\n",
              "          docLink.innerHTML = docLinkHtml;\n",
              "          element.appendChild(docLink);\n",
              "        }\n",
              "      </script>\n",
              "    </div>\n",
              "  </div>\n",
              "  "
            ]
          },
          "metadata": {},
          "execution_count": 56
        }
      ]
    },
    {
      "cell_type": "code",
      "source": [
        "pd.DataFrame(res).T"
      ],
      "metadata": {
        "colab": {
          "base_uri": "https://localhost:8080/",
          "height": 424
        },
        "id": "73aOhLWQbPDQ",
        "outputId": "3081192b-c74e-4757-a3ec-145984cd2d04"
      },
      "execution_count": 57,
      "outputs": [
        {
          "output_type": "execute_result",
          "data": {
            "text/plain": [
              "       neg    neu    pos  compound\n",
              "1    0.000  0.695  0.305    0.9441\n",
              "2    0.138  0.862  0.000   -0.5664\n",
              "3    0.091  0.754  0.155    0.8265\n",
              "4    0.000  1.000  0.000    0.0000\n",
              "5    0.000  0.552  0.448    0.9468\n",
              "..     ...    ...    ...       ...\n",
              "496  0.000  0.554  0.446    0.9725\n",
              "497  0.059  0.799  0.142    0.7833\n",
              "498  0.025  0.762  0.212    0.9848\n",
              "499  0.041  0.904  0.055    0.1280\n",
              "500  0.000  0.678  0.322    0.9811\n",
              "\n",
              "[500 rows x 4 columns]"
            ],
            "text/html": [
              "\n",
              "  <div id=\"df-a17d84e0-ead4-4b82-950b-ac3b5f1755fe\">\n",
              "    <div class=\"colab-df-container\">\n",
              "      <div>\n",
              "<style scoped>\n",
              "    .dataframe tbody tr th:only-of-type {\n",
              "        vertical-align: middle;\n",
              "    }\n",
              "\n",
              "    .dataframe tbody tr th {\n",
              "        vertical-align: top;\n",
              "    }\n",
              "\n",
              "    .dataframe thead th {\n",
              "        text-align: right;\n",
              "    }\n",
              "</style>\n",
              "<table border=\"1\" class=\"dataframe\">\n",
              "  <thead>\n",
              "    <tr style=\"text-align: right;\">\n",
              "      <th></th>\n",
              "      <th>neg</th>\n",
              "      <th>neu</th>\n",
              "      <th>pos</th>\n",
              "      <th>compound</th>\n",
              "    </tr>\n",
              "  </thead>\n",
              "  <tbody>\n",
              "    <tr>\n",
              "      <th>1</th>\n",
              "      <td>0.000</td>\n",
              "      <td>0.695</td>\n",
              "      <td>0.305</td>\n",
              "      <td>0.9441</td>\n",
              "    </tr>\n",
              "    <tr>\n",
              "      <th>2</th>\n",
              "      <td>0.138</td>\n",
              "      <td>0.862</td>\n",
              "      <td>0.000</td>\n",
              "      <td>-0.5664</td>\n",
              "    </tr>\n",
              "    <tr>\n",
              "      <th>3</th>\n",
              "      <td>0.091</td>\n",
              "      <td>0.754</td>\n",
              "      <td>0.155</td>\n",
              "      <td>0.8265</td>\n",
              "    </tr>\n",
              "    <tr>\n",
              "      <th>4</th>\n",
              "      <td>0.000</td>\n",
              "      <td>1.000</td>\n",
              "      <td>0.000</td>\n",
              "      <td>0.0000</td>\n",
              "    </tr>\n",
              "    <tr>\n",
              "      <th>5</th>\n",
              "      <td>0.000</td>\n",
              "      <td>0.552</td>\n",
              "      <td>0.448</td>\n",
              "      <td>0.9468</td>\n",
              "    </tr>\n",
              "    <tr>\n",
              "      <th>...</th>\n",
              "      <td>...</td>\n",
              "      <td>...</td>\n",
              "      <td>...</td>\n",
              "      <td>...</td>\n",
              "    </tr>\n",
              "    <tr>\n",
              "      <th>496</th>\n",
              "      <td>0.000</td>\n",
              "      <td>0.554</td>\n",
              "      <td>0.446</td>\n",
              "      <td>0.9725</td>\n",
              "    </tr>\n",
              "    <tr>\n",
              "      <th>497</th>\n",
              "      <td>0.059</td>\n",
              "      <td>0.799</td>\n",
              "      <td>0.142</td>\n",
              "      <td>0.7833</td>\n",
              "    </tr>\n",
              "    <tr>\n",
              "      <th>498</th>\n",
              "      <td>0.025</td>\n",
              "      <td>0.762</td>\n",
              "      <td>0.212</td>\n",
              "      <td>0.9848</td>\n",
              "    </tr>\n",
              "    <tr>\n",
              "      <th>499</th>\n",
              "      <td>0.041</td>\n",
              "      <td>0.904</td>\n",
              "      <td>0.055</td>\n",
              "      <td>0.1280</td>\n",
              "    </tr>\n",
              "    <tr>\n",
              "      <th>500</th>\n",
              "      <td>0.000</td>\n",
              "      <td>0.678</td>\n",
              "      <td>0.322</td>\n",
              "      <td>0.9811</td>\n",
              "    </tr>\n",
              "  </tbody>\n",
              "</table>\n",
              "<p>500 rows × 4 columns</p>\n",
              "</div>\n",
              "      <button class=\"colab-df-convert\" onclick=\"convertToInteractive('df-a17d84e0-ead4-4b82-950b-ac3b5f1755fe')\"\n",
              "              title=\"Convert this dataframe to an interactive table.\"\n",
              "              style=\"display:none;\">\n",
              "        \n",
              "  <svg xmlns=\"http://www.w3.org/2000/svg\" height=\"24px\"viewBox=\"0 0 24 24\"\n",
              "       width=\"24px\">\n",
              "    <path d=\"M0 0h24v24H0V0z\" fill=\"none\"/>\n",
              "    <path d=\"M18.56 5.44l.94 2.06.94-2.06 2.06-.94-2.06-.94-.94-2.06-.94 2.06-2.06.94zm-11 1L8.5 8.5l.94-2.06 2.06-.94-2.06-.94L8.5 2.5l-.94 2.06-2.06.94zm10 10l.94 2.06.94-2.06 2.06-.94-2.06-.94-.94-2.06-.94 2.06-2.06.94z\"/><path d=\"M17.41 7.96l-1.37-1.37c-.4-.4-.92-.59-1.43-.59-.52 0-1.04.2-1.43.59L10.3 9.45l-7.72 7.72c-.78.78-.78 2.05 0 2.83L4 21.41c.39.39.9.59 1.41.59.51 0 1.02-.2 1.41-.59l7.78-7.78 2.81-2.81c.8-.78.8-2.07 0-2.86zM5.41 20L4 18.59l7.72-7.72 1.47 1.35L5.41 20z\"/>\n",
              "  </svg>\n",
              "      </button>\n",
              "      \n",
              "  <style>\n",
              "    .colab-df-container {\n",
              "      display:flex;\n",
              "      flex-wrap:wrap;\n",
              "      gap: 12px;\n",
              "    }\n",
              "\n",
              "    .colab-df-convert {\n",
              "      background-color: #E8F0FE;\n",
              "      border: none;\n",
              "      border-radius: 50%;\n",
              "      cursor: pointer;\n",
              "      display: none;\n",
              "      fill: #1967D2;\n",
              "      height: 32px;\n",
              "      padding: 0 0 0 0;\n",
              "      width: 32px;\n",
              "    }\n",
              "\n",
              "    .colab-df-convert:hover {\n",
              "      background-color: #E2EBFA;\n",
              "      box-shadow: 0px 1px 2px rgba(60, 64, 67, 0.3), 0px 1px 3px 1px rgba(60, 64, 67, 0.15);\n",
              "      fill: #174EA6;\n",
              "    }\n",
              "\n",
              "    [theme=dark] .colab-df-convert {\n",
              "      background-color: #3B4455;\n",
              "      fill: #D2E3FC;\n",
              "    }\n",
              "\n",
              "    [theme=dark] .colab-df-convert:hover {\n",
              "      background-color: #434B5C;\n",
              "      box-shadow: 0px 1px 3px 1px rgba(0, 0, 0, 0.15);\n",
              "      filter: drop-shadow(0px 1px 2px rgba(0, 0, 0, 0.3));\n",
              "      fill: #FFFFFF;\n",
              "    }\n",
              "  </style>\n",
              "\n",
              "      <script>\n",
              "        const buttonEl =\n",
              "          document.querySelector('#df-a17d84e0-ead4-4b82-950b-ac3b5f1755fe button.colab-df-convert');\n",
              "        buttonEl.style.display =\n",
              "          google.colab.kernel.accessAllowed ? 'block' : 'none';\n",
              "\n",
              "        async function convertToInteractive(key) {\n",
              "          const element = document.querySelector('#df-a17d84e0-ead4-4b82-950b-ac3b5f1755fe');\n",
              "          const dataTable =\n",
              "            await google.colab.kernel.invokeFunction('convertToInteractive',\n",
              "                                                     [key], {});\n",
              "          if (!dataTable) return;\n",
              "\n",
              "          const docLinkHtml = 'Like what you see? Visit the ' +\n",
              "            '<a target=\"_blank\" href=https://colab.research.google.com/notebooks/data_table.ipynb>data table notebook</a>'\n",
              "            + ' to learn more about interactive tables.';\n",
              "          element.innerHTML = '';\n",
              "          dataTable['output_type'] = 'display_data';\n",
              "          await google.colab.output.renderOutput(dataTable, element);\n",
              "          const docLink = document.createElement('div');\n",
              "          docLink.innerHTML = docLinkHtml;\n",
              "          element.appendChild(docLink);\n",
              "        }\n",
              "      </script>\n",
              "    </div>\n",
              "  </div>\n",
              "  "
            ]
          },
          "metadata": {},
          "execution_count": 57
        }
      ]
    },
    {
      "cell_type": "code",
      "source": [
        "# collect sentiment score with metadata\n",
        "vaders=pd.DataFrame(res).T\n",
        "vaders=vaders.reset_index().rename(columns={'index':'Id'})\n",
        "vaders=vaders.merge(df,how='left')"
      ],
      "metadata": {
        "id": "i2YHJGTjbXet"
      },
      "execution_count": 58,
      "outputs": []
    },
    {
      "cell_type": "code",
      "source": [
        "vaders.head()"
      ],
      "metadata": {
        "colab": {
          "base_uri": "https://localhost:8080/",
          "height": 739
        },
        "id": "yFXgIhH2d_IB",
        "outputId": "4e1e1ea9-070f-4182-ffd5-f462dc28215a"
      },
      "execution_count": 59,
      "outputs": [
        {
          "output_type": "execute_result",
          "data": {
            "text/plain": [
              "   Id    neg    neu    pos  compound   ProductId          UserId  \\\n",
              "0   1  0.000  0.695  0.305    0.9441  B001E4KFG0  A3SGXH7AUHU8GW   \n",
              "1   2  0.138  0.862  0.000   -0.5664  B00813GRG4  A1D87F6ZCVE5NK   \n",
              "2   3  0.091  0.754  0.155    0.8265  B000LQOCH0   ABXLMWJIXXAIN   \n",
              "3   4  0.000  1.000  0.000    0.0000  B000UA0QIQ  A395BORC6FGVXV   \n",
              "4   5  0.000  0.552  0.448    0.9468  B006K2ZZ7K  A1UQRSCLF8GW1T   \n",
              "\n",
              "                       ProfileName  HelpfulnessNumerator  \\\n",
              "0                       delmartian                     1   \n",
              "1                           dll pa                     0   \n",
              "2  Natalia Corres \"Natalia Corres\"                     1   \n",
              "3                             Karl                     3   \n",
              "4    Michael D. Bigham \"M. Wassir\"                     0   \n",
              "\n",
              "   HelpfulnessDenominator  Score        Time                Summary  \\\n",
              "0                       1      5  1303862400  Good Quality Dog Food   \n",
              "1                       0      1  1346976000      Not as Advertised   \n",
              "2                       1      4  1219017600  \"Delight\" says it all   \n",
              "3                       3      2  1307923200         Cough Medicine   \n",
              "4                       0      5  1350777600            Great taffy   \n",
              "\n",
              "                                                Text  \n",
              "0  I have bought several of the Vitality canned d...  \n",
              "1  Product arrived labeled as Jumbo Salted Peanut...  \n",
              "2  This is a confection that has been around a fe...  \n",
              "3  If you are looking for the secret ingredient i...  \n",
              "4  Great taffy at a great price.  There was a wid...  "
            ],
            "text/html": [
              "\n",
              "  <div id=\"df-5f809ea3-50b6-4382-ae68-d79de1c7e7c2\">\n",
              "    <div class=\"colab-df-container\">\n",
              "      <div>\n",
              "<style scoped>\n",
              "    .dataframe tbody tr th:only-of-type {\n",
              "        vertical-align: middle;\n",
              "    }\n",
              "\n",
              "    .dataframe tbody tr th {\n",
              "        vertical-align: top;\n",
              "    }\n",
              "\n",
              "    .dataframe thead th {\n",
              "        text-align: right;\n",
              "    }\n",
              "</style>\n",
              "<table border=\"1\" class=\"dataframe\">\n",
              "  <thead>\n",
              "    <tr style=\"text-align: right;\">\n",
              "      <th></th>\n",
              "      <th>Id</th>\n",
              "      <th>neg</th>\n",
              "      <th>neu</th>\n",
              "      <th>pos</th>\n",
              "      <th>compound</th>\n",
              "      <th>ProductId</th>\n",
              "      <th>UserId</th>\n",
              "      <th>ProfileName</th>\n",
              "      <th>HelpfulnessNumerator</th>\n",
              "      <th>HelpfulnessDenominator</th>\n",
              "      <th>Score</th>\n",
              "      <th>Time</th>\n",
              "      <th>Summary</th>\n",
              "      <th>Text</th>\n",
              "    </tr>\n",
              "  </thead>\n",
              "  <tbody>\n",
              "    <tr>\n",
              "      <th>0</th>\n",
              "      <td>1</td>\n",
              "      <td>0.000</td>\n",
              "      <td>0.695</td>\n",
              "      <td>0.305</td>\n",
              "      <td>0.9441</td>\n",
              "      <td>B001E4KFG0</td>\n",
              "      <td>A3SGXH7AUHU8GW</td>\n",
              "      <td>delmartian</td>\n",
              "      <td>1</td>\n",
              "      <td>1</td>\n",
              "      <td>5</td>\n",
              "      <td>1303862400</td>\n",
              "      <td>Good Quality Dog Food</td>\n",
              "      <td>I have bought several of the Vitality canned d...</td>\n",
              "    </tr>\n",
              "    <tr>\n",
              "      <th>1</th>\n",
              "      <td>2</td>\n",
              "      <td>0.138</td>\n",
              "      <td>0.862</td>\n",
              "      <td>0.000</td>\n",
              "      <td>-0.5664</td>\n",
              "      <td>B00813GRG4</td>\n",
              "      <td>A1D87F6ZCVE5NK</td>\n",
              "      <td>dll pa</td>\n",
              "      <td>0</td>\n",
              "      <td>0</td>\n",
              "      <td>1</td>\n",
              "      <td>1346976000</td>\n",
              "      <td>Not as Advertised</td>\n",
              "      <td>Product arrived labeled as Jumbo Salted Peanut...</td>\n",
              "    </tr>\n",
              "    <tr>\n",
              "      <th>2</th>\n",
              "      <td>3</td>\n",
              "      <td>0.091</td>\n",
              "      <td>0.754</td>\n",
              "      <td>0.155</td>\n",
              "      <td>0.8265</td>\n",
              "      <td>B000LQOCH0</td>\n",
              "      <td>ABXLMWJIXXAIN</td>\n",
              "      <td>Natalia Corres \"Natalia Corres\"</td>\n",
              "      <td>1</td>\n",
              "      <td>1</td>\n",
              "      <td>4</td>\n",
              "      <td>1219017600</td>\n",
              "      <td>\"Delight\" says it all</td>\n",
              "      <td>This is a confection that has been around a fe...</td>\n",
              "    </tr>\n",
              "    <tr>\n",
              "      <th>3</th>\n",
              "      <td>4</td>\n",
              "      <td>0.000</td>\n",
              "      <td>1.000</td>\n",
              "      <td>0.000</td>\n",
              "      <td>0.0000</td>\n",
              "      <td>B000UA0QIQ</td>\n",
              "      <td>A395BORC6FGVXV</td>\n",
              "      <td>Karl</td>\n",
              "      <td>3</td>\n",
              "      <td>3</td>\n",
              "      <td>2</td>\n",
              "      <td>1307923200</td>\n",
              "      <td>Cough Medicine</td>\n",
              "      <td>If you are looking for the secret ingredient i...</td>\n",
              "    </tr>\n",
              "    <tr>\n",
              "      <th>4</th>\n",
              "      <td>5</td>\n",
              "      <td>0.000</td>\n",
              "      <td>0.552</td>\n",
              "      <td>0.448</td>\n",
              "      <td>0.9468</td>\n",
              "      <td>B006K2ZZ7K</td>\n",
              "      <td>A1UQRSCLF8GW1T</td>\n",
              "      <td>Michael D. Bigham \"M. Wassir\"</td>\n",
              "      <td>0</td>\n",
              "      <td>0</td>\n",
              "      <td>5</td>\n",
              "      <td>1350777600</td>\n",
              "      <td>Great taffy</td>\n",
              "      <td>Great taffy at a great price.  There was a wid...</td>\n",
              "    </tr>\n",
              "  </tbody>\n",
              "</table>\n",
              "</div>\n",
              "      <button class=\"colab-df-convert\" onclick=\"convertToInteractive('df-5f809ea3-50b6-4382-ae68-d79de1c7e7c2')\"\n",
              "              title=\"Convert this dataframe to an interactive table.\"\n",
              "              style=\"display:none;\">\n",
              "        \n",
              "  <svg xmlns=\"http://www.w3.org/2000/svg\" height=\"24px\"viewBox=\"0 0 24 24\"\n",
              "       width=\"24px\">\n",
              "    <path d=\"M0 0h24v24H0V0z\" fill=\"none\"/>\n",
              "    <path d=\"M18.56 5.44l.94 2.06.94-2.06 2.06-.94-2.06-.94-.94-2.06-.94 2.06-2.06.94zm-11 1L8.5 8.5l.94-2.06 2.06-.94-2.06-.94L8.5 2.5l-.94 2.06-2.06.94zm10 10l.94 2.06.94-2.06 2.06-.94-2.06-.94-.94-2.06-.94 2.06-2.06.94z\"/><path d=\"M17.41 7.96l-1.37-1.37c-.4-.4-.92-.59-1.43-.59-.52 0-1.04.2-1.43.59L10.3 9.45l-7.72 7.72c-.78.78-.78 2.05 0 2.83L4 21.41c.39.39.9.59 1.41.59.51 0 1.02-.2 1.41-.59l7.78-7.78 2.81-2.81c.8-.78.8-2.07 0-2.86zM5.41 20L4 18.59l7.72-7.72 1.47 1.35L5.41 20z\"/>\n",
              "  </svg>\n",
              "      </button>\n",
              "      \n",
              "  <style>\n",
              "    .colab-df-container {\n",
              "      display:flex;\n",
              "      flex-wrap:wrap;\n",
              "      gap: 12px;\n",
              "    }\n",
              "\n",
              "    .colab-df-convert {\n",
              "      background-color: #E8F0FE;\n",
              "      border: none;\n",
              "      border-radius: 50%;\n",
              "      cursor: pointer;\n",
              "      display: none;\n",
              "      fill: #1967D2;\n",
              "      height: 32px;\n",
              "      padding: 0 0 0 0;\n",
              "      width: 32px;\n",
              "    }\n",
              "\n",
              "    .colab-df-convert:hover {\n",
              "      background-color: #E2EBFA;\n",
              "      box-shadow: 0px 1px 2px rgba(60, 64, 67, 0.3), 0px 1px 3px 1px rgba(60, 64, 67, 0.15);\n",
              "      fill: #174EA6;\n",
              "    }\n",
              "\n",
              "    [theme=dark] .colab-df-convert {\n",
              "      background-color: #3B4455;\n",
              "      fill: #D2E3FC;\n",
              "    }\n",
              "\n",
              "    [theme=dark] .colab-df-convert:hover {\n",
              "      background-color: #434B5C;\n",
              "      box-shadow: 0px 1px 3px 1px rgba(0, 0, 0, 0.15);\n",
              "      filter: drop-shadow(0px 1px 2px rgba(0, 0, 0, 0.3));\n",
              "      fill: #FFFFFF;\n",
              "    }\n",
              "  </style>\n",
              "\n",
              "      <script>\n",
              "        const buttonEl =\n",
              "          document.querySelector('#df-5f809ea3-50b6-4382-ae68-d79de1c7e7c2 button.colab-df-convert');\n",
              "        buttonEl.style.display =\n",
              "          google.colab.kernel.accessAllowed ? 'block' : 'none';\n",
              "\n",
              "        async function convertToInteractive(key) {\n",
              "          const element = document.querySelector('#df-5f809ea3-50b6-4382-ae68-d79de1c7e7c2');\n",
              "          const dataTable =\n",
              "            await google.colab.kernel.invokeFunction('convertToInteractive',\n",
              "                                                     [key], {});\n",
              "          if (!dataTable) return;\n",
              "\n",
              "          const docLinkHtml = 'Like what you see? Visit the ' +\n",
              "            '<a target=\"_blank\" href=https://colab.research.google.com/notebooks/data_table.ipynb>data table notebook</a>'\n",
              "            + ' to learn more about interactive tables.';\n",
              "          element.innerHTML = '';\n",
              "          dataTable['output_type'] = 'display_data';\n",
              "          await google.colab.output.renderOutput(dataTable, element);\n",
              "          const docLink = document.createElement('div');\n",
              "          docLink.innerHTML = docLinkHtml;\n",
              "          element.appendChild(docLink);\n",
              "        }\n",
              "      </script>\n",
              "    </div>\n",
              "  </div>\n",
              "  "
            ]
          },
          "metadata": {},
          "execution_count": 59
        }
      ]
    },
    {
      "cell_type": "code",
      "source": [
        "ax=sns.barplot(data=vaders,x='Score',y='compound')\n",
        "ax.set_title(\"Compound score by Amazon Data Review\")\n",
        "plt.show()"
      ],
      "metadata": {
        "colab": {
          "base_uri": "https://localhost:8080/",
          "height": 295
        },
        "id": "kNSDvMtveA29",
        "outputId": "10454bab-5492-46e5-aa4d-086ab3e8fa81"
      },
      "execution_count": 60,
      "outputs": [
        {
          "output_type": "display_data",
          "data": {
            "text/plain": [
              "<Figure size 432x288 with 1 Axes>"
            ],
            "image/png": "[encoded data removed]"
          },
          "metadata": {
            "needs_background": "light"
          }
        }
      ]
    },
    {
      "cell_type": "code",
      "source": [
        "fig,axs=plt.subplots(1,3,figsize=(12,3))\n",
        "sns.barplot(data=vaders,x='Score',y='pos',ax=axs[0])\n",
        "sns.barplot(data=vaders,x='Score',y='neg',ax=axs[1])\n",
        "sns.barplot(data=vaders,x='Score',y='neu',ax=axs[2])\n",
        "axs[0].set_title('Positive')\n",
        "axs[1].set_title('Negative')\n",
        "axs[2].set_title('Neutral')\n",
        "plt.tight_layout()\n",
        "plt.show()\n"
      ],
      "metadata": {
        "colab": {
          "base_uri": "https://localhost:8080/",
          "height": 225
        },
        "id": "BMQ7IO2ofh7I",
        "outputId": "97e69833-4124-468b-fc9e-97c3305a4547"
      },
      "execution_count": 61,
      "outputs": [
        {
          "output_type": "display_data",
          "data": {
            "text/plain": [
              "<Figure size 864x216 with 3 Axes>"
            ],
            "image/png": "[encoded data removed]"
          },
          "metadata": {
            "needs_background": "light"
          }
        }
      ]
    },
    {
      "cell_type": "code",
      "source": [
        "!pip install transformers"
      ],
      "metadata": {
        "colab": {
          "base_uri": "https://localhost:8080/"
        },
        "id": "WtXLzbPDjDrz",
        "outputId": "674db4d4-1769-4367-ba49-3eb4e4a43d40"
      },
      "execution_count": 62,
      "outputs": [
        {
          "output_type": "stream",
          "name": "stdout",
          "text": [
            "Looking in indexes: https://pypi.org/simple, https://us-python.pkg.dev/colab-wheels/public/simple/\n",
            "Requirement already satisfied: transformers in /usr/local/lib/python3.8/dist-packages (4.25.1)\n",
            "Requirement already satisfied: numpy>=1.17 in /usr/local/lib/python3.8/dist-packages (from transformers) (1.21.6)\n",
            "Requirement already satisfied: requests in /usr/local/lib/python3.8/dist-packages (from transformers) (2.23.0)\n",
            "Requirement already satisfied: tqdm>=4.27 in /usr/local/lib/python3.8/dist-packages (from transformers) (4.64.1)\n",
            "Requirement already satisfied: tokenizers!=0.11.3,<0.14,>=0.11.1 in /usr/local/lib/python3.8/dist-packages (from transformers) (0.13.2)\n",
            "Requirement already satisfied: regex!=2019.12.17 in /usr/local/lib/python3.8/dist-packages (from transformers) (2022.6.2)\n",
            "Requirement already satisfied: huggingface-hub<1.0,>=0.10.0 in /usr/local/lib/python3.8/dist-packages (from transformers) (0.11.1)\n",
            "Requirement already satisfied: filelock in /usr/local/lib/python3.8/dist-packages (from transformers) (3.8.2)\n",
            "Requirement already satisfied: packaging>=20.0 in /usr/local/lib/python3.8/dist-packages (from transformers) (21.3)\n",
            "Requirement already satisfied: pyyaml>=5.1 in /usr/local/lib/python3.8/dist-packages (from transformers) (6.0)\n",
            "Requirement already satisfied: typing-extensions>=3.7.4.3 in /usr/local/lib/python3.8/dist-packages (from huggingface-hub<1.0,>=0.10.0->transformers) (4.4.0)\n",
            "Requirement already satisfied: pyparsing!=3.0.5,>=2.0.2 in /usr/local/lib/python3.8/dist-packages (from packaging>=20.0->transformers) (3.0.9)\n",
            "Requirement already satisfied: idna<3,>=2.5 in /usr/local/lib/python3.8/dist-packages (from requests->transformers) (2.10)\n",
            "Requirement already satisfied: urllib3!=1.25.0,!=1.25.1,<1.26,>=1.21.1 in /usr/local/lib/python3.8/dist-packages (from requests->transformers) (1.24.3)\n",
            "Requirement already satisfied: certifi>=2017.4.17 in /usr/local/lib/python3.8/dist-packages (from requests->transformers) (2022.12.7)\n",
            "Requirement already satisfied: chardet<4,>=3.0.2 in /usr/local/lib/python3.8/dist-packages (from requests->transformers) (3.0.4)\n"
          ]
        }
      ]
    },
    {
      "cell_type": "code",
      "source": [
        "from transformers import AutoTokenizer"
      ],
      "metadata": {
        "id": "_vhdDl6VhlZW"
      },
      "execution_count": 63,
      "outputs": []
    },
    {
      "cell_type": "code",
      "source": [
        "from transformers import AutoModelForSequenceClassification"
      ],
      "metadata": {
        "id": "oQiPxrW2i_R2"
      },
      "execution_count": 64,
      "outputs": []
    },
    {
      "cell_type": "code",
      "source": [
        "from scipy.special import softmax"
      ],
      "metadata": {
        "id": "0eTvqJ5ojapw"
      },
      "execution_count": 65,
      "outputs": []
    },
    {
      "cell_type": "code",
      "source": [
        "MODEL=f\"cardiffnlp/twitter-roberta-base-sentiment\"\n",
        "tokenizer=AutoTokenizer.from_pretrained(MODEL)\n",
        "model=AutoModelForSequenceClassification.from_pretrained(MODEL)"
      ],
      "metadata": {
        "id": "S6KL8d0WjfKc"
      },
      "execution_count": 66,
      "outputs": []
    },
    {
      "cell_type": "code",
      "source": [
        "print(example)"
      ],
      "metadata": {
        "colab": {
          "base_uri": "https://localhost:8080/"
        },
        "id": "OWkrHypx5sBv",
        "outputId": "f072f019-5a3b-4ba8-c4f6-a2fbe20bc60d"
      },
      "execution_count": 67,
      "outputs": [
        {
          "output_type": "stream",
          "name": "stdout",
          "text": [
            "This oatmeal is not good. Its mushy, soft, I don't like it. Quaker Oats is the way to go.\n"
          ]
        }
      ]
    },
    {
      "cell_type": "code",
      "source": [
        "sia.polarity_scores(example)"
      ],
      "metadata": {
        "colab": {
          "base_uri": "https://localhost:8080/"
        },
        "id": "nQ70D5Po5t-B",
        "outputId": "010028ae-c60d-4842-be5e-436870b8f7f2"
      },
      "execution_count": 68,
      "outputs": [
        {
          "output_type": "execute_result",
          "data": {
            "text/plain": [
              "{'neg': 0.22, 'neu': 0.78, 'pos': 0.0, 'compound': -0.5448}"
            ]
          },
          "metadata": {},
          "execution_count": 68
        }
      ]
    },
    {
      "cell_type": "code",
      "source": [
        "## Run for Roberta Model\n",
        "encoded_text=tokenizer(example,return_tensors='pt')\n",
        "output=model(**encoded_text)\n",
        "scores=output[0][0].detach().numpy()\n",
        "scores=softmax(scores)"
      ],
      "metadata": {
        "id": "MSKf-y016Ic3"
      },
      "execution_count": 69,
      "outputs": []
    },
    {
      "cell_type": "code",
      "source": [
        "scores"
      ],
      "metadata": {
        "colab": {
          "base_uri": "https://localhost:8080/"
        },
        "id": "VzAp5Ty56zs_",
        "outputId": "fac1fd95-b6e0-4a42-936f-1330b7c437ef"
      },
      "execution_count": 70,
      "outputs": [
        {
          "output_type": "execute_result",
          "data": {
            "text/plain": [
              "array([0.9763551 , 0.02068748, 0.00295737], dtype=float32)"
            ]
          },
          "metadata": {},
          "execution_count": 70
        }
      ]
    },
    {
      "cell_type": "code",
      "source": [
        "scores_dict={\n",
        "    'roberta-neg':scores[0],\n",
        "    'roberta-neu':scores[1],\n",
        "    'roberta-pos':scores[2]\n",
        "    \n",
        "}"
      ],
      "metadata": {
        "id": "6SWpPSJT61TM"
      },
      "execution_count": 71,
      "outputs": []
    },
    {
      "cell_type": "code",
      "source": [
        "scores_dict"
      ],
      "metadata": {
        "colab": {
          "base_uri": "https://localhost:8080/"
        },
        "id": "txnmMxgE7Xtv",
        "outputId": "7d769756-381c-4bb9-c8d3-77f9c2ff3b5e"
      },
      "execution_count": 72,
      "outputs": [
        {
          "output_type": "execute_result",
          "data": {
            "text/plain": [
              "{'roberta-neg': 0.9763551,\n",
              " 'roberta-neu': 0.020687476,\n",
              " 'roberta-pos': 0.0029573715}"
            ]
          },
          "metadata": {},
          "execution_count": 72
        }
      ]
    },
    {
      "cell_type": "code",
      "source": [
        "s=pd.DataFrame(scores_dict,sia.polarity_scores(example))"
      ],
      "metadata": {
        "id": "ipqqYtpe7ag_"
      },
      "execution_count": 75,
      "outputs": []
    },
    {
      "cell_type": "code",
      "source": [
        "s"
      ],
      "metadata": {
        "colab": {
          "base_uri": "https://localhost:8080/",
          "height": 175
        },
        "id": "SyJtCQel7s_v",
        "outputId": "06e91ecd-d0aa-4482-af43-832b4d047886"
      },
      "execution_count": 76,
      "outputs": [
        {
          "output_type": "execute_result",
          "data": {
            "text/plain": [
              "          roberta-neg  roberta-neu  roberta-pos\n",
              "neg          0.976355     0.020687     0.002957\n",
              "neu          0.976355     0.020687     0.002957\n",
              "pos          0.976355     0.020687     0.002957\n",
              "compound     0.976355     0.020687     0.002957"
            ],
            "text/html": [
              "\n",
              "  <div id=\"df-54a513d2-1be9-491c-8e41-41363d8019aa\">\n",
              "    <div class=\"colab-df-container\">\n",
              "      <div>\n",
              "<style scoped>\n",
              "    .dataframe tbody tr th:only-of-type {\n",
              "        vertical-align: middle;\n",
              "    }\n",
              "\n",
              "    .dataframe tbody tr th {\n",
              "        vertical-align: top;\n",
              "    }\n",
              "\n",
              "    .dataframe thead th {\n",
              "        text-align: right;\n",
              "    }\n",
              "</style>\n",
              "<table border=\"1\" class=\"dataframe\">\n",
              "  <thead>\n",
              "    <tr style=\"text-align: right;\">\n",
              "      <th></th>\n",
              "      <th>roberta-neg</th>\n",
              "      <th>roberta-neu</th>\n",
              "      <th>roberta-pos</th>\n",
              "    </tr>\n",
              "  </thead>\n",
              "  <tbody>\n",
              "    <tr>\n",
              "      <th>neg</th>\n",
              "      <td>0.976355</td>\n",
              "      <td>0.020687</td>\n",
              "      <td>0.002957</td>\n",
              "    </tr>\n",
              "    <tr>\n",
              "      <th>neu</th>\n",
              "      <td>0.976355</td>\n",
              "      <td>0.020687</td>\n",
              "      <td>0.002957</td>\n",
              "    </tr>\n",
              "    <tr>\n",
              "      <th>pos</th>\n",
              "      <td>0.976355</td>\n",
              "      <td>0.020687</td>\n",
              "      <td>0.002957</td>\n",
              "    </tr>\n",
              "    <tr>\n",
              "      <th>compound</th>\n",
              "      <td>0.976355</td>\n",
              "      <td>0.020687</td>\n",
              "      <td>0.002957</td>\n",
              "    </tr>\n",
              "  </tbody>\n",
              "</table>\n",
              "</div>\n",
              "      <button class=\"colab-df-convert\" onclick=\"convertToInteractive('df-54a513d2-1be9-491c-8e41-41363d8019aa')\"\n",
              "              title=\"Convert this dataframe to an interactive table.\"\n",
              "              style=\"display:none;\">\n",
              "        \n",
              "  <svg xmlns=\"http://www.w3.org/2000/svg\" height=\"24px\"viewBox=\"0 0 24 24\"\n",
              "       width=\"24px\">\n",
              "    <path d=\"M0 0h24v24H0V0z\" fill=\"none\"/>\n",
              "    <path d=\"M18.56 5.44l.94 2.06.94-2.06 2.06-.94-2.06-.94-.94-2.06-.94 2.06-2.06.94zm-11 1L8.5 8.5l.94-2.06 2.06-.94-2.06-.94L8.5 2.5l-.94 2.06-2.06.94zm10 10l.94 2.06.94-2.06 2.06-.94-2.06-.94-.94-2.06-.94 2.06-2.06.94z\"/><path d=\"M17.41 7.96l-1.37-1.37c-.4-.4-.92-.59-1.43-.59-.52 0-1.04.2-1.43.59L10.3 9.45l-7.72 7.72c-.78.78-.78 2.05 0 2.83L4 21.41c.39.39.9.59 1.41.59.51 0 1.02-.2 1.41-.59l7.78-7.78 2.81-2.81c.8-.78.8-2.07 0-2.86zM5.41 20L4 18.59l7.72-7.72 1.47 1.35L5.41 20z\"/>\n",
              "  </svg>\n",
              "      </button>\n",
              "      \n",
              "  <style>\n",
              "    .colab-df-container {\n",
              "      display:flex;\n",
              "      flex-wrap:wrap;\n",
              "      gap: 12px;\n",
              "    }\n",
              "\n",
              "    .colab-df-convert {\n",
              "      background-color: #E8F0FE;\n",
              "      border: none;\n",
              "      border-radius: 50%;\n",
              "      cursor: pointer;\n",
              "      display: none;\n",
              "      fill: #1967D2;\n",
              "      height: 32px;\n",
              "      padding: 0 0 0 0;\n",
              "      width: 32px;\n",
              "    }\n",
              "\n",
              "    .colab-df-convert:hover {\n",
              "      background-color: #E2EBFA;\n",
              "      box-shadow: 0px 1px 2px rgba(60, 64, 67, 0.3), 0px 1px 3px 1px rgba(60, 64, 67, 0.15);\n",
              "      fill: #174EA6;\n",
              "    }\n",
              "\n",
              "    [theme=dark] .colab-df-convert {\n",
              "      background-color: #3B4455;\n",
              "      fill: #D2E3FC;\n",
              "    }\n",
              "\n",
              "    [theme=dark] .colab-df-convert:hover {\n",
              "      background-color: #434B5C;\n",
              "      box-shadow: 0px 1px 3px 1px rgba(0, 0, 0, 0.15);\n",
              "      filter: drop-shadow(0px 1px 2px rgba(0, 0, 0, 0.3));\n",
              "      fill: #FFFFFF;\n",
              "    }\n",
              "  </style>\n",
              "\n",
              "      <script>\n",
              "        const buttonEl =\n",
              "          document.querySelector('#df-54a513d2-1be9-491c-8e41-41363d8019aa button.colab-df-convert');\n",
              "        buttonEl.style.display =\n",
              "          google.colab.kernel.accessAllowed ? 'block' : 'none';\n",
              "\n",
              "        async function convertToInteractive(key) {\n",
              "          const element = document.querySelector('#df-54a513d2-1be9-491c-8e41-41363d8019aa');\n",
              "          const dataTable =\n",
              "            await google.colab.kernel.invokeFunction('convertToInteractive',\n",
              "                                                     [key], {});\n",
              "          if (!dataTable) return;\n",
              "\n",
              "          const docLinkHtml = 'Like what you see? Visit the ' +\n",
              "            '<a target=\"_blank\" href=https://colab.research.google.com/notebooks/data_table.ipynb>data table notebook</a>'\n",
              "            + ' to learn more about interactive tables.';\n",
              "          element.innerHTML = '';\n",
              "          dataTable['output_type'] = 'display_data';\n",
              "          await google.colab.output.renderOutput(dataTable, element);\n",
              "          const docLink = document.createElement('div');\n",
              "          docLink.innerHTML = docLinkHtml;\n",
              "          element.appendChild(docLink);\n",
              "        }\n",
              "      </script>\n",
              "    </div>\n",
              "  </div>\n",
              "  "
            ]
          },
          "metadata": {},
          "execution_count": 76
        }
      ]
    },
    {
      "cell_type": "code",
      "source": [
        "def polarity_scores_roberta(example):\n",
        "  encoded_text=tokenizer(example,return_tensors='pt')\n",
        "  output=model(**encoded_text)\n",
        "  scores=output[0][0].detach().numpy()\n",
        "  scores=softmax(scores)\n",
        "  scores_dict={\n",
        "    'roberta-neg':scores[0],\n",
        "    'roberta-neu':scores[1],\n",
        "    'roberta-pos':scores[2]\n",
        "    \n",
        "  }\n",
        "  return scores_dict\n",
        "\n"
      ],
      "metadata": {
        "id": "6iEtSRpaCGjN"
      },
      "execution_count": 79,
      "outputs": []
    },
    {
      "cell_type": "code",
      "source": [
        "res={}\n",
        "for i,row in tqdm(df.iterrows(),total=len(df)):\n",
        "  try:\n",
        "    text=row['Text']\n",
        "    myid=row['Id']\n",
        "    vader_result=sia.polarity_scores(text)\n",
        "    vader_result_rename={}\n",
        "    for key,value in vader_result.items():\n",
        "      vader_result_rename[f\"vader_{key}\"]=value\n",
        "    roberta_result=polarity_scores_roberta(text)\n",
        "    both={**vader_result_rename,**roberta_result}\n",
        "    res[myid]=both\n",
        "  except RuntimeError:\n",
        "    print(f'Broke for id {myid}')\n",
        "\n"
      ],
      "metadata": {
        "colab": {
          "base_uri": "https://localhost:8080/",
          "height": 84,
          "referenced_widgets": [
            "b787a01cafe14a6aa6602080d229d097",
            "0b9ff45c3c9a4240b52d675474283dbf",
            "5aa5971076d14ff197f8f38e01095ebf",
            "b1fcf291f7414151ae35e0d2f7b93b24",
            "31d72621708c4077a2c0dc93bdf901b4",
            "ec1507c781424ab993821d31fd2ac1cb",
            "850443d82c8948c2929569961e3b0515",
            "47e304526a1d4a3496c98f8bcc73a97b",
            "ee25f41739314fba8781a64a455c4afd",
            "965cf9282b4d4d39a4d14d4fc4367fff",
            "586834a5b7d54c5d95c06b9b31a15112"
          ]
        },
        "id": "A4k5nsQy7tiW",
        "outputId": "8088918e-7b71-432b-dfac-0134d8de7c98"
      },
      "execution_count": 101,
      "outputs": [
        {
          "output_type": "display_data",
          "data": {
            "text/plain": [
              "  0%|          | 0/500 [00:00<?, ?it/s]"
            ],
            "application/vnd.jupyter.widget-view+json": {
              "version_major": 2,
              "version_minor": 0,
              "model_id": "b787a01cafe14a6aa6602080d229d097"
            }
          },
          "metadata": {}
        },
        {
          "output_type": "stream",
          "name": "stdout",
          "text": [
            "Broke for id 83\n",
            "Broke for id 187\n"
          ]
        }
      ]
    },
    {
      "cell_type": "code",
      "source": [
        "roberta_result"
      ],
      "metadata": {
        "colab": {
          "base_uri": "https://localhost:8080/"
        },
        "id": "FMHs3XFmCAIu",
        "outputId": "d7ab5285-1e37-4eec-b9c3-d91ed72eb37a"
      },
      "execution_count": 82,
      "outputs": [
        {
          "output_type": "execute_result",
          "data": {
            "text/plain": [
              "{'roberta-neg': 0.009624219,\n",
              " 'roberta-neu': 0.049980354,\n",
              " 'roberta-pos': 0.9403955}"
            ]
          },
          "metadata": {},
          "execution_count": 82
        }
      ]
    },
    {
      "cell_type": "code",
      "source": [
        "vader_result_rename"
      ],
      "metadata": {
        "colab": {
          "base_uri": "https://localhost:8080/"
        },
        "id": "Pc330UQkC0y-",
        "outputId": "fdbe1bda-d430-4f37-8495-352128a90fa8"
      },
      "execution_count": 99,
      "outputs": [
        {
          "output_type": "execute_result",
          "data": {
            "text/plain": [
              "{'vader_neg': 0.0,\n",
              " 'vader_neu': 0.695,\n",
              " 'vader_pos': 0.305,\n",
              " 'vader_compound': 0.9441}"
            ]
          },
          "metadata": {},
          "execution_count": 99
        }
      ]
    },
    {
      "cell_type": "code",
      "source": [
        "both"
      ],
      "metadata": {
        "colab": {
          "base_uri": "https://localhost:8080/"
        },
        "id": "3-OVcq0HEZ6p",
        "outputId": "fe6e8940-c1c2-469a-afd7-dce8d7103382"
      },
      "execution_count": 98,
      "outputs": [
        {
          "output_type": "execute_result",
          "data": {
            "text/plain": [
              "{'vader_neg': 0.0,\n",
              " 'vader_neu': 0.695,\n",
              " 'vader_pos': 0.305,\n",
              " 'vader_compound': 0.9441,\n",
              " 'roberta-neg': 0.009624219,\n",
              " 'roberta-neu': 0.049980354,\n",
              " 'roberta-pos': 0.9403955}"
            ]
          },
          "metadata": {},
          "execution_count": 98
        }
      ]
    },
    {
      "cell_type": "code",
      "source": [
        "results_df=pd.DataFrame(res).T\n",
        "results_df=results_df.reset_index().rename(columns={'index':'Id'})\n",
        "results_df=results_df.merge(df,how='left')"
      ],
      "metadata": {
        "id": "1qteG5iJEapl"
      },
      "execution_count": 103,
      "outputs": []
    },
    {
      "cell_type": "code",
      "source": [
        "results_df.head()"
      ],
      "metadata": {
        "colab": {
          "base_uri": "https://localhost:8080/",
          "height": 756
        },
        "id": "U_rDlbgwHteY",
        "outputId": "3118875e-3f35-47c4-d5c7-55d090777637"
      },
      "execution_count": 104,
      "outputs": [
        {
          "output_type": "execute_result",
          "data": {
            "text/plain": [
              "   Id  vader_neg  vader_neu  vader_pos  vader_compound  roberta-neg  \\\n",
              "0   1      0.000      0.695      0.305          0.9441     0.009624   \n",
              "1   2      0.138      0.862      0.000         -0.5664     0.508986   \n",
              "2   3      0.091      0.754      0.155          0.8265     0.003229   \n",
              "3   4      0.000      1.000      0.000          0.0000     0.002295   \n",
              "4   5      0.000      0.552      0.448          0.9468     0.001635   \n",
              "\n",
              "   roberta-neu  roberta-pos   ProductId          UserId  \\\n",
              "0     0.049980     0.940395  B001E4KFG0  A3SGXH7AUHU8GW   \n",
              "1     0.452414     0.038600  B00813GRG4  A1D87F6ZCVE5NK   \n",
              "2     0.098067     0.898704  B000LQOCH0   ABXLMWJIXXAIN   \n",
              "3     0.090219     0.907486  B000UA0QIQ  A395BORC6FGVXV   \n",
              "4     0.010302     0.988063  B006K2ZZ7K  A1UQRSCLF8GW1T   \n",
              "\n",
              "                       ProfileName  HelpfulnessNumerator  \\\n",
              "0                       delmartian                     1   \n",
              "1                           dll pa                     0   \n",
              "2  Natalia Corres \"Natalia Corres\"                     1   \n",
              "3                             Karl                     3   \n",
              "4    Michael D. Bigham \"M. Wassir\"                     0   \n",
              "\n",
              "   HelpfulnessDenominator  Score        Time                Summary  \\\n",
              "0                       1      5  1303862400  Good Quality Dog Food   \n",
              "1                       0      1  1346976000      Not as Advertised   \n",
              "2                       1      4  1219017600  \"Delight\" says it all   \n",
              "3                       3      2  1307923200         Cough Medicine   \n",
              "4                       0      5  1350777600            Great taffy   \n",
              "\n",
              "                                                Text  \n",
              "0  I have bought several of the Vitality canned d...  \n",
              "1  Product arrived labeled as Jumbo Salted Peanut...  \n",
              "2  This is a confection that has been around a fe...  \n",
              "3  If you are looking for the secret ingredient i...  \n",
              "4  Great taffy at a great price.  There was a wid...  "
            ],
            "text/html": [
              "\n",
              "  <div id=\"df-d0d21e5f-a137-4b5a-92b5-fa2f11393c5c\">\n",
              "    <div class=\"colab-df-container\">\n",
              "      <div>\n",
              "<style scoped>\n",
              "    .dataframe tbody tr th:only-of-type {\n",
              "        vertical-align: middle;\n",
              "    }\n",
              "\n",
              "    .dataframe tbody tr th {\n",
              "        vertical-align: top;\n",
              "    }\n",
              "\n",
              "    .dataframe thead th {\n",
              "        text-align: right;\n",
              "    }\n",
              "</style>\n",
              "<table border=\"1\" class=\"dataframe\">\n",
              "  <thead>\n",
              "    <tr style=\"text-align: right;\">\n",
              "      <th></th>\n",
              "      <th>Id</th>\n",
              "      <th>vader_neg</th>\n",
              "      <th>vader_neu</th>\n",
              "      <th>vader_pos</th>\n",
              "      <th>vader_compound</th>\n",
              "      <th>roberta-neg</th>\n",
              "      <th>roberta-neu</th>\n",
              "      <th>roberta-pos</th>\n",
              "      <th>ProductId</th>\n",
              "      <th>UserId</th>\n",
              "      <th>ProfileName</th>\n",
              "      <th>HelpfulnessNumerator</th>\n",
              "      <th>HelpfulnessDenominator</th>\n",
              "      <th>Score</th>\n",
              "      <th>Time</th>\n",
              "      <th>Summary</th>\n",
              "      <th>Text</th>\n",
              "    </tr>\n",
              "  </thead>\n",
              "  <tbody>\n",
              "    <tr>\n",
              "      <th>0</th>\n",
              "      <td>1</td>\n",
              "      <td>0.000</td>\n",
              "      <td>0.695</td>\n",
              "      <td>0.305</td>\n",
              "      <td>0.9441</td>\n",
              "      <td>0.009624</td>\n",
              "      <td>0.049980</td>\n",
              "      <td>0.940395</td>\n",
              "      <td>B001E4KFG0</td>\n",
              "      <td>A3SGXH7AUHU8GW</td>\n",
              "      <td>delmartian</td>\n",
              "      <td>1</td>\n",
              "      <td>1</td>\n",
              "      <td>5</td>\n",
              "      <td>1303862400</td>\n",
              "      <td>Good Quality Dog Food</td>\n",
              "      <td>I have bought several of the Vitality canned d...</td>\n",
              "    </tr>\n",
              "    <tr>\n",
              "      <th>1</th>\n",
              "      <td>2</td>\n",
              "      <td>0.138</td>\n",
              "      <td>0.862</td>\n",
              "      <td>0.000</td>\n",
              "      <td>-0.5664</td>\n",
              "      <td>0.508986</td>\n",
              "      <td>0.452414</td>\n",
              "      <td>0.038600</td>\n",
              "      <td>B00813GRG4</td>\n",
              "      <td>A1D87F6ZCVE5NK</td>\n",
              "      <td>dll pa</td>\n",
              "      <td>0</td>\n",
              "      <td>0</td>\n",
              "      <td>1</td>\n",
              "      <td>1346976000</td>\n",
              "      <td>Not as Advertised</td>\n",
              "      <td>Product arrived labeled as Jumbo Salted Peanut...</td>\n",
              "    </tr>\n",
              "    <tr>\n",
              "      <th>2</th>\n",
              "      <td>3</td>\n",
              "      <td>0.091</td>\n",
              "      <td>0.754</td>\n",
              "      <td>0.155</td>\n",
              "      <td>0.8265</td>\n",
              "      <td>0.003229</td>\n",
              "      <td>0.098067</td>\n",
              "      <td>0.898704</td>\n",
              "      <td>B000LQOCH0</td>\n",
              "      <td>ABXLMWJIXXAIN</td>\n",
              "      <td>Natalia Corres \"Natalia Corres\"</td>\n",
              "      <td>1</td>\n",
              "      <td>1</td>\n",
              "      <td>4</td>\n",
              "      <td>1219017600</td>\n",
              "      <td>\"Delight\" says it all</td>\n",
              "      <td>This is a confection that has been around a fe...</td>\n",
              "    </tr>\n",
              "    <tr>\n",
              "      <th>3</th>\n",
              "      <td>4</td>\n",
              "      <td>0.000</td>\n",
              "      <td>1.000</td>\n",
              "      <td>0.000</td>\n",
              "      <td>0.0000</td>\n",
              "      <td>0.002295</td>\n",
              "      <td>0.090219</td>\n",
              "      <td>0.907486</td>\n",
              "      <td>B000UA0QIQ</td>\n",
              "      <td>A395BORC6FGVXV</td>\n",
              "      <td>Karl</td>\n",
              "      <td>3</td>\n",
              "      <td>3</td>\n",
              "      <td>2</td>\n",
              "      <td>1307923200</td>\n",
              "      <td>Cough Medicine</td>\n",
              "      <td>If you are looking for the secret ingredient i...</td>\n",
              "    </tr>\n",
              "    <tr>\n",
              "      <th>4</th>\n",
              "      <td>5</td>\n",
              "      <td>0.000</td>\n",
              "      <td>0.552</td>\n",
              "      <td>0.448</td>\n",
              "      <td>0.9468</td>\n",
              "      <td>0.001635</td>\n",
              "      <td>0.010302</td>\n",
              "      <td>0.988063</td>\n",
              "      <td>B006K2ZZ7K</td>\n",
              "      <td>A1UQRSCLF8GW1T</td>\n",
              "      <td>Michael D. Bigham \"M. Wassir\"</td>\n",
              "      <td>0</td>\n",
              "      <td>0</td>\n",
              "      <td>5</td>\n",
              "      <td>1350777600</td>\n",
              "      <td>Great taffy</td>\n",
              "      <td>Great taffy at a great price.  There was a wid...</td>\n",
              "    </tr>\n",
              "  </tbody>\n",
              "</table>\n",
              "</div>\n",
              "      <button class=\"colab-df-convert\" onclick=\"convertToInteractive('df-d0d21e5f-a137-4b5a-92b5-fa2f11393c5c')\"\n",
              "              title=\"Convert this dataframe to an interactive table.\"\n",
              "              style=\"display:none;\">\n",
              "        \n",
              "  <svg xmlns=\"http://www.w3.org/2000/svg\" height=\"24px\"viewBox=\"0 0 24 24\"\n",
              "       width=\"24px\">\n",
              "    <path d=\"M0 0h24v24H0V0z\" fill=\"none\"/>\n",
              "    <path d=\"M18.56 5.44l.94 2.06.94-2.06 2.06-.94-2.06-.94-.94-2.06-.94 2.06-2.06.94zm-11 1L8.5 8.5l.94-2.06 2.06-.94-2.06-.94L8.5 2.5l-.94 2.06-2.06.94zm10 10l.94 2.06.94-2.06 2.06-.94-2.06-.94-.94-2.06-.94 2.06-2.06.94z\"/><path d=\"M17.41 7.96l-1.37-1.37c-.4-.4-.92-.59-1.43-.59-.52 0-1.04.2-1.43.59L10.3 9.45l-7.72 7.72c-.78.78-.78 2.05 0 2.83L4 21.41c.39.39.9.59 1.41.59.51 0 1.02-.2 1.41-.59l7.78-7.78 2.81-2.81c.8-.78.8-2.07 0-2.86zM5.41 20L4 18.59l7.72-7.72 1.47 1.35L5.41 20z\"/>\n",
              "  </svg>\n",
              "      </button>\n",
              "      \n",
              "  <style>\n",
              "    .colab-df-container {\n",
              "      display:flex;\n",
              "      flex-wrap:wrap;\n",
              "      gap: 12px;\n",
              "    }\n",
              "\n",
              "    .colab-df-convert {\n",
              "      background-color: #E8F0FE;\n",
              "      border: none;\n",
              "      border-radius: 50%;\n",
              "      cursor: pointer;\n",
              "      display: none;\n",
              "      fill: #1967D2;\n",
              "      height: 32px;\n",
              "      padding: 0 0 0 0;\n",
              "      width: 32px;\n",
              "    }\n",
              "\n",
              "    .colab-df-convert:hover {\n",
              "      background-color: #E2EBFA;\n",
              "      box-shadow: 0px 1px 2px rgba(60, 64, 67, 0.3), 0px 1px 3px 1px rgba(60, 64, 67, 0.15);\n",
              "      fill: #174EA6;\n",
              "    }\n",
              "\n",
              "    [theme=dark] .colab-df-convert {\n",
              "      background-color: #3B4455;\n",
              "      fill: #D2E3FC;\n",
              "    }\n",
              "\n",
              "    [theme=dark] .colab-df-convert:hover {\n",
              "      background-color: #434B5C;\n",
              "      box-shadow: 0px 1px 3px 1px rgba(0, 0, 0, 0.15);\n",
              "      filter: drop-shadow(0px 1px 2px rgba(0, 0, 0, 0.3));\n",
              "      fill: #FFFFFF;\n",
              "    }\n",
              "  </style>\n",
              "\n",
              "      <script>\n",
              "        const buttonEl =\n",
              "          document.querySelector('#df-d0d21e5f-a137-4b5a-92b5-fa2f11393c5c button.colab-df-convert');\n",
              "        buttonEl.style.display =\n",
              "          google.colab.kernel.accessAllowed ? 'block' : 'none';\n",
              "\n",
              "        async function convertToInteractive(key) {\n",
              "          const element = document.querySelector('#df-d0d21e5f-a137-4b5a-92b5-fa2f11393c5c');\n",
              "          const dataTable =\n",
              "            await google.colab.kernel.invokeFunction('convertToInteractive',\n",
              "                                                     [key], {});\n",
              "          if (!dataTable) return;\n",
              "\n",
              "          const docLinkHtml = 'Like what you see? Visit the ' +\n",
              "            '<a target=\"_blank\" href=https://colab.research.google.com/notebooks/data_table.ipynb>data table notebook</a>'\n",
              "            + ' to learn more about interactive tables.';\n",
              "          element.innerHTML = '';\n",
              "          dataTable['output_type'] = 'display_data';\n",
              "          await google.colab.output.renderOutput(dataTable, element);\n",
              "          const docLink = document.createElement('div');\n",
              "          docLink.innerHTML = docLinkHtml;\n",
              "          element.appendChild(docLink);\n",
              "        }\n",
              "      </script>\n",
              "    </div>\n",
              "  </div>\n",
              "  "
            ]
          },
          "metadata": {},
          "execution_count": 104
        }
      ]
    },
    {
      "cell_type": "code",
      "source": [
        "results_df.columns"
      ],
      "metadata": {
        "colab": {
          "base_uri": "https://localhost:8080/"
        },
        "id": "ezxchDVTKef0",
        "outputId": "25f77452-e677-4fbf-a36f-51514a1030d3"
      },
      "execution_count": 105,
      "outputs": [
        {
          "output_type": "execute_result",
          "data": {
            "text/plain": [
              "Index(['Id', 'vader_neg', 'vader_neu', 'vader_pos', 'vader_compound',\n",
              "       'roberta-neg', 'roberta-neu', 'roberta-pos', 'ProductId', 'UserId',\n",
              "       'ProfileName', 'HelpfulnessNumerator', 'HelpfulnessDenominator',\n",
              "       'Score', 'Time', 'Summary', 'Text'],\n",
              "      dtype='object')"
            ]
          },
          "metadata": {},
          "execution_count": 105
        }
      ]
    },
    {
      "cell_type": "code",
      "source": [
        "##Compare scores between models\n",
        "sns.pairplot(data=results_df,\n",
        "             vars=['vader_neg', 'vader_neu', 'vader_pos','roberta-neg', 'roberta-neu', 'roberta-pos'],\n",
        "             hue='Score',\n",
        "             palette='tab10')\n",
        "plt.show()"
      ],
      "metadata": {
        "colab": {
          "base_uri": "https://localhost:8080/",
          "height": 1000
        },
        "id": "D35ya0KIIBzF",
        "outputId": "383e1a3e-d1b7-40bf-fa88-200f93bde9ed"
      },
      "execution_count": 107,
      "outputs": [
        {
          "output_type": "display_data",
          "data": {
            "text/plain": [
              "<Figure size 1122.38x1080 with 42 Axes>"
            ],
            "image/png": "[encoded data removed]"
          },
          "metadata": {
            "needs_background": "light"
          }
        }
      ]
    },
    {
      "cell_type": "code",
      "source": [
        "results_df.query('Score==5').sort_values('roberta-neg',ascending=False)['Text'].values[0]"
      ],
      "metadata": {
        "colab": {
          "base_uri": "https://localhost:8080/",
          "height": 35
        },
        "id": "2qhSzKayMMew",
        "outputId": "bdb61cd4-fd85-4d98-e915-d2949d0b1477"
      },
      "execution_count": 116,
      "outputs": [
        {
          "output_type": "execute_result",
          "data": {
            "text/plain": [
              "'this was sooooo deliscious but too bad i ate em too fast and gained 2 pds! my fault'"
            ],
            "application/vnd.google.colaboratory.intrinsic+json": {
              "type": "string"
            }
          },
          "metadata": {},
          "execution_count": 116
        }
      ]
    },
    {
      "cell_type": "code",
      "source": [
        "results_df.query('Score==5').sort_values('vader_neg',ascending=False)['Text'].values[0]"
      ],
      "metadata": {
        "colab": {
          "base_uri": "https://localhost:8080/",
          "height": 35
        },
        "id": "KGtQUiGwMdRZ",
        "outputId": "98191fcb-32bd-4fa6-db66-ca75ca71f740"
      },
      "execution_count": 117,
      "outputs": [
        {
          "output_type": "execute_result",
          "data": {
            "text/plain": [
              "'this was sooooo deliscious but too bad i ate em too fast and gained 2 pds! my fault'"
            ],
            "application/vnd.google.colaboratory.intrinsic+json": {
              "type": "string"
            }
          },
          "metadata": {},
          "execution_count": 117
        }
      ]
    },
    {
      "cell_type": "code",
      "source": [
        "from transformers import pipeline\n",
        "sent_pipeline=pipeline('sentiment-analysis')"
      ],
      "metadata": {
        "colab": {
          "base_uri": "https://localhost:8080/",
          "height": 200,
          "referenced_widgets": [
            "7e70302c2e9540b3807cdd80cb02c9f0",
            "29872dea3f504d669ad2146c3a79c6c5",
            "626d967a4c48445d895c65caf5eef72c",
            "cfc4a0fd023445ec8051c6ee56510881",
            "3ec759d6b0634570975e48cb86816206",
            "801f558e53e841a0b10c9207390048e8",
            "6cce0e03b55a41cd9971d1ca8488c212",
            "afce174ebc2542cea2b1eb479c7205e8",
            "e023e22e78174ff29735b59ad618a5ff",
            "84517c06a68d40f8a1c5dfa3e0680725",
            "6ab671afa6a34f36bcfb0b7e4be14704",
            "8417155cb15447b495af9a127d63322e",
            "e2f8a8cd302c4e87b9bf44c18b64fbcd",
            "b75436aa53d2488b94468a0e69a1c6bb",
            "d706d114361241038c7d619f56b4dec8",
            "a6a968706852465f92b611f03790c2b7",
            "a572d0360e2149d58dabe86a11e89390",
            "eb521721c06144248e9aaad5ac3254cc",
            "c8a9b796c49d4ef98bcda1fb3fec0864",
            "3031999bee5d49a7bb79928e6de668b2",
            "c55d0f001a5449529c9c3e0c501298bd",
            "23803dcd46dc4d818db18052e3b23933",
            "948e9fedd7b44f7191aa56bb1b482bed",
            "43c5920e078b44d9be8592cee735ad60",
            "6b0757c6f05e4e55aaf307041b30f71c",
            "d8d145f9b7d04565a0c5276a993fbb7d",
            "3f9de4e26a4d44a4bc35593c1c39eb5c",
            "273f118a08ed4a6bbd8ff6cee695ce11",
            "90137d1c2e0e4a009c2f94e1c17ac783",
            "ca821dabb6b84ba0bb3e8315eaeabdf0",
            "b33071a0a6d24a57b079f9acb596cdfe",
            "a19fe4b9c1bb418eaf37d4ba7ad2f501",
            "dce8c14779684f81994b119b45cd8bf5",
            "a786a9c613ee4477bc1af294f6b46d75",
            "f0e7cad9a226443f81c1920dd27ba152",
            "7ec2134c4a934960b4dd7689b7a52558",
            "66da71e8b3324847a7db335ce556ce66",
            "34668b4e87154ceeb3048efb49b0fcd5",
            "ad8b2c5f44c7478da715427f448a34fe",
            "d0128a7040c248efb5c76cdfa196ee40",
            "ba1ab732191241489913a649ab3a6cd6",
            "5595e9836af44f258a3f6e2f6d98303c",
            "0fbdf3e9c4c74004b4aa9b2a5e743277",
            "3adc6f1c1c054ddf9051cfefe4a990f7"
          ]
        },
        "id": "uyz01FJxOoXf",
        "outputId": "53e09f38-5e71-43ac-d2ce-e873e4fc7b94"
      },
      "execution_count": 118,
      "outputs": [
        {
          "output_type": "stream",
          "name": "stderr",
          "text": [
            "No model was supplied, defaulted to distilbert-base-uncased-finetuned-sst-2-english and revision af0f99b (https://huggingface.co/distilbert-base-uncased-finetuned-sst-2-english).\n",
            "Using a pipeline without specifying a model name and revision in production is not recommended.\n"
          ]
        },
        {
          "output_type": "display_data",
          "data": {
            "text/plain": [
              "Downloading:   0%|          | 0.00/629 [00:00<?, ?B/s]"
            ],
            "application/vnd.jupyter.widget-view+json": {
              "version_major": 2,
              "version_minor": 0,
              "model_id": "7e70302c2e9540b3807cdd80cb02c9f0"
            }
          },
          "metadata": {}
        },
        {
          "output_type": "display_data",
          "data": {
            "text/plain": [
              "Downloading:   0%|          | 0.00/268M [00:00<?, ?B/s]"
            ],
            "application/vnd.jupyter.widget-view+json": {
              "version_major": 2,
              "version_minor": 0,
              "model_id": "8417155cb15447b495af9a127d63322e"
            }
          },
          "metadata": {}
        },
        {
          "output_type": "display_data",
          "data": {
            "text/plain": [
              "Downloading:   0%|          | 0.00/48.0 [00:00<?, ?B/s]"
            ],
            "application/vnd.jupyter.widget-view+json": {
              "version_major": 2,
              "version_minor": 0,
              "model_id": "948e9fedd7b44f7191aa56bb1b482bed"
            }
          },
          "metadata": {}
        },
        {
          "output_type": "display_data",
          "data": {
            "text/plain": [
              "Downloading:   0%|          | 0.00/232k [00:00<?, ?B/s]"
            ],
            "application/vnd.jupyter.widget-view+json": {
              "version_major": 2,
              "version_minor": 0,
              "model_id": "a786a9c613ee4477bc1af294f6b46d75"
            }
          },
          "metadata": {}
        }
      ]
    },
    {
      "cell_type": "code",
      "source": [
        "sent_pipeline(\"I love doing sentiment analysis\")"
      ],
      "metadata": {
        "colab": {
          "base_uri": "https://localhost:8080/"
        },
        "id": "G5-IvzziPDQb",
        "outputId": "309a2ed1-83de-4ebb-807a-549b694d6ff6"
      },
      "execution_count": 119,
      "outputs": [
        {
          "output_type": "execute_result",
          "data": {
            "text/plain": [
              "[{'label': 'POSITIVE', 'score': 0.999614953994751}]"
            ]
          },
          "metadata": {},
          "execution_count": 119
        }
      ]
    },
    {
      "cell_type": "code",
      "source": [
        "sent_pipeline(\"boo\")"
      ],
      "metadata": {
        "colab": {
          "base_uri": "https://localhost:8080/"
        },
        "id": "-Z5QHSjYPKw9",
        "outputId": "0ce5ef8a-bb8e-45d5-f3eb-163f34d8706f"
      },
      "execution_count": 120,
      "outputs": [
        {
          "output_type": "execute_result",
          "data": {
            "text/plain": [
              "[{'label': 'NEGATIVE', 'score': 0.9715902209281921}]"
            ]
          },
          "metadata": {},
          "execution_count": 120
        }
      ]
    },
    {
      "cell_type": "code",
      "source": [],
      "metadata": {
        "id": "fTnfWBYlPQVo"
      },
      "execution_count": null,
      "outputs": []
    }
  ]
}