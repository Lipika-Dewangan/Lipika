{
  "nbformat": 4,
  "nbformat_minor": 0,
  "metadata": {
    "colab": {
      "provenance": []
    },
    "kernelspec": {
      "name": "python3",
      "display_name": "Python 3"
    },
    "language_info": {
      "name": "python"
    }
  },
  "cells": [
    {
      "cell_type": "code",
      "metadata": {
        "id": "BXSO2zdNlqX1"
      },
      "source": [
        "import pandas as pd\n",
        "from sklearn.feature_extraction.text import TfidfTransformer\n",
        "from sklearn.feature_extraction.text import CountVectorizer\n",
        "docs=[\"the house had a tiny little mouse \",\n",
        "      \"the cat saw the mouse\",\n",
        "      \"the mouse ran away from the house\",\n",
        "      \"the end of the mouse story\"]\n",
        "      "
      ],
      "execution_count": null,
      "outputs": []
    },
    {
      "cell_type": "code",
      "metadata": {
        "colab": {
          "base_uri": "https://localhost:8080/"
        },
        "id": "qR_fNgORpP7e",
        "outputId": "4888418f-9bc7-43cd-e6ae-d29b34ccdab7"
      },
      "source": [
        "cv=CountVectorizer()\n",
        "word_count_vector=cv.fit(docs)\n",
        "print(word_count_vector)\n",
        "word_count_vector=cv.transform(docs)\n",
        "print(word_count_vector)"
      ],
      "execution_count": null,
      "outputs": [
        {
          "output_type": "stream",
          "text": [
            "CountVectorizer(analyzer='word', binary=False, decode_error='strict',\n",
            "                dtype=<class 'numpy.int64'>, encoding='utf-8', input='content',\n",
            "                lowercase=True, max_df=1.0, max_features=None, min_df=1,\n",
            "                ngram_range=(1, 1), preprocessor=None, stop_words=None,\n",
            "                strip_accents=None, token_pattern='(?u)\\\\b\\\\w\\\\w+\\\\b',\n",
            "                tokenizer=None, vocabulary=None)\n",
            "  (0, 4)\t1\n",
            "  (0, 5)\t1\n",
            "  (0, 6)\t1\n",
            "  (0, 7)\t1\n",
            "  (0, 12)\t1\n",
            "  (0, 13)\t1\n",
            "  (1, 1)\t1\n",
            "  (1, 7)\t1\n",
            "  (1, 10)\t1\n",
            "  (1, 12)\t2\n",
            "  (2, 0)\t1\n",
            "  (2, 3)\t1\n",
            "  (2, 5)\t1\n",
            "  (2, 7)\t1\n",
            "  (2, 9)\t1\n",
            "  (2, 12)\t2\n",
            "  (3, 2)\t1\n",
            "  (3, 7)\t1\n",
            "  (3, 8)\t1\n",
            "  (3, 11)\t1\n",
            "  (3, 12)\t2\n"
          ],
          "name": "stdout"
        }
      ]
    },
    {
      "cell_type": "code",
      "metadata": {
        "colab": {
          "base_uri": "https://localhost:8080/"
        },
        "id": "X5U7c8UPqdhP",
        "outputId": "740eda40-5dd1-4167-cd3a-6f45612a94bf"
      },
      "source": [
        "print(\"final vector\"+str(word_count_vector.toarray()))"
      ],
      "execution_count": null,
      "outputs": [
        {
          "output_type": "stream",
          "text": [
            "final vector[[0 0 0 0 1 1 1 1 0 0 0 0 1 1]\n",
            " [0 1 0 0 0 0 0 1 0 0 1 0 2 0]\n",
            " [1 0 0 1 0 1 0 1 0 1 0 0 2 0]\n",
            " [0 0 1 0 0 0 0 1 1 0 0 1 2 0]]\n"
          ],
          "name": "stdout"
        }
      ]
    },
    {
      "cell_type": "code",
      "metadata": {
        "colab": {
          "base_uri": "https://localhost:8080/"
        },
        "id": "6M9u8CjfrMOk",
        "outputId": "e768b02c-2c79-4856-eba0-b48bf339da4a"
      },
      "source": [
        "print(\"total words count=\",cv.vocabulary_)"
      ],
      "execution_count": null,
      "outputs": [
        {
          "output_type": "stream",
          "text": [
            "total words count= {'the': 12, 'house': 5, 'had': 4, 'tiny': 13, 'little': 6, 'mouse': 7, 'cat': 1, 'saw': 10, 'ran': 9, 'away': 0, 'from': 3, 'end': 2, 'of': 8, 'story': 11}\n"
          ],
          "name": "stdout"
        }
      ]
    },
    {
      "cell_type": "code",
      "metadata": {
        "colab": {
          "base_uri": "https://localhost:8080/"
        },
        "id": "U307cwaz7xl9",
        "outputId": "6a0a6dea-0b0e-46ca-d803-7b2f65e8ed32"
      },
      "source": [
        "print(cv.get_feature_names())"
      ],
      "execution_count": null,
      "outputs": [
        {
          "output_type": "stream",
          "text": [
            "['away', 'cat', 'end', 'from', 'had', 'house', 'little', 'mouse', 'of', 'ran', 'saw', 'story', 'the', 'tiny']\n"
          ],
          "name": "stdout"
        }
      ]
    },
    {
      "cell_type": "code",
      "metadata": {
        "colab": {
          "base_uri": "https://localhost:8080/"
        },
        "id": "igcwNrgt8MwA",
        "outputId": "c3a8e575-2659-49ef-e9b8-189290622546"
      },
      "source": [
        "tfid=TfidfTransformer(smooth_idf=True,use_idf=True)\n",
        "tfid.fit(word_count_vector)\n",
        "print(tfid.idf_)"
      ],
      "execution_count": null,
      "outputs": [
        {
          "output_type": "stream",
          "text": [
            "[1.91629073 1.91629073 1.91629073 1.91629073 1.91629073 1.51082562\n",
            " 1.91629073 1.         1.91629073 1.91629073 1.91629073 1.91629073\n",
            " 1.         1.91629073]\n"
          ],
          "name": "stdout"
        }
      ]
    },
    {
      "cell_type": "code",
      "metadata": {
        "colab": {
          "base_uri": "https://localhost:8080/"
        },
        "id": "Yu_f7M7U9FlJ",
        "outputId": "4d9a7d44-336a-42ea-8a1e-9d2046053d37"
      },
      "source": [
        "tfidf_vector=tfid.transform(word_count_vector)\n",
        "print(tfidf_vector.toarray())"
      ],
      "execution_count": null,
      "outputs": [
        {
          "output_type": "stream",
          "text": [
            "[[0.         0.         0.         0.         0.48992364 0.38626142\n",
            "  0.48992364 0.25566248 0.         0.         0.         0.\n",
            "  0.25566248 0.48992364]\n",
            " [0.         0.54541547 0.         0.         0.         0.\n",
            "  0.         0.28462042 0.         0.         0.54541547 0.\n",
            "  0.56924084 0.        ]\n",
            " [0.44796747 0.         0.         0.44796747 0.         0.3531827\n",
            "  0.         0.23376801 0.         0.44796747 0.         0.\n",
            "  0.46753602 0.        ]\n",
            " [0.         0.         0.47882569 0.         0.         0.\n",
            "  0.         0.24987111 0.47882569 0.         0.         0.47882569\n",
            "  0.49974222 0.        ]]\n"
          ],
          "name": "stdout"
        }
      ]
    }
  ]
}