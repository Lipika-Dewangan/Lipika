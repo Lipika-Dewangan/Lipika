{
  "nbformat": 4,
  "nbformat_minor": 0,
  "metadata": {
    "colab": {
      "provenance": []
    },
    "kernelspec": {
      "name": "python3",
      "display_name": "Python 3"
    },
    "language_info": {
      "name": "python"
    },
    "accelerator": "GPU"
  },
  "cells": [
    {
      "cell_type": "code",
      "metadata": {
        "colab": {
          "base_uri": "https://localhost:8080/"
        },
        "id": "TLlbZwXDvAUZ",
        "outputId": "a9b38f97-3d53-4827-c334-d37555d7fed7"
      },
      "source": [
        "from google.colab import drive\n",
        "drive.mount('/content/drive/')"
      ],
      "execution_count": null,
      "outputs": [
        {
          "output_type": "stream",
          "text": [
            "Mounted at /content/drive/\n"
          ],
          "name": "stdout"
        }
      ]
    },
    {
      "cell_type": "code",
      "metadata": {
        "colab": {
          "base_uri": "https://localhost:8080/"
        },
        "id": "mR6ZHf-pvOXb",
        "outputId": "65bac829-e3a6-4489-de2e-37b5d7faa865"
      },
      "source": [
        "from zipfile import ZipFile\n",
        "file_name = \"/content/drive/My Drive/CovidDataset.zip\"\n",
        "with ZipFile(file_name,'r') as zip:\n",
        "  zip.extractall()\n",
        "  print(\"Completed\")"
      ],
      "execution_count": null,
      "outputs": [
        {
          "output_type": "stream",
          "text": [
            "Completed\n"
          ],
          "name": "stdout"
        }
      ]
    },
    {
      "cell_type": "code",
      "metadata": {
        "id": "yGgVMMQSwA16"
      },
      "source": [
        "from keras.layers import *\n",
        "from keras.models import * \n",
        "import keras as tf"
      ],
      "execution_count": null,
      "outputs": []
    },
    {
      "cell_type": "code",
      "metadata": {
        "id": "JV5_1I3WwjiS"
      },
      "source": [
        "#Training model\n",
        "model = Sequential()   ## creating a blank model\n",
        "model.add(Conv2D(32,kernel_size=(3,3),activation='relu',input_shape=(224,224,3)))\n",
        "model.add(MaxPooling2D(pool_size=(2,2)))\n",
        "\n",
        "model.add(Conv2D(64,(3,3),activation='relu'))\n",
        "model.add(MaxPooling2D(pool_size=(2,2)))\n",
        "model.add(Dropout(0.25))    ### reduce the overfitting or underfitting\n",
        " \n",
        "model.add(Conv2D(64,(3,3),activation='relu'))\n",
        "model.add(MaxPooling2D(pool_size=(2,2)))\n",
        "model.add(Dropout(0.25))\n",
        " \n",
        "model.add(Conv2D(128,(3,3),activation='relu'))\n",
        "model.add(MaxPooling2D(pool_size=(2,2)))\n",
        "model.add(Dropout(0.25))\n",
        " \n",
        "model.add(Flatten())    ### input layer\n",
        "model.add(Dense(64,activation='relu'))    ## hidden layer of ann\n",
        "model.add(Dropout(0.5))\n",
        "model.add(Dense(1,activation='sigmoid'))   ## output layer\n",
        " \n",
        "model.compile(loss='binary_crossentropy',optimizer='adam',metrics=['accuracy'])"
      ],
      "execution_count": null,
      "outputs": []
    },
    {
      "cell_type": "code",
      "metadata": {
        "id": "ZXFrDjecwkrm"
      },
      "source": [
        "#Moulding train images (Image Augmentation)(enlarging the dataset)\n",
        "from tensorflow.keras.preprocessing import image\n",
        "train_datagen = image.ImageDataGenerator(rescale = 1./255, shear_range = 0.2,zoom_range = 0.2, horizontal_flip = True)\n",
        " \n",
        "test_dataset = image.ImageDataGenerator(rescale=1./255)"
      ],
      "execution_count": null,
      "outputs": []
    },
    {
      "cell_type": "code",
      "metadata": {
        "colab": {
          "base_uri": "https://localhost:8080/"
        },
        "id": "gycQcL3Ewlxu",
        "outputId": "0631cf48-5d9a-40a5-c458-73dbb2faf98d"
      },
      "source": [
        "#Reshaping test and validation images \n",
        "train_generator = train_datagen.flow_from_directory(\n",
        "    '/content/CovidDataset/Train',\n",
        "    target_size = (224,224),\n",
        "    batch_size = 32,\n",
        "    class_mode = 'binary')\n",
        "validation_generator = test_dataset.flow_from_directory(\n",
        "    '/content/CovidDataset/Val',\n",
        "    target_size = (224,224),\n",
        "    batch_size = 32,\n",
        "    class_mode = 'binary')"
      ],
      "execution_count": null,
      "outputs": [
        {
          "output_type": "stream",
          "text": [
            "Found 224 images belonging to 2 classes.\n",
            "Found 60 images belonging to 2 classes.\n"
          ],
          "name": "stdout"
        }
      ]
    },
    {
      "cell_type": "code",
      "metadata": {
        "colab": {
          "base_uri": "https://localhost:8080/"
        },
        "id": "A8vGYRmiwm8G",
        "outputId": "b8c024a5-7930-4a37-a2cd-816b019a1314"
      },
      "source": [
        "#### Train the model\n",
        "history = model.fit(\n",
        "    train_generator,\n",
        "    steps_per_epoch=7,\n",
        "    epochs = 50,\n",
        "    validation_data = validation_generator,\n",
        "    validation_steps=1\n",
        ")"
      ],
      "execution_count": null,
      "outputs": [
        {
          "output_type": "stream",
          "text": [
            "Epoch 1/50\n",
            "7/7 [==============================] - 41s 2s/step - loss: 0.7007 - accuracy: 0.5804 - val_loss: 0.6727 - val_accuracy: 0.5312\n",
            "Epoch 2/50\n",
            "7/7 [==============================] - 10s 2s/step - loss: 0.6473 - accuracy: 0.6339 - val_loss: 0.6279 - val_accuracy: 0.5312\n",
            "Epoch 3/50\n",
            "7/7 [==============================] - 10s 2s/step - loss: 0.6387 - accuracy: 0.6250 - val_loss: 0.6423 - val_accuracy: 0.9062\n",
            "Epoch 4/50\n",
            "7/7 [==============================] - 10s 2s/step - loss: 0.4691 - accuracy: 0.8170 - val_loss: 0.2648 - val_accuracy: 0.9062\n",
            "Epoch 5/50\n",
            "7/7 [==============================] - 10s 2s/step - loss: 0.2973 - accuracy: 0.8929 - val_loss: 0.3458 - val_accuracy: 0.8438\n",
            "Epoch 6/50\n",
            "7/7 [==============================] - 10s 1s/step - loss: 0.2130 - accuracy: 0.9196 - val_loss: 0.1660 - val_accuracy: 0.9688\n",
            "Epoch 7/50\n",
            "7/7 [==============================] - 10s 2s/step - loss: 0.1446 - accuracy: 0.9420 - val_loss: 0.0855 - val_accuracy: 1.0000\n",
            "Epoch 8/50\n",
            "7/7 [==============================] - 10s 2s/step - loss: 0.2155 - accuracy: 0.9286 - val_loss: 0.1115 - val_accuracy: 1.0000\n",
            "Epoch 9/50\n",
            "7/7 [==============================] - 10s 2s/step - loss: 0.1482 - accuracy: 0.9598 - val_loss: 0.0644 - val_accuracy: 1.0000\n",
            "Epoch 10/50\n",
            "7/7 [==============================] - 10s 2s/step - loss: 0.1120 - accuracy: 0.9643 - val_loss: 0.0155 - val_accuracy: 1.0000\n",
            "Epoch 11/50\n",
            "7/7 [==============================] - 10s 2s/step - loss: 0.1714 - accuracy: 0.9509 - val_loss: 0.0623 - val_accuracy: 1.0000\n",
            "Epoch 12/50\n",
            "7/7 [==============================] - 10s 1s/step - loss: 0.1415 - accuracy: 0.9464 - val_loss: 0.0792 - val_accuracy: 0.9688\n",
            "Epoch 13/50\n",
            "7/7 [==============================] - 10s 1s/step - loss: 0.0902 - accuracy: 0.9643 - val_loss: 0.0257 - val_accuracy: 1.0000\n",
            "Epoch 14/50\n",
            "7/7 [==============================] - 10s 2s/step - loss: 0.0790 - accuracy: 0.9777 - val_loss: 0.0486 - val_accuracy: 0.9688\n",
            "Epoch 15/50\n",
            "7/7 [==============================] - 10s 2s/step - loss: 0.1129 - accuracy: 0.9688 - val_loss: 0.0042 - val_accuracy: 1.0000\n",
            "Epoch 16/50\n",
            "7/7 [==============================] - 10s 2s/step - loss: 0.1664 - accuracy: 0.9509 - val_loss: 0.0864 - val_accuracy: 0.9688\n",
            "Epoch 17/50\n",
            "7/7 [==============================] - 10s 1s/step - loss: 0.2132 - accuracy: 0.9152 - val_loss: 0.1532 - val_accuracy: 0.9688\n",
            "Epoch 18/50\n",
            "7/7 [==============================] - 10s 2s/step - loss: 0.2152 - accuracy: 0.9330 - val_loss: 0.1488 - val_accuracy: 1.0000\n",
            "Epoch 19/50\n",
            "7/7 [==============================] - 10s 1s/step - loss: 0.1749 - accuracy: 0.9375 - val_loss: 0.0514 - val_accuracy: 1.0000\n",
            "Epoch 20/50\n",
            "7/7 [==============================] - 10s 2s/step - loss: 0.1654 - accuracy: 0.9464 - val_loss: 0.0141 - val_accuracy: 1.0000\n",
            "Epoch 21/50\n",
            "7/7 [==============================] - 10s 2s/step - loss: 0.1217 - accuracy: 0.9464 - val_loss: 0.0388 - val_accuracy: 1.0000\n",
            "Epoch 22/50\n",
            "7/7 [==============================] - 10s 1s/step - loss: 0.1019 - accuracy: 0.9598 - val_loss: 0.0304 - val_accuracy: 1.0000\n",
            "Epoch 23/50\n",
            "7/7 [==============================] - 10s 1s/step - loss: 0.0491 - accuracy: 0.9911 - val_loss: 0.0230 - val_accuracy: 1.0000\n",
            "Epoch 24/50\n",
            "7/7 [==============================] - 10s 2s/step - loss: 0.0713 - accuracy: 0.9821 - val_loss: 0.0296 - val_accuracy: 1.0000\n",
            "Epoch 25/50\n",
            "7/7 [==============================] - 10s 1s/step - loss: 0.0755 - accuracy: 0.9866 - val_loss: 0.0817 - val_accuracy: 0.9375\n",
            "Epoch 26/50\n",
            "7/7 [==============================] - 10s 2s/step - loss: 0.1747 - accuracy: 0.9554 - val_loss: 0.0563 - val_accuracy: 1.0000\n",
            "Epoch 27/50\n",
            "7/7 [==============================] - 10s 2s/step - loss: 0.1932 - accuracy: 0.9509 - val_loss: 0.0880 - val_accuracy: 0.9688\n",
            "Epoch 28/50\n",
            "7/7 [==============================] - 10s 2s/step - loss: 0.1209 - accuracy: 0.9688 - val_loss: 0.0575 - val_accuracy: 0.9688\n",
            "Epoch 29/50\n",
            "7/7 [==============================] - 10s 1s/step - loss: 0.0782 - accuracy: 0.9821 - val_loss: 0.0121 - val_accuracy: 1.0000\n",
            "Epoch 30/50\n",
            "7/7 [==============================] - 10s 2s/step - loss: 0.0885 - accuracy: 0.9643 - val_loss: 0.0638 - val_accuracy: 0.9688\n",
            "Epoch 31/50\n",
            "7/7 [==============================] - 10s 2s/step - loss: 0.1318 - accuracy: 0.9688 - val_loss: 0.0092 - val_accuracy: 1.0000\n",
            "Epoch 32/50\n",
            "7/7 [==============================] - 10s 2s/step - loss: 0.1065 - accuracy: 0.9643 - val_loss: 0.0449 - val_accuracy: 1.0000\n",
            "Epoch 33/50\n",
            "7/7 [==============================] - 11s 2s/step - loss: 0.1025 - accuracy: 0.9643 - val_loss: 0.0071 - val_accuracy: 1.0000\n",
            "Epoch 34/50\n",
            "7/7 [==============================] - 10s 2s/step - loss: 0.0501 - accuracy: 0.9821 - val_loss: 0.0054 - val_accuracy: 1.0000\n",
            "Epoch 35/50\n",
            "7/7 [==============================] - 10s 1s/step - loss: 0.0746 - accuracy: 0.9866 - val_loss: 0.0338 - val_accuracy: 1.0000\n",
            "Epoch 36/50\n",
            "7/7 [==============================] - 10s 2s/step - loss: 0.1431 - accuracy: 0.9598 - val_loss: 0.0625 - val_accuracy: 0.9688\n",
            "Epoch 37/50\n",
            "7/7 [==============================] - 10s 2s/step - loss: 0.2671 - accuracy: 0.9107 - val_loss: 0.0314 - val_accuracy: 1.0000\n",
            "Epoch 38/50\n",
            "7/7 [==============================] - 10s 2s/step - loss: 0.1048 - accuracy: 0.9688 - val_loss: 0.0581 - val_accuracy: 1.0000\n",
            "Epoch 39/50\n",
            "7/7 [==============================] - 10s 2s/step - loss: 0.0850 - accuracy: 0.9688 - val_loss: 0.0427 - val_accuracy: 1.0000\n",
            "Epoch 40/50\n",
            "7/7 [==============================] - 10s 2s/step - loss: 0.0651 - accuracy: 0.9821 - val_loss: 0.0511 - val_accuracy: 0.9688\n",
            "Epoch 41/50\n",
            "7/7 [==============================] - 10s 2s/step - loss: 0.0398 - accuracy: 0.9777 - val_loss: 0.0873 - val_accuracy: 0.9688\n",
            "Epoch 42/50\n",
            "7/7 [==============================] - 10s 1s/step - loss: 0.0787 - accuracy: 0.9643 - val_loss: 0.1912 - val_accuracy: 0.9375\n",
            "Epoch 43/50\n",
            "7/7 [==============================] - 10s 2s/step - loss: 0.1893 - accuracy: 0.9330 - val_loss: 0.0215 - val_accuracy: 1.0000\n",
            "Epoch 44/50\n",
            "7/7 [==============================] - 10s 2s/step - loss: 0.1598 - accuracy: 0.9464 - val_loss: 0.0881 - val_accuracy: 1.0000\n",
            "Epoch 45/50\n",
            "7/7 [==============================] - 10s 1s/step - loss: 0.1005 - accuracy: 0.9732 - val_loss: 0.0502 - val_accuracy: 1.0000\n",
            "Epoch 46/50\n",
            "7/7 [==============================] - 10s 1s/step - loss: 0.1158 - accuracy: 0.9420 - val_loss: 0.0172 - val_accuracy: 1.0000\n",
            "Epoch 47/50\n",
            "7/7 [==============================] - 10s 2s/step - loss: 0.0662 - accuracy: 0.9688 - val_loss: 0.0029 - val_accuracy: 1.0000\n",
            "Epoch 48/50\n",
            "7/7 [==============================] - 10s 2s/step - loss: 0.0456 - accuracy: 0.9732 - val_loss: 0.0390 - val_accuracy: 0.9688\n",
            "Epoch 49/50\n",
            "7/7 [==============================] - 10s 2s/step - loss: 0.0781 - accuracy: 0.9732 - val_loss: 0.0241 - val_accuracy: 1.0000\n",
            "Epoch 50/50\n",
            "7/7 [==============================] - 10s 2s/step - loss: 0.0739 - accuracy: 0.9777 - val_loss: 0.0360 - val_accuracy: 0.9688\n"
          ],
          "name": "stdout"
        }
      ]
    },
    {
      "cell_type": "code",
      "metadata": {
        "id": "PseWnL_5zA9f"
      },
      "source": [
        "### Save the model\n",
        "model.save(\"covid.h5\")"
      ],
      "execution_count": null,
      "outputs": []
    },
    {
      "cell_type": "code",
      "metadata": {
        "id": "LKWuVZAqCF71"
      },
      "source": [
        "### load the model\n",
        "import keras as tf\n",
        "mymodel = tf.models.load_model(\"/content/covid.h5\")"
      ],
      "execution_count": null,
      "outputs": []
    },
    {
      "cell_type": "code",
      "metadata": {
        "colab": {
          "base_uri": "https://localhost:8080/"
        },
        "id": "3pD0y_MuB99Z",
        "outputId": "d00fd809-63e6-435b-91b3-52d97361f5b7"
      },
      "source": [
        "from keras.preprocessing import image\n",
        "import numpy as np\n",
        "img = image.load_img('/content/xray.jpg',target_size=(224,224))\n",
        "img = image.img_to_array(img)  ## extracting the features\n",
        "img = img/255  ## normalizing\n",
        "img = np.expand_dims(img,axis=0)  \n",
        "result = mymodel.predict(img)\n",
        "result = np.round(result)\n",
        "if round(result[0][0]) == 1:\n",
        "  print(\"Covid Negative\")\n",
        "else:\n",
        "  print(\"Covid Positive\")"
      ],
      "execution_count": null,
      "outputs": [
        {
          "output_type": "stream",
          "text": [
            "Covid Positive\n"
          ],
          "name": "stdout"
        }
      ]
    },
    {
      "cell_type": "code",
      "metadata": {
        "colab": {
          "base_uri": "https://localhost:8080/"
        },
        "id": "86QANf2lDyvC",
        "outputId": "00b5720c-819e-4adf-9b8c-5abaa0270933"
      },
      "source": [
        "len(img)"
      ],
      "execution_count": null,
      "outputs": [
        {
          "output_type": "execute_result",
          "data": {
            "text/plain": [
              "1"
            ]
          },
          "metadata": {},
          "execution_count": 25
        }
      ]
    },
    {
      "cell_type": "code",
      "metadata": {
        "id": "_4hOVFxPDhwd"
      },
      "source": [
        "a = np.array([[[1,2,3],[4,5,6],[4,5,5]],[[1,2,3],[4,5,6],[4,5,5]]])\n",
        "a = np.expand_dims(a,axis=0)\n",
        "a  "
      ],
      "execution_count": null,
      "outputs": []
    },
    {
      "cell_type": "code",
      "metadata": {
        "id": "Klebur1CCdos"
      },
      "source": [],
      "execution_count": null,
      "outputs": []
    }
  ]
}